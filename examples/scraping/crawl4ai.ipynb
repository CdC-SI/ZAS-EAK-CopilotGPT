{
 "cells": [
  {
   "cell_type": "code",
   "execution_count": 15,
   "id": "caca4e1b-bad7-42fb-95f5-5cf8b6d0d78e",
   "metadata": {},
   "outputs": [],
   "source": [
    "import asyncio\n",
    "from crawl4ai import *\n",
    "import tiktoken"
   ]
  },
  {
   "cell_type": "code",
   "execution_count": 18,
   "id": "dc572f6b-37bf-4826-8069-0f97db82cf26",
   "metadata": {},
   "outputs": [],
   "source": [
    "tokenizer = tiktoken.encoding_for_model(\"gpt-4o\")"
   ]
  },
  {
   "cell_type": "code",
   "execution_count": 11,
   "id": "36074a05-9ca7-4d71-8d2c-408089dcbaf9",
   "metadata": {},
   "outputs": [],
   "source": [
    "async def main():\n",
    "    async with AsyncWebCrawler() as crawler:\n",
    "        result = await crawler.arun(\n",
    "            url=\"https://sozialversicherungen.admin.ch/fr/\",\n",
    "        )\n",
    "        return result.markdown"
   ]
  },
  {
   "cell_type": "code",
   "execution_count": null,
   "id": "71b4e36d-aace-4936-a700-327cb92b3222",
   "metadata": {},
   "outputs": [],
   "source": [
    "content = await main()"
   ]
  },
  {
   "cell_type": "code",
   "execution_count": null,
   "id": "120b83bf-7c92-441c-a011-60fe070b14c1",
   "metadata": {},
   "outputs": [],
   "source": [
    "print(content)"
   ]
  },
  {
   "cell_type": "code",
   "execution_count": null,
   "id": "c1e9cdf7-93e9-45dc-ae6b-37de6531e1f5",
   "metadata": {},
   "outputs": [],
   "source": [
    "len(tokenizer.encode(content))"
   ]
  },
  {
   "cell_type": "code",
   "execution_count": null,
   "id": "cff4ccb9-c37a-4a0e-bbf4-eba9c7c5c6de",
   "metadata": {},
   "outputs": [],
   "source": [
    "print(content.replace(\"</fr/\", \"\"))"
   ]
  },
  {
   "cell_type": "code",
   "execution_count": null,
   "id": "4413f6fc-68d5-4ec2-afda-dc2320e8a89c",
   "metadata": {},
   "outputs": [],
   "source": []
  }
 ],
 "metadata": {
  "kernelspec": {
   "display_name": "venv_copilot",
   "language": "python",
   "name": "venv_copilot"
  },
  "language_info": {
   "codemirror_mode": {
    "name": "ipython",
    "version": 3
   },
   "file_extension": ".py",
   "mimetype": "text/x-python",
   "name": "python",
   "nbconvert_exporter": "python",
   "pygments_lexer": "ipython3",
   "version": "3.11.10"
  }
 },
 "nbformat": 4,
 "nbformat_minor": 5
}
