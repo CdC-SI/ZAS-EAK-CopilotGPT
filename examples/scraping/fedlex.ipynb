{
 "cells": [
  {
   "cell_type": "code",
   "execution_count": 1,
   "id": "1a911405-2230-4e0f-8b00-87f013f8069f",
   "metadata": {},
   "outputs": [],
   "source": [
    "import os\n",
    "from dotenv import load_dotenv\n",
    "from typing import List\n",
    "import requests\n",
    "import pandas as pd\n",
    "import json\n",
    "from bs4 import BeautifulSoup\n",
    "from docx import Document\n",
    "import tiktoken\n",
    "import openai\n",
    "from pydantic import BaseModel\n",
    "import tqdm\n",
    "import matplotlib.pyplot as plt\n",
    "from selenium import webdriver\n",
    "from selenium.webdriver.common.by import By\n",
    "from selenium.webdriver.support.ui import WebDriverWait\n",
    "from selenium.webdriver.support import expected_conditions as EC\n",
    "\n",
    "from schemas.document import Document\n",
    "from SPARQLWrapper import SPARQLWrapper, JSON"
   ]
  },
  {
   "cell_type": "code",
   "execution_count": 2,
   "id": "78184e4a-d438-40e2-b88d-c8bfa3800c0e",
   "metadata": {},
   "outputs": [],
   "source": [
    "from collections import defaultdict\n",
    "\n",
    "nested_defaultdict = lambda: defaultdict(nested_defaultdict)"
   ]
  },
  {
   "cell_type": "code",
   "execution_count": 7,
   "id": "9c940fa2-3d4d-4b58-8f7b-809b37a5f4c4",
   "metadata": {},
   "outputs": [],
   "source": [
    "load_dotenv()\n",
    "OPENAI_API_KEY = os.environ.get(\"OPENAI_API_KEY\", None)\n",
    "\n",
    "llm_client = openai.AsyncOpenAI(\n",
    "    api_key=OPENAI_API_KEY\n",
    ")"
   ]
  },
  {
   "cell_type": "code",
   "execution_count": null,
   "id": "589dce95-068c-4b00-85ae-34bf6a54f989",
   "metadata": {},
   "outputs": [],
   "source": [
    "tokenizer = tiktoken.encoding_for_model(\"gpt-4o\")\n",
    "driver = webdriver.Firefox()"
   ]
  },
  {
   "cell_type": "code",
   "execution_count": 5,
   "id": "f70edad1-2fa4-4506-836a-7e0c2fa91e8b",
   "metadata": {},
   "outputs": [],
   "source": [
    "urls_xml = [\n",
    "    \"https://www.fedlex.admin.ch/eli/cc/1959/827_857_845/fr\",\n",
    "    \"https://www.fedlex.admin.ch/eli/cc/1961/29_29_29/fr\",\n",
    "    \"https://www.fedlex.admin.ch/eli/cc/2002/510/fr\",\n",
    "    \"https://www.fedlex.admin.ch/eli/cc/2002/569/fr\",\n",
    "    \"https://www.fedlex.admin.ch/eli/cc/63/837_843_843/fr\",\n",
    "    \"https://www.fedlex.admin.ch/eli/cc/63/1185_1183_1185/fr\",\n",
    "    \"https://www.fedlex.admin.ch/eli/cc/1963/37_37_37/fr\",\n",
    "    \"https://www.fedlex.admin.ch/eli/cc/2008/51/fr\",\n",
    "    \"https://www.fedlex.admin.ch/eli/cc/2007/804/fr\",\n",
    "    \"https://www.fedlex.admin.ch/eli/cc/39/55_55_57/fr\",\n",
    "    \"https://www.fedlex.admin.ch/eli/cc/1952/1021_1046_1050/fr\",\n",
    "    \"https://www.fedlex.admin.ch/eli/cc/2005/187/fr\",\n",
    "]\n",
    "\n",
    "urls_pdf = [\n",
    "    \"https://sozialversicherungen.admin.ch/fr/d/6435/download\",\n",
    "    \"https://sozialversicherungen.admin.ch/it/d/6435/download\",\n",
    "    \"https://sozialversicherungen.admin.ch/de/d/6435/download\",\n",
    "    \"https://sozialversicherungen.admin.ch/fr/d/6857/download\",\n",
    "    \"https://sozialversicherungen.admin.ch/it/d/6857/download\",\n",
    "    \"https://sozialversicherungen.admin.ch/de/d/6857/download\",\n",
    "    ]"
   ]
  },
  {
   "cell_type": "code",
   "execution_count": 11,
   "id": "c6d1ef7c-5153-41ce-b989-f0da40ff1026",
   "metadata": {},
   "outputs": [],
   "source": [
    "for url in urls_xml[2:]:\n",
    "    driver.get(url)\n",
    "    table = WebDriverWait(driver, 5).until(\n",
    "        EC.presence_of_element_located((By.CSS_SELECTOR, \"table.table.table-condensed\"))\n",
    "    )\n",
    "    table_html = table.get_attribute(\"outerHTML\")\n",
    "    table_soup = BeautifulSoup(table_html)\n",
    "\n",
    "    for download_link in table_soup.find_all(\"a\"):\n",
    "        if download_link.has_attr(\"href\") and download_link[\"href\"].endswith(\".xml\"):\n",
    "            xml_url = \"https://www.fedlex.admin.ch\" + download_link[\"href\"]\n",
    "            res = requests.get(xml_url)\n",
    "            xml_soup = BeautifulSoup(res.content, features=\"xml\")\n",
    "            break\n",
    "    break"
   ]
  },
  {
   "cell_type": "code",
   "execution_count": null,
   "id": "77fbba6d-3001-4aa3-a8f4-32d50da9e387",
   "metadata": {},
   "outputs": [],
   "source": [
    "xml_url"
   ]
  },
  {
   "cell_type": "code",
   "execution_count": null,
   "id": "dadda218-ac01-4176-b031-328401bea784",
   "metadata": {},
   "outputs": [],
   "source": [
    "xml_soup.find(\"preface\")"
   ]
  },
  {
   "cell_type": "code",
   "execution_count": null,
   "id": "158a1dab-81a6-476a-bb54-590209444825",
   "metadata": {},
   "outputs": [],
   "source": [
    "xml_soup.find(\"preamble\")"
   ]
  },
  {
   "cell_type": "markdown",
   "id": "3572e15f-050a-4096-9afc-1f688e2dc77d",
   "metadata": {},
   "source": [
    "# Document preprocessing"
   ]
  },
  {
   "cell_type": "code",
   "execution_count": 12,
   "id": "7c2f38b8-d696-4fcb-9124-286fe3f8f037",
   "metadata": {},
   "outputs": [],
   "source": [
    "class AugmentMetadataSchema(BaseModel):\n",
    "    summary: str\n",
    "    hyq: List[str]\n",
    "    hyq_declarative: List[str]\n",
    "\n",
    "class AugmentSubtopicsSchema(BaseModel):\n",
    "    subtopics: List[str]\n",
    "\n",
    "metadata_prompt = \"\"\"<purpose>\n",
    "Write a short summary (3-5 sentences) describing the content of the <doc> to facilitate semantic search in language of <doc>.\n",
    "Create 3 HIGH-LEVEL questions which <doc> can precisely answer in language of <doc>.\n",
    "Reformulate the exact 3 questions in a declarative form.\n",
    "</purpose>\n",
    "\n",
    "<response_format>\n",
    "SummarySchema(BaseModel):\n",
    "    summary: str # 3-5 sentence descriptive summary in language of <doc>\n",
    "    hyq: List[str] # 3 declarative questions which <doc> can precisely answer in language of <doc>\n",
    "    hyq_declarative: List[str] # the 3 reformulated questions in declarative form.\n",
    "</response_format>\n",
    "\n",
    "<examples>\n",
    "For hyq_declarative:\n",
    "Quelles dispositions de la LPGA s'appliquent à l'AVS? -> Dispositions de la LPGA s'appliquant à l'AVS\n",
    "La LPGA s'applique-t-elle à l'octroi de subventions pour l'aide à la vieillesse? -> Application de la LPGA à l'octroi de subventions pour l'aide à la vieillesse\n",
    "Quels articles de la LPGA ne s'appliquent pas à l'octroi de subventions pour l'aide à la vieillesse? -> Articles de la LPGA ne s'appliquant pas à l'octroi de subventions pour l'aide à la vieillesse\n",
    "</examples>\n",
    "\n",
    "<doc>\n",
    "{doc}\n",
    "</doc>\n",
    "\"\"\"\n",
    "\n",
    "subtopics_prompt = \"\"\"<purpose>\n",
    "Your purpose is to assign subtopics from the list of available <subtopics> for the following <doc>.\n",
    "Assign 1 or more <subtopics> to the provided <doc> based on it's <text>, <summary>, <tags>, <hyq> and <hyq_declarative> metadata.\n",
    "The selected subtopics should be clearly recognizable in the <doc>.\n",
    "Look at the description of each subtopic to ensure selected subtopics are relevant to the <doc>.\n",
    "The selected subtopics must be related to the <tag>, <text>, <summary>, <hyq>, <declarative_hyq> and provide lower-level (more precise) information about the document content.\n",
    "</purpose>\n",
    "\n",
    "<response_format>\n",
    "SummarySchema(BaseModel):\n",
    "    subtopics: List[str] # 1 or more selected subtopics from provided <subtopics>\n",
    "</response_format>\n",
    "\n",
    "<subtopics>\n",
    "{subtopic_data}\n",
    "</subtopics>\n",
    "\n",
    "<doc>\n",
    "{doc}\n",
    "</doc>\n",
    "\"\"\""
   ]
  },
  {
   "cell_type": "code",
   "execution_count": 13,
   "id": "3e4636bd-87f9-4a80-8f68-24e3b8e2765b",
   "metadata": {},
   "outputs": [],
   "source": [
    "async def create_article_metadata(article):\n",
    "    messages = [{\"role\": \"developer\", \"content\": metadata_prompt.format(doc=article)}]\n",
    "    res = await llm_client.beta.chat.completions.parse(\n",
    "            model=\"gpt-4o\",\n",
    "            temperature=0,\n",
    "            top_p=0.95,\n",
    "            max_tokens=512,\n",
    "            messages=messages,\n",
    "            response_format=AugmentMetadataSchema,\n",
    "        )\n",
    "\n",
    "    summary = res.choices[0].message.parsed.summary\n",
    "    hyq = res.choices[0].message.parsed.hyq\n",
    "    hyq_declarative = res.choices[0].message.parsed.hyq_declarative\n",
    "\n",
    "    return summary, hyq, hyq_declarative\n",
    "\n",
    "async def assign_subtopics(doc, subtopic_data):\n",
    "    subtopics_formatted = \"\\n\\n\".join([f'**{row[\"subtopic\"]}**: {row[\"description\"]}' for i, row in subtopic_data.iterrows()])\n",
    "    messages = [{\"role\": \"developer\", \"content\": subtopics_prompt.format(doc=doc, subtopic_data=subtopics_formatted)}]\n",
    "    res = await llm_client.beta.chat.completions.parse(\n",
    "            model=\"gpt-4o\",\n",
    "            temperature=0,\n",
    "            top_p=0.95,\n",
    "            max_tokens=512,\n",
    "            messages=messages,\n",
    "            response_format=AugmentSubtopicsSchema,\n",
    "        )\n",
    "\n",
    "    subtopics = res.choices[0].message.parsed.subtopics\n",
    "\n",
    "    return subtopics"
   ]
  },
  {
   "cell_type": "code",
   "execution_count": null,
   "id": "90700e0d-9af5-4023-b94b-d2fd4dbd415f",
   "metadata": {},
   "outputs": [],
   "source": [
    "data = nested_defaultdict()\n",
    "tok_len = []\n",
    "docs = []\n",
    "\n",
    "language = url.split(\"/\")[-1]\n",
    "tags = xml_soup.find_all(\"FRBRname\", {\"xml:lang\": language})[0][\"shortForm\"].lower()\n",
    "doc_title = xml_soup.find_all(\"FRBRname\", {\"xml:lang\": language})[0][\"value\"]\n",
    "organizations = \"ZAS,EAK\"\n",
    "\n",
    "subtopic_data = pd.read_csv(f\"indexing/data/glossary/glossary_ahv_iv_{language}_normalized.csv\")\n",
    "\n",
    "for part in tqdm.tqdm(xml_soup.find_all(\"part\")):\n",
    "    part_id = part[\"eId\"]\n",
    "\n",
    "    # Ensure the part exists in the data structure\n",
    "    if part_id not in data:\n",
    "        data[part_id] = {}\n",
    "\n",
    "    # Handle chapters\n",
    "    chapters = part.find_all(\"chapter\")\n",
    "    if chapters:\n",
    "        for chapter in chapters:\n",
    "            chapter_id = chapter.get(\"eId\", \"NO_CHAPTER\")\n",
    "\n",
    "            # Ensure the chapter exists in the part\n",
    "            if chapter_id not in data[part_id]:\n",
    "                data[part_id][chapter_id] = {}\n",
    "\n",
    "            # Handle articles within the chapter\n",
    "            for article in chapter.find_all(\"article\"):\n",
    "                article_id = article[\"eId\"]\n",
    "\n",
    "                article_str = str(article)\n",
    "                data[part_id][chapter_id][article_id] = {\n",
    "                    \"content\": article_str,\n",
    "                    \"n_toks\": len(tokenizer.encode(article_str)),\n",
    "                }\n",
    "\n",
    "                summary, hyq, hyq_declarative = await create_article_metadata(article_str)\n",
    "                doc = {\n",
    "                        \"text\": article_str,\n",
    "                        \"url\": url,\n",
    "                        \"language\": language,\n",
    "                        \"tags\": tags,\n",
    "                        \"summary\": summary,\n",
    "                        \"hyq\": \",\".join(hyq),\n",
    "                        \"hyq_declarative\": \",\".join(hyq_declarative),\n",
    "                        \"doctype\": \"context_doc\",\n",
    "                        \"organization\": organizations,\n",
    "                    }\n",
    "\n",
    "                subtopics = await assign_subtopics(doc, subtopic_data)\n",
    "                doc[\"subtopics\"] = \",\".join(subtopics + [tags])\n",
    "                docs.append(doc)\n",
    "                print(doc[\"subtopics\"])\n",
    "    else:\n",
    "        # No chapters: handle articles directly under the part\n",
    "        chapter_id = \"NO_CHAPTER\"\n",
    "        if chapter_id not in data[part_id]:\n",
    "            data[part_id][chapter_id] = {}\n",
    "\n",
    "        for article in part.find_all(\"article\"):\n",
    "            article_id = article[\"eId\"]\n",
    "\n",
    "            article_str = str(article)\n",
    "            data[part_id][chapter_id][article_id] = {\n",
    "                \"content\": article_str,\n",
    "                \"n_toks\": len(tokenizer.encode(article_str)),\n",
    "            }\n",
    "\n",
    "            summary, hyq, hyq_declarative = await create_article_metadata(article_str)\n",
    "            doc = {\n",
    "                \"text\": article_str,\n",
    "                \"url\": url,\n",
    "                \"language\": language,\n",
    "                \"tags\": tags,\n",
    "                \"summary\": summary,\n",
    "                \"hyq\": \",\".join(hyq),\n",
    "                \"hyq_declarative\": \",\".join(hyq_declarative),\n",
    "                \"doctype\": \"context_doc\",\n",
    "                \"organization\": organizations,\n",
    "            }\n",
    "\n",
    "            subtopics = await assign_subtopics(doc, subtopic_data)\n",
    "            doc[\"subtopics\"] = \",\".join(subtopics + [tags])\n",
    "            docs.append(doc)\n",
    "            print(doc[\"subtopics\"])\n",
    "\n",
    "pd.DataFrame(docs).to_csv(f\"indexing/data/to_upsert/fedlex/{doc_title}_{language}.csv\", index=None)"
   ]
  },
  {
   "cell_type": "markdown",
   "id": "caf36ac5-d9db-480c-8e97-d680edd57a4f",
   "metadata": {},
   "source": [
    "# TO DO:\n",
    "- \\<preamble\\> and \\<preface\\> parsing\n",
    "- dispositions \\<provisio\\> and \\<transitional\\> parsing\n",
    "- table parsing\n"
   ]
  },
  {
   "cell_type": "code",
   "execution_count": null,
   "id": "f15a4d17-fe91-4df6-b5e4-8a4d0291b032",
   "metadata": {},
   "outputs": [],
   "source": []
  },
  {
   "cell_type": "code",
   "execution_count": null,
   "id": "c02e5e27-fdf7-4a8f-936c-bfeaf07a04d4",
   "metadata": {},
   "outputs": [],
   "source": []
  },
  {
   "cell_type": "code",
   "execution_count": null,
   "id": "0afc548d-4a14-42b3-af89-b9a6a86b4eb6",
   "metadata": {},
   "outputs": [],
   "source": []
  },
  {
   "cell_type": "code",
   "execution_count": null,
   "id": "4f309ffc-f7a7-44d0-b20b-af18a9fb4f43",
   "metadata": {},
   "outputs": [],
   "source": []
  },
  {
   "cell_type": "code",
   "execution_count": null,
   "id": "e5a958c3-3a28-47d5-af01-8730bb3f8b65",
   "metadata": {},
   "outputs": [],
   "source": []
  },
  {
   "cell_type": "code",
   "execution_count": null,
   "id": "ab339d8a-f7a8-4c38-be01-c5928ed68a96",
   "metadata": {},
   "outputs": [],
   "source": [
    "len(docs)"
   ]
  },
  {
   "cell_type": "code",
   "execution_count": null,
   "id": "eea2bf08-256e-43db-8f97-bf3221a0b4c0",
   "metadata": {},
   "outputs": [],
   "source": [
    "data.keys()"
   ]
  },
  {
   "cell_type": "code",
   "execution_count": null,
   "id": "495688cc-4232-4beb-b35b-7236f6d405f5",
   "metadata": {},
   "outputs": [],
   "source": [
    "data[\"part_5\"].keys()"
   ]
  },
  {
   "cell_type": "code",
   "execution_count": null,
   "id": "098d28a1-86bf-4333-a096-74a970bb7458",
   "metadata": {},
   "outputs": [],
   "source": [
    "data[\"part_5\"]['NO_CHAPTER'].keys()"
   ]
  },
  {
   "cell_type": "code",
   "execution_count": null,
   "id": "18115ebd-3feb-411e-9522-c5480c28abf1",
   "metadata": {},
   "outputs": [],
   "source": []
  },
  {
   "cell_type": "code",
   "execution_count": null,
   "id": "ee65fa24-b172-4107-8b21-bf0aec8d0a86",
   "metadata": {},
   "outputs": [],
   "source": []
  },
  {
   "cell_type": "code",
   "execution_count": null,
   "id": "ae1835b1-918e-479a-81c0-fd7640bf12f1",
   "metadata": {},
   "outputs": [],
   "source": []
  },
  {
   "cell_type": "markdown",
   "id": "e04bb541-3826-445e-bd9c-fe05ed571a1c",
   "metadata": {},
   "source": [
    "### EDA - Token length"
   ]
  },
  {
   "cell_type": "code",
   "execution_count": null,
   "id": "29fd2f72-d462-4a8b-bc66-1b35aa778f48",
   "metadata": {},
   "outputs": [],
   "source": [
    "df = pd.DataFrame(tok_len, columns=[\"n_toks\"])\n",
    "df.describe()"
   ]
  },
  {
   "cell_type": "code",
   "execution_count": null,
   "id": "ceb717a6-4082-41ea-b2d6-a4fcf926552e",
   "metadata": {},
   "outputs": [],
   "source": [
    "plt.figure(figsize=(8, 4))\n",
    "plt.hist(df['n_toks'], bins=10, edgecolor='black', alpha=0.7)\n",
    "plt.title('Histogram of n_toks in articles')\n",
    "plt.xlabel('Value')\n",
    "plt.ylabel('Frequency')\n",
    "plt.grid(axis='y', linestyle='--', alpha=0.7)\n",
    "plt.show()"
   ]
  },
  {
   "cell_type": "code",
   "execution_count": null,
   "id": "1fdd2f1e-c1e1-4b6d-9885-b3c7f7320888",
   "metadata": {},
   "outputs": [],
   "source": [
    "data"
   ]
  },
  {
   "cell_type": "code",
   "execution_count": null,
   "id": "14b9f22a-b099-4ea1-97de-60239ff3b818",
   "metadata": {},
   "outputs": [],
   "source": []
  },
  {
   "cell_type": "code",
   "execution_count": null,
   "id": "ad919fef-8176-4e46-8f33-1267fae8ed6d",
   "metadata": {},
   "outputs": [],
   "source": []
  },
  {
   "cell_type": "markdown",
   "id": "c1193077-7472-44da-9d27-86e5200c1e36",
   "metadata": {},
   "source": [
    "# --> TO DO: Get all laws"
   ]
  },
  {
   "cell_type": "code",
   "execution_count": null,
   "id": "81ad3850-8090-4da1-adb1-a82934859798",
   "metadata": {},
   "outputs": [],
   "source": [
    "def standardize_category_name(category):\n",
    "    replace_mapping = {\n",
    "        \".\": \"_\",\n",
    "        \":\": \"\",\n",
    "        \"'\": \"_\",\n",
    "        \"’\": \"_\",\n",
    "        '\"': \"\",\n",
    "        \"- \": \" \",\n",
    "        \"-\": \"_\",\n",
    "        \"(\": \"\",\n",
    "        \")\": \"\",\n",
    "        \"/\": \" \",\n",
    "        \" \": \"_\",\n",
    "    }\n",
    "    for old, new in replace_mapping.items():\n",
    "        std_cat = category.replace(old, new)\n",
    "    return std_cat"
   ]
  },
  {
   "cell_type": "code",
   "execution_count": null,
   "id": "9826ec84-5a76-484c-812b-dd790dce50f6",
   "metadata": {},
   "outputs": [],
   "source": [
    "urls = {\n",
    "    \"de\": \"https://www.fedlex.admin.ch/de/cc/internal-law/83\",\n",
    "    \"fr\": \"https://www.fedlex.admin.ch/fr/cc/internal-law/83\",\n",
    "    \"it\": \"https://www.fedlex.admin.ch/it/cc/internal-law/83\"\n",
    "}\n",
    "\n",
    "law_data = nested_defaultdict()\n",
    "\n",
    "for lang, url in urls.items():\n",
    "\n",
    "    driver.get(url)\n",
    "    table = WebDriverWait(driver, 5).until(\n",
    "        EC.presence_of_element_located((By.CSS_SELECTOR, \"table.table.text-left.table-striped\"))\n",
    "    )\n",
    "\n",
    "    table_html = table.get_attribute(\"outerHTML\")\n",
    "    table_soup = BeautifulSoup(table_html)\n",
    "\n",
    "    for tr in table_soup.find_all(\"tr\"):\n",
    "\n",
    "        # set category\n",
    "        if tr.find(\"h2\"):\n",
    "            category = tr.find(\"h2\").text.strip()\n",
    "            #std_category = standardize_category_name(category)\n",
    "        if \"name\" in tr.attrs:\n",
    "            code = tr[\"name\"].strip()\n",
    "\n",
    "        # get links\n",
    "        links = tr.find_all(\"a\")\n",
    "        if links:\n",
    "            for a in links:\n",
    "                doc_name = a.text.strip()\n",
    "                law_data[lang][category][code][doc_name] = \"https://www.fedlex.admin.ch\" + a[\"href\"]\n",
    "\n",
    "\n",
    "with open(f\"indexing/data/to_upsert/fedlex/urls.json\", \"w\", encoding=\"utf-8\") as file:\n",
    "    json.dump(law_data, file, indent=4, ensure_ascii=False)\n",
    "\n",
    "driver.quit()"
   ]
  },
  {
   "cell_type": "markdown",
   "id": "884cd3f2-3972-45d2-99e5-22d5ff7abad1",
   "metadata": {},
   "source": [
    "# Get individual xml/docx content"
   ]
  },
  {
   "cell_type": "code",
   "execution_count": null,
   "id": "9cf7bf44-1afd-4f90-8889-5bd82094a7b8",
   "metadata": {},
   "outputs": [],
   "source": [
    "def get_last_values(nested_dict):\n",
    "    last_values = []\n",
    "\n",
    "    def traverse(dictionary):\n",
    "        if isinstance(dictionary, dict):\n",
    "            for key in dictionary:\n",
    "                traverse(dictionary[key])\n",
    "        else:\n",
    "            last_values.append(dictionary)\n",
    "\n",
    "    traverse(nested_dict)\n",
    "    return last_values"
   ]
  },
  {
   "cell_type": "code",
   "execution_count": null,
   "id": "fac92f66-aa67-45c6-828e-fa4fd03aea21",
   "metadata": {},
   "outputs": [],
   "source": [
    "with open(f\"indexing/data/to_upsert/fedlex/urls.json\", \"r\", encoding=\"utf-8\") as file:\n",
    "    urls = json.load(file)"
   ]
  },
  {
   "cell_type": "code",
   "execution_count": null,
   "id": "7ea6eed9-0a4b-49e3-b0fa-e56b64736759",
   "metadata": {},
   "outputs": [],
   "source": [
    "urls[\"de\"]['830 Allgemeiner Teil des Sozialversicherungsrechts']"
   ]
  },
  {
   "cell_type": "code",
   "execution_count": null,
   "id": "d2ba0570-f5a0-4df8-804e-7fce7233f951",
   "metadata": {},
   "outputs": [],
   "source": [
    "# Define the SPARQL endpoint\n",
    "endpoint_url = \"https://fedlex.data.admin.ch/sparqlendpoint\"\n",
    "\n",
    "# Initialize the SPARQL wrapper\n",
    "sparql = SPARQLWrapper(endpoint_url)\n",
    "\n",
    "# Define your SPARQL query\n",
    "query = \"\"\"\n",
    "PREFIX jolux: <http://data.legilux.public.lu/resource/ontology/jolux#>\n",
    "PREFIX skos: <http://www.w3.org/2004/02/skos/core#>\n",
    "PREFIX xsd: <http://www.w3.org/2001/XMLSchema#>\n",
    "SELECT DISTINCT (str(?srNotation) AS ?rsNr) (str(?dateApplicabilityNode) AS ?dateApplicability) ?title ?abrev ?fileUrl\n",
    "WHERE {\n",
    "  FILTER(?language = <http://publications.europa.eu/resource/authority/language/DEU>)\n",
    "  ?consolidation a jolux:Consolidation .\n",
    "  ?consolidation jolux:dateApplicability ?dateApplicabilityNode .\n",
    "  OPTIONAL { ?consolidation jolux:dateEndApplicability ?dateEndApplicability }\n",
    "  FILTER(xsd:date(?dateApplicabilityNode) <= xsd:date(now()) && (!BOUND(?dateEndApplicability) || xsd:date(?dateEndApplicability) >= xsd:date(now())))\n",
    "  ?consolidation jolux:isRealizedBy ?consoExpr .\n",
    "  ?consoExpr jolux:language ?language .\n",
    "  ?consoExpr jolux:isEmbodiedBy ?consoManif .\n",
    "  ?consoManif jolux:userFormat <https://fedlex.data.admin.ch/vocabulary/user-format/xml> .\n",
    "  ?consoManif jolux:isExemplifiedBy ?fileUrl .\n",
    "  ?consolidation jolux:isMemberOf ?cc .\n",
    "  ?cc jolux:classifiedByTaxonomyEntry/skos:notation ?srNotation .\n",
    "  OPTIONAL { ?cc jolux:dateNoLongerInForce ?ccNoLonger }\n",
    "  OPTIONAL { ?cc jolux:dateEndApplicability ?ccEnd }\n",
    "  FILTER(!BOUND(?ccNoLonger) || xsd:date(?ccNoLonger) > xsd:date(now()))\n",
    "  FILTER(!BOUND(?ccEnd) || xsd:date(?ccEnd) >= xsd:date(now()))\n",
    "  FILTER(datatype(?srNotation) = <https://fedlex.data.admin.ch/vocabulary/notation-type/id-systematique>)\n",
    "  OPTIONAL {\n",
    "    ?cc jolux:isRealizedBy ?ccExpr .\n",
    "    ?ccExpr jolux:language ?language .\n",
    "    ?ccExpr jolux:title ?title .\n",
    "    OPTIONAL {?ccExpr jolux:titleShort ?abrev }\n",
    "  }\n",
    "}\n",
    "ORDER BY ?srNotation\n",
    "\"\"\"\n",
    "\n",
    "# Set the query and the return format\n",
    "sparql.setQuery(query)\n",
    "sparql.setReturnFormat(JSON)\n",
    "\n",
    "# Execute the query and process the results\n",
    "file_urls = []\n",
    "try:\n",
    "    results = sparql.query().convert()\n",
    "    for result in results[\"results\"][\"bindings\"]:\n",
    "        rsNr = result.get(\"rsNr\", {}).get(\"value\", \"\")\n",
    "        dateApplicability = result.get(\"dateApplicability\", {}).get(\"value\", \"\")\n",
    "        title = result.get(\"title\", {}).get(\"value\", \"\")\n",
    "        abrev = result.get(\"abrev\", {}).get(\"value\", \"\")\n",
    "        fileUrl = result.get(\"fileUrl\", {}).get(\"value\", \"\")\n",
    "        file_urls.append(fileUrl)\n",
    "\n",
    "        # Print each result\n",
    "        #print(f\"rsNr: {rsNr}, dateApplicability: {dateApplicability}, title: {title}, abrev: {abrev}, fileUrl: {fileUrl}\")\n",
    "except Exception as e:\n",
    "    print(f\"An error occurred: {e}\")"
   ]
  },
  {
   "cell_type": "code",
   "execution_count": null,
   "id": "0ba06b99-245c-4933-bb82-8c057a859f7f",
   "metadata": {},
   "outputs": [],
   "source": [
    "get_last_values(urls)"
   ]
  },
  {
   "cell_type": "code",
   "execution_count": null,
   "id": "eb7850d0-2547-4709-8e77-4137d681c5e2",
   "metadata": {},
   "outputs": [],
   "source": [
    "\"https://www.fedlex.admin.ch/eli/cc/2002/510/de\".endswith((\"/de\", \"/fr\", \"/it\"))"
   ]
  },
  {
   "cell_type": "code",
   "execution_count": null,
   "id": "07fa8940-d8bb-4094-b054-f9c64f0094bf",
   "metadata": {},
   "outputs": [],
   "source": [
    "target_urls = []\n",
    "i = 0\n",
    "for lang in urls.keys():\n",
    "    for category in urls[lang].keys():\n",
    "        for subcategory in urls[lang][category].keys():\n",
    "            for law, target_url in urls[lang][category][subcategory].items():\n",
    "                i += 1\n",
    "\n",
    "                for url in file_urls:\n",
    "                    if target_url.split(\"https://www.fedlex.admin.ch\")[1].replace(lang, \"\") in url:\n",
    "                        target_urls.append(url)\n",
    "\n",
    "pd.DataFrame(target_urls)"
   ]
  },
  {
   "cell_type": "code",
   "execution_count": null,
   "id": "0219b61f-1401-4ce7-aef3-fc75cb78cffe",
   "metadata": {},
   "outputs": [],
   "source": [
    "i"
   ]
  },
  {
   "cell_type": "code",
   "execution_count": null,
   "id": "ac0f4657-6017-4b65-b24c-1eab702987a9",
   "metadata": {},
   "outputs": [],
   "source": [
    "target_urls[-1]"
   ]
  },
  {
   "cell_type": "code",
   "execution_count": null,
   "id": "4d68fb06-1ed7-44c1-8dad-84ce8ce7bfaa",
   "metadata": {},
   "outputs": [],
   "source": [
    "for law, url in urls[lang][category][subcategory].items():\n",
    "    break"
   ]
  },
  {
   "cell_type": "code",
   "execution_count": null,
   "id": "5bdc1154-7776-474d-b62c-591be66e413c",
   "metadata": {},
   "outputs": [],
   "source": [
    "law"
   ]
  },
  {
   "cell_type": "code",
   "execution_count": null,
   "id": "9c23332b-cdca-499c-8de4-01034f4b5845",
   "metadata": {},
   "outputs": [],
   "source": [
    "url"
   ]
  },
  {
   "cell_type": "code",
   "execution_count": null,
   "id": "ce6bc17a-bec4-44bf-adba-36e70d5191ea",
   "metadata": {},
   "outputs": [],
   "source": []
  },
  {
   "cell_type": "code",
   "execution_count": null,
   "id": "1f48c4fc-e7f6-425a-9459-6b080d28f36a",
   "metadata": {},
   "outputs": [],
   "source": []
  },
  {
   "cell_type": "code",
   "execution_count": null,
   "id": "3e53e951-841f-48d7-8af5-a6de285a70da",
   "metadata": {},
   "outputs": [],
   "source": [
    "fedlex_data = []\n",
    "\n",
    "for target_url in target_urls:\n",
    "    for url in file_urls:\n",
    "        if '/eli/cc/2022/424/it' in url and url.endswith(\".xml\"):\n",
    "            print(\"OK\")\n",
    "            break"
   ]
  },
  {
   "cell_type": "code",
   "execution_count": null,
   "id": "6557ab1f-7d7d-454c-aa41-cd4fac6e5782",
   "metadata": {},
   "outputs": [],
   "source": []
  },
  {
   "cell_type": "code",
   "execution_count": null,
   "id": "e9351b2d-d763-4327-a0d9-7dcc497afb05",
   "metadata": {},
   "outputs": [],
   "source": [
    "for url in file_urls:\n",
    "    if target_url.split(\"https://www.fedlex.admin.ch\")[1].replace(\"it\", \"\") in url:\n",
    "        print(\"OK\")\n",
    "        break"
   ]
  },
  {
   "cell_type": "code",
   "execution_count": null,
   "id": "36d9f526-048b-44a4-a9d1-5ca2c69b9fb7",
   "metadata": {},
   "outputs": [],
   "source": [
    "url"
   ]
  },
  {
   "cell_type": "code",
   "execution_count": null,
   "id": "a8ed43f4-d92a-4cad-944b-f15c2953229d",
   "metadata": {},
   "outputs": [],
   "source": [
    "res = requests.get(url)"
   ]
  },
  {
   "cell_type": "code",
   "execution_count": null,
   "id": "c55f0d39-b231-4bcd-8795-5c57c792c794",
   "metadata": {},
   "outputs": [],
   "source": [
    "soup = BeautifulSoup(res.content)"
   ]
  },
  {
   "cell_type": "code",
   "execution_count": null,
   "id": "49216e96-312f-4d38-941b-068c9015822f",
   "metadata": {},
   "outputs": [],
   "source": [
    "from docx import Document\n",
    "from io import StringIO\n",
    "\n",
    "with open('/Users/kieranschubert/Downloads/fedlex-data-admin-ch-eli-cc-2022-424-20250101-de-docx-4.docx', 'rb') as f:\n",
    "    #source_stream = StringIO(f.read())\n",
    "    document = Document(source_stream)\n",
    "source_stream.close()\n",
    "\n"
   ]
  },
  {
   "cell_type": "code",
   "execution_count": null,
   "id": "c30dfed6-334f-4133-a0a0-f3ad2c0a2634",
   "metadata": {},
   "outputs": [],
   "source": [
    "pwd"
   ]
  },
  {
   "cell_type": "code",
   "execution_count": null,
   "id": "78f65440-6102-4c76-824b-2d0c6865c268",
   "metadata": {},
   "outputs": [],
   "source": []
  },
  {
   "cell_type": "code",
   "execution_count": null,
   "id": "7a8dc305-f6a8-4d5b-92cd-a35e94eed946",
   "metadata": {},
   "outputs": [],
   "source": [
    "res.content"
   ]
  },
  {
   "cell_type": "code",
   "execution_count": null,
   "id": "fc5ef6c2-f777-48d8-8110-2a0f5341158a",
   "metadata": {},
   "outputs": [],
   "source": []
  },
  {
   "cell_type": "code",
   "execution_count": null,
   "id": "015be3b1-4146-41fc-b465-b19a21e070e1",
   "metadata": {},
   "outputs": [],
   "source": []
  },
  {
   "cell_type": "code",
   "execution_count": null,
   "id": "602f2038-e835-4e75-9dbc-3d24c540f227",
   "metadata": {},
   "outputs": [],
   "source": [
    "languages = [\"de\", \"fr\", \"it\"]\n",
    "\n",
    "data = {}\n",
    "for lang in languages:\n",
    "    for category in urls[lang].keys():\n",
    "        for subcategory in urls[lang][category].keys():\n",
    "\n",
    "            (law_name, url), = urls[lang][category][subcategory].items()\n",
    "\n",
    "            # get content\n",
    "            driver.get(url)\n",
    "\n",
    "            download_div = WebDriverWait(driver, 5).until(\n",
    "                EC.presence_of_element_located((By.CSS_SELECTOR, \"div.well.well-white\"))\n",
    "            )\n",
    "            download_div_html = download_div.get_attribute(\"outerHTML\")\n",
    "            soup = BeautifulSoup(download_div_html)\n",
    "\n",
    "            xml_content = []\n",
    "            docx_content = []\n",
    "\n",
    "            for a in soup.find_all(\"a\"):\n",
    "                # get xml\n",
    "                if a.has_attr(\"href\") and a.has_attr(\"download\") and a[\"href\"].endswith(\".xml\"):\n",
    "                    xml_content.append({a[\"download\"]: \"https://www.fedlex.admin.ch\" + a[\"href\"]})\n",
    "\n",
    "                # get docx\n",
    "                elif a.has_attr(\"href\") and a.has_attr(\"download\") and a[\"href\"].endswith(\".docx\"):\n",
    "                    docx_content.append({a[\"download\"]: \"https://www.fedlex.admin.ch\" + a[\"href\"]})\n",
    "                else:\n",
    "                    print(\"NO AVAILABLE DOC FOR: \", url)\n",
    "\n",
    "            break\n",
    "        break\n",
    "    break\n"
   ]
  },
  {
   "cell_type": "code",
   "execution_count": null,
   "id": "c0757c4c-4707-4acd-af9f-5b2cfc82efdd",
   "metadata": {},
   "outputs": [],
   "source": [
    "law_name"
   ]
  },
  {
   "cell_type": "code",
   "execution_count": null,
   "id": "fa9f135c-fb65-4bc0-827f-0dda492463d2",
   "metadata": {},
   "outputs": [],
   "source": [
    "url"
   ]
  },
  {
   "cell_type": "code",
   "execution_count": null,
   "id": "1df2b3ec-7493-4518-9c9b-d36466882a0f",
   "metadata": {},
   "outputs": [],
   "source": [
    "download_div_html"
   ]
  },
  {
   "cell_type": "code",
   "execution_count": null,
   "id": "26200cb4-092b-49d6-8bd3-a7bf6e9b2bad",
   "metadata": {},
   "outputs": [],
   "source": [
    "soup.find_all(\"a\")"
   ]
  },
  {
   "cell_type": "code",
   "execution_count": null,
   "id": "5c3b402a-028e-4e26-bd17-64bfeefdffd8",
   "metadata": {},
   "outputs": [],
   "source": []
  },
  {
   "cell_type": "code",
   "execution_count": null,
   "id": "c043dbbd-801d-4bd6-bc8c-10da519f0ade",
   "metadata": {},
   "outputs": [],
   "source": [
    "xml_content"
   ]
  },
  {
   "cell_type": "code",
   "execution_count": null,
   "id": "01c1de1e-ddcb-49a6-a484-8502e949d8bc",
   "metadata": {},
   "outputs": [],
   "source": [
    "docx_content"
   ]
  },
  {
   "cell_type": "code",
   "execution_count": null,
   "id": "c763b283-899a-4478-8ad3-cc54a50fc88e",
   "metadata": {},
   "outputs": [],
   "source": []
  },
  {
   "cell_type": "code",
   "execution_count": null,
   "id": "72a9eccb-2fad-4947-ab42-b7b772d6e811",
   "metadata": {},
   "outputs": [],
   "source": [
    "res = requests.get(xml_content[0][\"RS-830.1-01012024-FR.xml\"])"
   ]
  },
  {
   "cell_type": "code",
   "execution_count": null,
   "id": "0ded348f-112e-4c0a-8559-4ae5de0f9902",
   "metadata": {},
   "outputs": [],
   "source": [
    "soup = BeautifulSoup(res.content, 'xml')"
   ]
  },
  {
   "cell_type": "code",
   "execution_count": null,
   "id": "6fee0011-0498-478d-8a87-c903a1ff426a",
   "metadata": {},
   "outputs": [],
   "source": [
    "soup.find(\"preface\")"
   ]
  },
  {
   "cell_type": "code",
   "execution_count": null,
   "id": "6ae19e85-b47f-43fd-977b-b5350fbbc1a5",
   "metadata": {},
   "outputs": [],
   "source": [
    "soup.find(\"preamble\")[0].text"
   ]
  },
  {
   "cell_type": "markdown",
   "id": "046e5cf8-0ed2-44d1-9887-aa25519cb388",
   "metadata": {},
   "source": [
    "# Split by chapter"
   ]
  },
  {
   "cell_type": "code",
   "execution_count": null,
   "id": "aeb34ca4-2fdb-4ffc-9540-39ef901b70d6",
   "metadata": {},
   "outputs": [],
   "source": [
    "body = soup.find(\"body\")"
   ]
  },
  {
   "cell_type": "code",
   "execution_count": null,
   "id": "49d3b679-27f0-4f0a-b792-5460b6287b24",
   "metadata": {},
   "outputs": [],
   "source": [
    "for chapter in body.find_all(\"chapter\"):\n",
    "    print(chapter[\"eId\"])\n",
    "    break"
   ]
  },
  {
   "cell_type": "code",
   "execution_count": null,
   "id": "0b36c778-5478-48f6-913c-735bcaf80437",
   "metadata": {},
   "outputs": [],
   "source": [
    "print(\"\\n\".join([str(x) for x in chapter.find_all(\"article\")]))"
   ]
  },
  {
   "cell_type": "code",
   "execution_count": null,
   "id": "02ea596a-f9fd-4968-aa8a-511902eb1674",
   "metadata": {},
   "outputs": [],
   "source": [
    "organization = \"ZAS:ALL,EAK:ALL\"\n",
    "\n",
    "\n",
    "language = None\n",
    "\n",
    "db_document = Document(\n",
    "            url=obj_in.url,\n",
    "            language=language,\n",
    "            text=obj_in.text,\n",
    "            tags=obj_in.tags,\n",
    "            subtopics=obj_in.subtopics,\n",
    "            summary=obj_in.summary,\n",
    "            doctype=obj_in.doctype,\n",
    "            organization=obj_in.organization,\n",
    "        )"
   ]
  }
 ],
 "metadata": {
  "kernelspec": {
   "display_name": "venv_copilot",
   "language": "python",
   "name": "venv_copilot"
  },
  "language_info": {
   "codemirror_mode": {
    "name": "ipython",
    "version": 3
   },
   "file_extension": ".py",
   "mimetype": "text/x-python",
   "name": "python",
   "nbconvert_exporter": "python",
   "pygments_lexer": "ipython3",
   "version": "3.11.10"
  }
 },
 "nbformat": 4,
 "nbformat_minor": 5
}
