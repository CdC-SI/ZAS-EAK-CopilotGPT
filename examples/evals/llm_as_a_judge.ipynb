{
 "cells": [
  {
   "cell_type": "markdown",
   "metadata": {},
   "source": [
    "# Evaluates RAG pipeline responses"
   ]
  },
  {
   "cell_type": "code",
   "execution_count": 3,
   "metadata": {},
   "outputs": [],
   "source": [
    "import re\n",
    "from openai import OpenAI\n",
    "import pandas as pd\n",
    "from tqdm.auto import tqdm\n",
    "\n",
    "tqdm.pandas()  # load tqdm's pandas support\n",
    "pd.set_option(\"display.max_colwidth\", None)\n"
   ]
  },
  {
   "cell_type": "code",
   "execution_count": 10,
   "metadata": {},
   "outputs": [],
   "source": [
    "OPENAI_API_KEY = \"\"\n",
    "\n",
    "client = OpenAI(api_key=OPENAI_API_KEY)"
   ]
  },
  {
   "cell_type": "code",
   "execution_count": 11,
   "metadata": {},
   "outputs": [],
   "source": [
    "\n",
    "JUDGE_PROMPT = \"\"\"\n",
    "You will be given a user_query, rag_answer and gold_answer triples.\n",
    "Your task is to provide a 'total rating' scoring how well the rag_answer answers the user concerns expressed in the user_query, based on the gold_answer (validated gold standard answer).\n",
    "Give your rating on a scale of 1 to 4, where 1 means that the rag_answer is not helpful at all, and 4 means that the rag_answer completely and helpfully addresses the user_query.\n",
    "\n",
    "Here is the scale you should use to build your answer:\n",
    "1: The rag_answer is terrible: completely irrelevant to the question asked, or very partial\n",
    "2: The rag_answer is mostly not helpful: misses some key aspects of the question\n",
    "3: The rag_answer is mostly helpful: provides support, but still could be improved\n",
    "4: The rag_answer is excellent: relevant, direct, detailed, and addresses all the concerns raised in the question\n",
    "\n",
    "Provide your feedback as follows:\n",
    "\n",
    "Feedback:::\n",
    "Evaluation: (your rationale for the rating, as a text)\n",
    "Total rating: (your rating, as a number between 1 and 4)\n",
    "\n",
    "You MUST provide values for 'Evaluation:' and 'Total rating:' in your answer.\n",
    "\n",
    "Now here are the question and answer.\n",
    "\n",
    "user_query: {user_query}\n",
    "gold_answer: {gold_answer}\n",
    "rag_answer: {rag_answer}\n",
    "\n",
    "Provide your feedback. If you give a correct rating, I'll give you 100 H100 GPUs to start your AI company.\n",
    "Feedback:::\n",
    "Evaluation: \"\"\""
   ]
  },
  {
   "cell_type": "code",
   "execution_count": 5,
   "metadata": {},
   "outputs": [],
   "source": [
    "eval_df = pd.read_csv(\"./data/memento_eval_qa_FZ.csv\")"
   ]
  },
  {
   "cell_type": "code",
   "execution_count": 9,
   "metadata": {},
   "outputs": [
    {
     "data": {
      "text/html": [
       "<div>\n",
       "<style scoped>\n",
       "    .dataframe tbody tr th:only-of-type {\n",
       "        vertical-align: middle;\n",
       "    }\n",
       "\n",
       "    .dataframe tbody tr th {\n",
       "        vertical-align: top;\n",
       "    }\n",
       "\n",
       "    .dataframe thead th {\n",
       "        text-align: right;\n",
       "    }\n",
       "</style>\n",
       "<table border=\"1\" class=\"dataframe\">\n",
       "  <thead>\n",
       "    <tr style=\"text-align: right;\">\n",
       "      <th></th>\n",
       "      <th>question</th>\n",
       "      <th>answer</th>\n",
       "    </tr>\n",
       "  </thead>\n",
       "  <tbody>\n",
       "    <tr>\n",
       "      <th>20</th>\n",
       "      <td>Was sind Familienzulagen in der Landwirtschaft</td>\n",
       "      <td>Das Bundesgesetz über die Familienzulagen in der Landwirtschaft (FLG) gilt\\nfür in der Landwirtschaft tätige Personen. Verschiedene Bestimmungen\\ndes Bundesgesetzes über die Familienzulagen (FamZG) sind jedoch auf das\\nFLG anwendbar.\\nWeitere Informationen zum FamZG finden Sie im Merkblatt\\n6.08 – Familienzulagen.\\nAnspruchsberechtigt nach dem FLG sind selbständige Landwirtinnen und\\nLandwirte und Arbeitnehmende in der Landwirtschaft.\\nDie Leistungen entsprechen den Mindestleistungen nach FamZG:\\n• Kinderzulage von 200 Franken pro Kind und Monat\\n(im Berggebiet liegen die Ansätze 20 Franken höher);\\n• Ausbildungszulage von 250 Franken pro Kind und Monat\\n(im Berggebiet liegen die Ansätze 20 Franken höher);\\n• Haushaltungszulage von 100 Franken pro Monat für landwirtschaft-\\nliche Arbeitnehmende.\\nDieses Merkblatt informiert selbständige Landwirtinnen und Landwirte\\nund Arbeitnehmende in der Landwirtschaft über den Anspruch auf Fami-\\nlienzulagen.</td>\n",
       "    </tr>\n",
       "    <tr>\n",
       "      <th>24</th>\n",
       "      <td>Was ist unter «Ausbildung» zu verstehen?</td>\n",
       "      <td>Anspruch auf Ausbildungszulagen besteht bei Ausbildungen, die in der\\nAHV für den Anspruch auf Waisen- und Kinderrenten anerkannt sind.\\nAls nachobligatorische Ausbildung gilt die Ausbildung, die auf die obliga-\\ntorische Schulzeit folgt. Dauer und Ende der obligatorischen Schule richten\\nsich nach den jeweiligen kantonalen Bestimmungen.\\nAls Ausbildung gelten:\\n• der Besuch von Schulen oder Kursen, die der Allgemeinbildung oder\\nder Berufsbildung dienen;\\n• die berufliche Ausbildung im Rahmen eines eigentlichen Lehrverhält-\\nnisses, aber auch eine Tätigkeit ohne speziellen Berufsabschluss, die\\neine systematische Vorbereitung auf eine zukünftige Erwerbstätigkeit\\ndarstellt.\\nNicht als in Ausbildung gilt, wer zur Hauptsache erwerbstätig ist und nur\\nnebenbei eine Schule oder Kurse besucht.\\nKein Anspruch auf Ausbildungszulagen besteht für Jugendliche, deren\\njährliches Bruttoerwerbseinkommen 29 400 Franken übersteigt.</td>\n",
       "    </tr>\n",
       "    <tr>\n",
       "      <th>9</th>\n",
       "      <td>Gibt es Besonderheiten, wenn ich Arbeitnehmerin oder\\nArbeitnehmer bin?</td>\n",
       "      <td>Sie haben auch bei Teilzeitarbeit Anspruch auf die vollen Familienzulagen,\\nsofern Ihr Lohn mindestens 612 Franken im Monat bzw. 7 350 Franken im\\nJahr beträgt. Ist der Lohn geringer, so haben Sie Anspruch auf Familienzu-\\nlagen für Nichterwerbstätige, sofern die Voraussetzungen erfüllt sind.\\nWenn Sie bei verschiedenen Arbeitgebenden beschäftigt sind, werden die\\nLöhne zusammengezählt. Zuständig für die Familienzulagen ist derjenige\\nArbeitgebende, der den höchsten Lohn ausrichtet.\\nIhr Anspruch auf Familienzulagen entsteht und erlischt mit dem Lohn-\\nanspruch. Bei Arbeitsverhinderungen wie Krankheit oder Unfall werden\\nIhnen die Familienzulagen auf jeden Fall während des Monats, in dem\\ndie Arbeitsverhinderung eintritt, und während der drei darauf folgenden\\nMonate ausgerichtet. Sie werden auch während verschiedener Urlaube\\nausgerichtet, zum Beispiel während des Mutterschaftsurlaubs, längstens\\njedoch während 16 Wochen, sowie während des Urlaubs des andern El-\\nternteils, längstens jedoch während zwei Wochen.</td>\n",
       "    </tr>\n",
       "    <tr>\n",
       "      <th>31</th>\n",
       "      <td>Erhalten Kinder im Ausland Familienzulagen?</td>\n",
       "      <td>Familienzulagen werden für Kinder im Ausland nur dann ausgerichtet,\\nwenn die Schweiz aufgrund eines Abkommens über Soziale Sicherheit\\ndazu verpflichtet ist:\\n• An Staatsangehörige von EU- bzw. EFTA-Ländern werden Kinder-,\\nAusbildungs- und Haushaltungszulagen nach dem FLG ausgerich-\\ntet, wenn die Kinder in Ländern der EU- bzw. der EFTA wohnen. An\\nStaatsangehörige von Belgien, Frankreich, Italien, Kroatien, Portugal,\\nSlowenien und Spanien werden die Kinder- und Ausbildungszulagen\\nweltweit exportiert.\\n• An Staatsangehörige von Bosnien-Herzegowina, Montenegro, Nord-\\nmazedonien, San Marino und der Türkei werden die Kinder- und Aus-\\nbildungszulagen weltweit exportiert.\\n• Das neue Abkommen mit dem Vereinigten Königreich, das seit dem\\n1. November 2021 in Kraft ist, erstreckt sich nicht auf Famili-\\nenleistungen; diese können daher grundsätzlich nicht für im\\nVereinigten Königreich lebende Kinder ausbezahlt werden,\\nausser es handelt sich um eine Situation, die unter das Abkommen über die Rechte der Bürgerinnen und Bürger fällt.\\nFür weitere Informationen konsultieren Sie bitte die Website des Bun-\\ndesamtes für Sozialversicherungen (BSV): www.bsv.admin.ch &gt; Sozial-\\nversicherungen &gt; Internationale Sozialversicherung &gt; Austritt des Ver-\\neinigten Königreichs aus der EU (Brexit).\\nBei den Kindern oder Jugendlichen, die die Schweiz zu Ausbildungszwe-\\ncken verlassen, wird davon ausgegangen, dass sie ihren Wohnsitz für\\nlängstens fünf Jahre in der Schweiz behalten. In diesem Fall besteht für sie\\nweiterhin ein Anspruch auf Familienzulagen.</td>\n",
       "    </tr>\n",
       "    <tr>\n",
       "      <th>28</th>\n",
       "      <td>Was ist, wenn mehrere Personen die Voraussetzungen\\nfür den Bezug von Familienzulagen erfüllen?</td>\n",
       "      <td>Für jedes Kind darf nur eine Zulage ausgerichtet werden. Erfüllen mehrere\\nPersonen die Voraussetzungen für den Bezug von Familienzulagen, richtet\\nsich der Anspruch nach der folgenden Rangordnung, die nicht nur zwi-\\nschen Mutter und Vater, sondern auch für andere Berechtigte massgebend\\nist:\\n1. Die erwerbstätige Person.\\n2. Die Person, die die elterliche Sorge innehat oder bis zur Mündigkeit\\ninnehatte.\\n3. Bei gemeinsamer elterlicher Sorge oder wenn keine der berechtigten\\nPersonen die elterliche Sorge hat, ist in erster Linie anspruchsberech-\\ntigt, wer überwiegend mit dem Kind zusammenlebt oder bis zu seiner\\nMündigkeit lebte; bei Trennung oder Scheidung hat deshalb in erster\\nLinie Anspruch, wer das Kind bei sich betreut.\\n4. Leben beide anspruchsberechtigten Personen mit dem Kind zusam-\\nmen, so hat Vorrang, wer im Wohnsitzkanton des Kindes arbeitet.\\n5. Arbeiten beide oder arbeitet keine der anspruchsberechtigten Perso-\\nnen im Wohnsitzkanton des Kindes, so bezieht die Familienzulagen,\\nwer das höhere AHV-pflichtige Einkommen aus einer unselbständigen\\nErwerbstätigkeit hat. Bezieht keiner ein Einkommen aus unselbständi-\\nger Erwerbstätigkeit, so hat Vorrang, wer das höhere Einkommen aus\\nselbständiger Erwerbstätigkeit bezieht.\\nHandelt es sich beim Anspruch der zweitanspruchsberechtigten Person um\\neinen solchen nach dem FLG, besteht Anspruch auf den Differenzbetrag,\\nsofern der für die erstanspruchsberechtigte Person geltende kantonale An-\\nsatz der Familienzulage nach FamZG tiefer liegt als derjenige nach dem\\nFLG.\\nEbenfalls Anspruch auf den Differenzbetrag besteht dann, wenn der\\nErstanspruch beim FLG liegt und der für die zweitanspruchsberechtigte\\nPerson geltende kantonale Ansatz der Familienzulage nach FamZG höher\\nliegt.</td>\n",
       "    </tr>\n",
       "  </tbody>\n",
       "</table>\n",
       "</div>"
      ],
      "text/plain": [
       "                                                                                           question  \\\n",
       "20                                                   Was sind Familienzulagen in der Landwirtschaft   \n",
       "24                                                         Was ist unter «Ausbildung» zu verstehen?   \n",
       "9                           Gibt es Besonderheiten, wenn ich Arbeitnehmerin oder\\nArbeitnehmer bin?   \n",
       "31                                                      Erhalten Kinder im Ausland Familienzulagen?   \n",
       "28  Was ist, wenn mehrere Personen die Voraussetzungen\\nfür den Bezug von Familienzulagen erfüllen?   \n",
       "\n",
       "                                                                                                                                                                                                                                                                                                                                                                                                                                                                                                                                                                                                                                                                                                                                                                                                                                                                                                                                                                                                                                                                                                                                                                                                                                                                                                                                                                                                                                                                                                                                                                                                                                                                                                                                                                                                                                     answer  \n",
       "20                                                                                                                                                                                                                                                                                                                                                                                                                                                                                                                                                                                                                                                                                                                                                                                                                                         Das Bundesgesetz über die Familienzulagen in der Landwirtschaft (FLG) gilt\\nfür in der Landwirtschaft tätige Personen. Verschiedene Bestimmungen\\ndes Bundesgesetzes über die Familienzulagen (FamZG) sind jedoch auf das\\nFLG anwendbar.\\nWeitere Informationen zum FamZG finden Sie im Merkblatt\\n6.08 – Familienzulagen.\\nAnspruchsberechtigt nach dem FLG sind selbständige Landwirtinnen und\\nLandwirte und Arbeitnehmende in der Landwirtschaft.\\nDie Leistungen entsprechen den Mindestleistungen nach FamZG:\\n• Kinderzulage von 200 Franken pro Kind und Monat\\n(im Berggebiet liegen die Ansätze 20 Franken höher);\\n• Ausbildungszulage von 250 Franken pro Kind und Monat\\n(im Berggebiet liegen die Ansätze 20 Franken höher);\\n• Haushaltungszulage von 100 Franken pro Monat für landwirtschaft-\\nliche Arbeitnehmende.\\nDieses Merkblatt informiert selbständige Landwirtinnen und Landwirte\\nund Arbeitnehmende in der Landwirtschaft über den Anspruch auf Fami-\\nlienzulagen.  \n",
       "24                                                                                                                                                                                                                                                                                                                                                                                                                                                                                                                                                                                                                                                                                                                                                                                                                                                                      Anspruch auf Ausbildungszulagen besteht bei Ausbildungen, die in der\\nAHV für den Anspruch auf Waisen- und Kinderrenten anerkannt sind.\\nAls nachobligatorische Ausbildung gilt die Ausbildung, die auf die obliga-\\ntorische Schulzeit folgt. Dauer und Ende der obligatorischen Schule richten\\nsich nach den jeweiligen kantonalen Bestimmungen.\\nAls Ausbildung gelten:\\n• der Besuch von Schulen oder Kursen, die der Allgemeinbildung oder\\nder Berufsbildung dienen;\\n• die berufliche Ausbildung im Rahmen eines eigentlichen Lehrverhält-\\nnisses, aber auch eine Tätigkeit ohne speziellen Berufsabschluss, die\\neine systematische Vorbereitung auf eine zukünftige Erwerbstätigkeit\\ndarstellt.\\nNicht als in Ausbildung gilt, wer zur Hauptsache erwerbstätig ist und nur\\nnebenbei eine Schule oder Kurse besucht.\\nKein Anspruch auf Ausbildungszulagen besteht für Jugendliche, deren\\njährliches Bruttoerwerbseinkommen 29 400 Franken übersteigt.  \n",
       "9                                                                                                                                                                                                                                                                                                                                                                                                                                                                                                                                                                                                                                                                                                                                                                       Sie haben auch bei Teilzeitarbeit Anspruch auf die vollen Familienzulagen,\\nsofern Ihr Lohn mindestens 612 Franken im Monat bzw. 7 350 Franken im\\nJahr beträgt. Ist der Lohn geringer, so haben Sie Anspruch auf Familienzu-\\nlagen für Nichterwerbstätige, sofern die Voraussetzungen erfüllt sind.\\nWenn Sie bei verschiedenen Arbeitgebenden beschäftigt sind, werden die\\nLöhne zusammengezählt. Zuständig für die Familienzulagen ist derjenige\\nArbeitgebende, der den höchsten Lohn ausrichtet.\\nIhr Anspruch auf Familienzulagen entsteht und erlischt mit dem Lohn-\\nanspruch. Bei Arbeitsverhinderungen wie Krankheit oder Unfall werden\\nIhnen die Familienzulagen auf jeden Fall während des Monats, in dem\\ndie Arbeitsverhinderung eintritt, und während der drei darauf folgenden\\nMonate ausgerichtet. Sie werden auch während verschiedener Urlaube\\nausgerichtet, zum Beispiel während des Mutterschaftsurlaubs, längstens\\njedoch während 16 Wochen, sowie während des Urlaubs des andern El-\\nternteils, längstens jedoch während zwei Wochen.  \n",
       "31                                                                                                                                                                                                            Familienzulagen werden für Kinder im Ausland nur dann ausgerichtet,\\nwenn die Schweiz aufgrund eines Abkommens über Soziale Sicherheit\\ndazu verpflichtet ist:\\n• An Staatsangehörige von EU- bzw. EFTA-Ländern werden Kinder-,\\nAusbildungs- und Haushaltungszulagen nach dem FLG ausgerich-\\ntet, wenn die Kinder in Ländern der EU- bzw. der EFTA wohnen. An\\nStaatsangehörige von Belgien, Frankreich, Italien, Kroatien, Portugal,\\nSlowenien und Spanien werden die Kinder- und Ausbildungszulagen\\nweltweit exportiert.\\n• An Staatsangehörige von Bosnien-Herzegowina, Montenegro, Nord-\\nmazedonien, San Marino und der Türkei werden die Kinder- und Aus-\\nbildungszulagen weltweit exportiert.\\n• Das neue Abkommen mit dem Vereinigten Königreich, das seit dem\\n1. November 2021 in Kraft ist, erstreckt sich nicht auf Famili-\\nenleistungen; diese können daher grundsätzlich nicht für im\\nVereinigten Königreich lebende Kinder ausbezahlt werden,\\nausser es handelt sich um eine Situation, die unter das Abkommen über die Rechte der Bürgerinnen und Bürger fällt.\\nFür weitere Informationen konsultieren Sie bitte die Website des Bun-\\ndesamtes für Sozialversicherungen (BSV): www.bsv.admin.ch > Sozial-\\nversicherungen > Internationale Sozialversicherung > Austritt des Ver-\\neinigten Königreichs aus der EU (Brexit).\\nBei den Kindern oder Jugendlichen, die die Schweiz zu Ausbildungszwe-\\ncken verlassen, wird davon ausgegangen, dass sie ihren Wohnsitz für\\nlängstens fünf Jahre in der Schweiz behalten. In diesem Fall besteht für sie\\nweiterhin ein Anspruch auf Familienzulagen.  \n",
       "28  Für jedes Kind darf nur eine Zulage ausgerichtet werden. Erfüllen mehrere\\nPersonen die Voraussetzungen für den Bezug von Familienzulagen, richtet\\nsich der Anspruch nach der folgenden Rangordnung, die nicht nur zwi-\\nschen Mutter und Vater, sondern auch für andere Berechtigte massgebend\\nist:\\n1. Die erwerbstätige Person.\\n2. Die Person, die die elterliche Sorge innehat oder bis zur Mündigkeit\\ninnehatte.\\n3. Bei gemeinsamer elterlicher Sorge oder wenn keine der berechtigten\\nPersonen die elterliche Sorge hat, ist in erster Linie anspruchsberech-\\ntigt, wer überwiegend mit dem Kind zusammenlebt oder bis zu seiner\\nMündigkeit lebte; bei Trennung oder Scheidung hat deshalb in erster\\nLinie Anspruch, wer das Kind bei sich betreut.\\n4. Leben beide anspruchsberechtigten Personen mit dem Kind zusam-\\nmen, so hat Vorrang, wer im Wohnsitzkanton des Kindes arbeitet.\\n5. Arbeiten beide oder arbeitet keine der anspruchsberechtigten Perso-\\nnen im Wohnsitzkanton des Kindes, so bezieht die Familienzulagen,\\nwer das höhere AHV-pflichtige Einkommen aus einer unselbständigen\\nErwerbstätigkeit hat. Bezieht keiner ein Einkommen aus unselbständi-\\nger Erwerbstätigkeit, so hat Vorrang, wer das höhere Einkommen aus\\nselbständiger Erwerbstätigkeit bezieht.\\nHandelt es sich beim Anspruch der zweitanspruchsberechtigten Person um\\neinen solchen nach dem FLG, besteht Anspruch auf den Differenzbetrag,\\nsofern der für die erstanspruchsberechtigte Person geltende kantonale An-\\nsatz der Familienzulage nach FamZG tiefer liegt als derjenige nach dem\\nFLG.\\nEbenfalls Anspruch auf den Differenzbetrag besteht dann, wenn der\\nErstanspruch beim FLG liegt und der für die zweitanspruchsberechtigte\\nPerson geltende kantonale Ansatz der Familienzulage nach FamZG höher\\nliegt.  "
      ]
     },
     "execution_count": 9,
     "metadata": {},
     "output_type": "execute_result"
    }
   ],
   "source": [
    "eval_sample = eval_df[[\"question\", \"answer\"]].sample(5)\n",
    "eval_sample"
   ]
  },
  {
   "cell_type": "code",
   "execution_count": 13,
   "metadata": {},
   "outputs": [
    {
     "name": "stdout",
     "output_type": "stream",
     "text": [
      "HELLO\u001b[1;32mHello, World!\u001b[0mBYBYE\n"
     ]
    }
   ],
   "source": [
    "def highlight(s):\n",
    "\n",
    "    return \"\\x1b[1;32m\" + s + \"\\x1b[0m\"\n",
    "\n",
    "print(\"HELLO\" + highlight(\"Hello, World!\") + \"BYBYE\")"
   ]
  },
  {
   "cell_type": "code",
   "execution_count": null,
   "metadata": {},
   "outputs": [],
   "source": [
    "for i, row in eval_sample.iterrows():\n",
    "\n",
    "    # RAG answer based on a selected RAG pipeline (loaded from config.yaml)\n",
    "    rag_answer = None\n",
    "\n",
    "    openai_eval_prompt = JUDGE_PROMPT.format(user_query=row.question, gold_answer=row.answer, rag_answer=rag_answer)\n",
    "    openai_messages = [{\"role\": \"system\", \"content\": openai_eval_prompt},]\n",
    "\n",
    "    response = client.chat.completions.create(\n",
    "        model=\"gpt-4o-mini\",\n",
    "        messages=openai_messages\n",
    "    )\n",
    "\n",
    "    llm_judge_eval = response.choices[0].message.content\n",
    "\n",
    "    # extract the rating\n"
   ]
  },
  {
   "cell_type": "code",
   "execution_count": null,
   "metadata": {},
   "outputs": [],
   "source": [
    "# plot and save the results"
   ]
  }
 ],
 "metadata": {
  "kernelspec": {
   "display_name": "venv_copilot",
   "language": "python",
   "name": "python3"
  },
  "language_info": {
   "codemirror_mode": {
    "name": "ipython",
    "version": 3
   },
   "file_extension": ".py",
   "mimetype": "text/x-python",
   "name": "python",
   "nbconvert_exporter": "python",
   "pygments_lexer": "ipython3",
   "version": "3.11.7"
  }
 },
 "nbformat": 4,
 "nbformat_minor": 2
}
