{
 "cells": [
  {
   "cell_type": "code",
   "execution_count": null,
   "metadata": {},
   "outputs": [],
   "source": [
    "!pip install -qU semantic-router"
   ]
  },
  {
   "cell_type": "code",
   "execution_count": 73,
   "metadata": {},
   "outputs": [],
   "source": [
    "import os\n",
    "import csv\n",
    "from dotenv import load_dotenv\n",
    "from semantic_router import Route\n",
    "from semantic_router.encoders import CohereEncoder, OpenAIEncoder\n",
    "from semantic_router.layer import RouteLayer\n",
    "import pandas as pd"
   ]
  },
  {
   "cell_type": "code",
   "execution_count": 63,
   "metadata": {},
   "outputs": [],
   "source": [
    "load_dotenv()\n",
    "\n",
    "OPENAI_API_KEY = os.environ[\"OPENAI_API_KEY\"]"
   ]
  },
  {
   "cell_type": "code",
   "execution_count": null,
   "metadata": {},
   "outputs": [],
   "source": [
    "question = pd.read_csv(\"../../src/copilot/app/indexing/data/question.csv\")\n",
    "question.head()"
   ]
  },
  {
   "cell_type": "code",
   "execution_count": 65,
   "metadata": {},
   "outputs": [],
   "source": [
    "# get FAQ topics\n",
    "topics = {\"allgemeines\": [],\n",
    "          \"familienzulagen\": [],}\n",
    "\n",
    "for i, row in question.iterrows():\n",
    "    url = row.url.lower().split(\"/\")\n",
    "\n",
    "    if \"familienzulagen\" in url:\n",
    "        if row.language == \"de\":\n",
    "            topics[\"familienzulagen\"].append((row.text, row.url))\n",
    "    else:\n",
    "        topics[\"allgemeines\"].append((row.text, row.url))"
   ]
  },
  {
   "cell_type": "code",
   "execution_count": null,
   "metadata": {},
   "outputs": [],
   "source": [
    "len(topics[\"familienzulagen\"])"
   ]
  },
  {
   "cell_type": "code",
   "execution_count": null,
   "metadata": {},
   "outputs": [],
   "source": [
    "len(topics[\"allgemeines\"])"
   ]
  },
  {
   "cell_type": "code",
   "execution_count": 68,
   "metadata": {},
   "outputs": [],
   "source": [
    "fz_utterances = pd.read_csv(\"../../src/copilot/app/indexing/data/memento_eval_qa_FZ.csv\")\n",
    "allgemeines_utterances = pd.read_csv(\"../../src/copilot/app/indexing/data/memento_eval_qa_allgemeines.csv\")"
   ]
  },
  {
   "cell_type": "code",
   "execution_count": 69,
   "metadata": {},
   "outputs": [],
   "source": [
    "fz_utterances_q = fz_utterances[\"question\"].to_list()[:-5] + [x[0] for x in topics[\"familienzulagen\"]]\n",
    "allgemeines_utterances_q = allgemeines_utterances[\"question\"].to_list()[:-5] + [x[0] for x in topics[\"allgemeines\"][:-30]]"
   ]
  },
  {
   "cell_type": "code",
   "execution_count": 78,
   "metadata": {},
   "outputs": [],
   "source": [
    "with open('../../src/copilot/app/indexing/data/fz_utterances_q.csv', 'w', newline='', encoding='utf-8') as f:\n",
    "    writer = csv.writer(f)\n",
    "    for s in fz_utterances_q:\n",
    "        writer.writerow([s])\n",
    "\n",
    "with open('../../src/copilot/app/indexing/data/allgemeines_utterances_q.csv', 'w', newline='', encoding='utf-8') as f:\n",
    "    writer = csv.writer(f)\n",
    "    for s in allgemeines_utterances_q:\n",
    "        writer.writerow([s])"
   ]
  },
  {
   "cell_type": "code",
   "execution_count": null,
   "metadata": {},
   "outputs": [],
   "source": [
    "familienzulage = Route(\n",
    "    name=\"familienzulage\",\n",
    "    utterances=fz_utterances_q,\n",
    ")\n",
    "\n",
    "allgemeines = Route(\n",
    "    name=\"allgemeines\",\n",
    "    utterances=allgemeines_utterances_q,\n",
    ")\n",
    "\n",
    "routes = [familienzulage, allgemeines]"
   ]
  },
  {
   "cell_type": "code",
   "execution_count": null,
   "metadata": {},
   "outputs": [],
   "source": [
    "# for Cohere\n",
    "# os.environ[\"COHERE_API_KEY\"] = \"<YOUR_API_KEY>\"\n",
    "# encoder = CohereEncoder()\n",
    "\n",
    "# or for OpenAI\n",
    "encoder = OpenAIEncoder()"
   ]
  },
  {
   "cell_type": "code",
   "execution_count": null,
   "metadata": {},
   "outputs": [],
   "source": [
    "rl = RouteLayer(encoder=encoder, routes=routes)"
   ]
  },
  {
   "cell_type": "code",
   "execution_count": null,
   "metadata": {},
   "outputs": [],
   "source": [
    "# Test\n",
    "rl(\"Was sind Familienzulagen?\")"
   ]
  },
  {
   "cell_type": "code",
   "execution_count": null,
   "metadata": {},
   "outputs": [],
   "source": [
    "rl(\"Was ist, wenn ich selbständig erwerbend bin oder meine Arbeitgeberin oder mein Arbeitgeber nicht beitragspflichtig ist?\")"
   ]
  },
  {
   "cell_type": "code",
   "execution_count": null,
   "metadata": {},
   "outputs": [],
   "source": [
    "rl(\"Wo muss ich mich melden, wenn ich nicht arbeite?\")"
   ]
  },
  {
   "cell_type": "code",
   "execution_count": null,
   "metadata": {},
   "outputs": [],
   "source": [
    "rl(\"Où sont inscrites les bonifications pour tâches d’assistance ?\").name"
   ]
  },
  {
   "cell_type": "code",
   "execution_count": null,
   "metadata": {},
   "outputs": [],
   "source": [
    "rl(\"Quelles informations l’extrait de compte contient-il ?\").name"
   ]
  },
  {
   "cell_type": "code",
   "execution_count": null,
   "metadata": {},
   "outputs": [],
   "source": [
    "rl(topics[\"allgemeines\"][0][0]).name"
   ]
  },
  {
   "cell_type": "code",
   "execution_count": null,
   "metadata": {},
   "outputs": [],
   "source": [
    "preds_fz = []\n",
    "for i, row in fz_utterances[-5:].iterrows():\n",
    "    preds_fz.append(rl(row[\"question\"]).name)\n",
    "\n",
    "preds_allgemeines = []\n",
    "for i, row in allgemeines_utterances[-5:].iterrows():\n",
    "    preds_allgemeines.append(rl(row[\"question\"]).name)\n",
    "\n",
    "for q in [x[0] for x in topics[\"allgemeines\"][-30:]]:\n",
    "    preds_allgemeines.append(rl(q).name)"
   ]
  },
  {
   "cell_type": "code",
   "execution_count": null,
   "metadata": {},
   "outputs": [],
   "source": [
    "sum([x==\"allgemeines\" for x in preds_allgemeines])/len(preds_allgemeines), sum([x==\"familienzulage\" for x in preds_fz])/len(preds_fz)"
   ]
  },
  {
   "cell_type": "code",
   "execution_count": null,
   "metadata": {},
   "outputs": [],
   "source": [
    "# Train data\n",
    "train_fz_utterances = fz_utterances[\"question\"].to_list()[:-5] + [x[0] for x in topics[\"familienzulagen\"]]\n",
    "train_fz_utterances = [(q, \"familienzulage\") for q in train_fz_utterances]\n",
    "train_allgemeines_utterances = allgemeines_utterances[\"question\"].to_list()[:-5] + [x[0] for x in topics[\"allgemeines\"][:-30]]\n",
    "train_allgemeines_utterances = [(q, \"allgemeines\") for q in train_allgemeines_utterances]\n",
    "\n",
    "train_data = train_fz_utterances + train_allgemeines_utterances\n",
    "\n",
    "train_data"
   ]
  },
  {
   "cell_type": "code",
   "execution_count": null,
   "metadata": {},
   "outputs": [],
   "source": [
    "# Test data\n",
    "test_fz_utterances = fz_utterances[\"question\"].to_list()[-5:]\n",
    "test_fz_utterances = [(q, \"familienzulage\") for q in test_fz_utterances]\n",
    "test_allgemeines_utterances = allgemeines_utterances[\"question\"].to_list()[-5:] + [x[0] for x in topics[\"allgemeines\"][-30:]]\n",
    "test_allgemeines_utterances = [(q, \"allgemeines\") for q in test_allgemeines_utterances]\n",
    "\n",
    "test_data = test_fz_utterances + test_allgemeines_utterances\n",
    "\n",
    "test_data"
   ]
  },
  {
   "cell_type": "code",
   "execution_count": null,
   "metadata": {},
   "outputs": [],
   "source": [
    "X_train, y_train = zip(*train_data)\n",
    "X_test, y_test = zip(*test_data)\n",
    "\n",
    "# evaluate using the default thresholds\n",
    "accuracy = rl.evaluate(X=X_test, y=y_test)\n",
    "print(f\"Accuracy: {accuracy*100:.2f}%\")"
   ]
  },
  {
   "cell_type": "code",
   "execution_count": null,
   "metadata": {},
   "outputs": [],
   "source": [
    "route_thresholds = rl.get_thresholds()\n",
    "print(\"Default route thresholds:\", route_thresholds)"
   ]
  },
  {
   "cell_type": "code",
   "execution_count": null,
   "metadata": {},
   "outputs": [],
   "source": [
    "rl.fit(X=X_train, y=y_train)"
   ]
  },
  {
   "cell_type": "code",
   "execution_count": null,
   "metadata": {},
   "outputs": [],
   "source": [
    "route_thresholds = rl.get_thresholds()\n",
    "print(\"Updated route thresholds:\", route_thresholds)"
   ]
  },
  {
   "cell_type": "markdown",
   "metadata": {},
   "source": []
  }
 ],
 "metadata": {
  "kernelspec": {
   "display_name": "venv_copilot",
   "language": "python",
   "name": "python3"
  },
  "language_info": {
   "codemirror_mode": {
    "name": "ipython",
    "version": 3
   },
   "file_extension": ".py",
   "mimetype": "text/x-python",
   "name": "python",
   "nbconvert_exporter": "python",
   "pygments_lexer": "ipython3",
   "version": "3.11.7"
  }
 },
 "nbformat": 4,
 "nbformat_minor": 2
}
