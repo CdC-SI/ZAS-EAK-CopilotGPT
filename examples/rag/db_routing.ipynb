{
 "cells": [
  {
   "cell_type": "code",
   "execution_count": null,
   "metadata": {},
   "outputs": [],
   "source": [
    "!pip install -qU semantic-router"
   ]
  },
  {
   "cell_type": "code",
   "execution_count": 73,
   "metadata": {},
   "outputs": [],
   "source": [
    "import os\n",
    "import csv\n",
    "from dotenv import load_dotenv\n",
    "from semantic_router import Route\n",
    "from semantic_router.encoders import CohereEncoder, OpenAIEncoder\n",
    "from semantic_router.layer import RouteLayer\n",
    "import pandas as pd"
   ]
  },
  {
   "cell_type": "code",
   "execution_count": 63,
   "metadata": {},
   "outputs": [],
   "source": [
    "load_dotenv()\n",
    "\n",
    "OPENAI_API_KEY = os.environ[\"OPENAI_API_KEY\"]"
   ]
  },
  {
   "cell_type": "code",
   "execution_count": 64,
   "metadata": {},
   "outputs": [
    {
     "data": {
      "text/html": [
       "<div>\n",
       "<style scoped>\n",
       "    .dataframe tbody tr th:only-of-type {\n",
       "        vertical-align: middle;\n",
       "    }\n",
       "\n",
       "    .dataframe tbody tr th {\n",
       "        vertical-align: top;\n",
       "    }\n",
       "\n",
       "    .dataframe thead th {\n",
       "        text-align: right;\n",
       "    }\n",
       "</style>\n",
       "<table border=\"1\" class=\"dataframe\">\n",
       "  <thead>\n",
       "    <tr style=\"text-align: right;\">\n",
       "      <th></th>\n",
       "      <th>Unnamed: 0</th>\n",
       "      <th>id</th>\n",
       "      <th>answer_id</th>\n",
       "      <th>source_id</th>\n",
       "      <th>text</th>\n",
       "      <th>embedding</th>\n",
       "      <th>language</th>\n",
       "      <th>url</th>\n",
       "      <th>created_at</th>\n",
       "      <th>modified_at</th>\n",
       "      <th>answer</th>\n",
       "    </tr>\n",
       "  </thead>\n",
       "  <tbody>\n",
       "    <tr>\n",
       "      <th>0</th>\n",
       "      <td>0</td>\n",
       "      <td>6</td>\n",
       "      <td>11</td>\n",
       "      <td>5</td>\n",
       "      <td>Wie bezahle ich die Beiträge als Nichterwerbst...</td>\n",
       "      <td>NaN</td>\n",
       "      <td>de</td>\n",
       "      <td>https://www.eak.admin.ch/eak/de/home/dokumenta...</td>\n",
       "      <td>2024-08-07 07:00:15.368582</td>\n",
       "      <td>2024-08-07 08:20:09.273187</td>\n",
       "      <td>Sie bezahlen für das laufende Beitragsjahr Ako...</td>\n",
       "    </tr>\n",
       "    <tr>\n",
       "      <th>1</th>\n",
       "      <td>1</td>\n",
       "      <td>7</td>\n",
       "      <td>12</td>\n",
       "      <td>5</td>\n",
       "      <td>Jusqu’à quand dois-je payer des cotisations AVS ?</td>\n",
       "      <td>NaN</td>\n",
       "      <td>fr</td>\n",
       "      <td>https://www.eak.admin.ch/eak/fr/home/dokumenta...</td>\n",
       "      <td>2024-08-07 07:00:15.392694</td>\n",
       "      <td>2024-08-07 08:20:09.289416</td>\n",
       "      <td>La réforme AVS 21 instaure un même âge de la r...</td>\n",
       "    </tr>\n",
       "    <tr>\n",
       "      <th>2</th>\n",
       "      <td>2</td>\n",
       "      <td>3</td>\n",
       "      <td>8</td>\n",
       "      <td>2</td>\n",
       "      <td>Ich bin vorpensioniert,mein Partner bzw. meine...</td>\n",
       "      <td>NaN</td>\n",
       "      <td>de</td>\n",
       "      <td>https://www.eak.admin.ch/eak/de/home/dokumenta...</td>\n",
       "      <td>2024-08-07 07:00:15.316838</td>\n",
       "      <td>2024-08-07 07:01:33.537114</td>\n",
       "      <td>Sie müssen nur dann keine eigenen Beiträge bez...</td>\n",
       "    </tr>\n",
       "    <tr>\n",
       "      <th>3</th>\n",
       "      <td>3</td>\n",
       "      <td>8</td>\n",
       "      <td>13</td>\n",
       "      <td>5</td>\n",
       "      <td>Je travaille à temps partiel (moins de 50 %). ...</td>\n",
       "      <td>NaN</td>\n",
       "      <td>fr</td>\n",
       "      <td>https://www.eak.admin.ch/eak/fr/home/dokumenta...</td>\n",
       "      <td>2024-08-07 07:00:15.41004</td>\n",
       "      <td>2024-08-07 08:20:09.304395</td>\n",
       "      <td>Vous n’êtes pas tenu(e) de cotiser si les coti...</td>\n",
       "    </tr>\n",
       "    <tr>\n",
       "      <th>4</th>\n",
       "      <td>4</td>\n",
       "      <td>9</td>\n",
       "      <td>14</td>\n",
       "      <td>2</td>\n",
       "      <td>Je suis préretraité(e),mais mon/ma conjoint(e)...</td>\n",
       "      <td>NaN</td>\n",
       "      <td>fr</td>\n",
       "      <td>https://www.eak.admin.ch/eak/fr/home/dokumenta...</td>\n",
       "      <td>2024-08-07 07:00:15.431566</td>\n",
       "      <td>2024-08-07 07:01:33.537114</td>\n",
       "      <td>Si votre conjoint(e) exerce durablement une ac...</td>\n",
       "    </tr>\n",
       "  </tbody>\n",
       "</table>\n",
       "</div>"
      ],
      "text/plain": [
       "   Unnamed: 0  id  answer_id  source_id  \\\n",
       "0           0   6         11          5   \n",
       "1           1   7         12          5   \n",
       "2           2   3          8          2   \n",
       "3           3   8         13          5   \n",
       "4           4   9         14          2   \n",
       "\n",
       "                                                text  embedding language  \\\n",
       "0  Wie bezahle ich die Beiträge als Nichterwerbst...        NaN       de   \n",
       "1  Jusqu’à quand dois-je payer des cotisations AVS ?        NaN       fr   \n",
       "2  Ich bin vorpensioniert,mein Partner bzw. meine...        NaN       de   \n",
       "3  Je travaille à temps partiel (moins de 50 %). ...        NaN       fr   \n",
       "4  Je suis préretraité(e),mais mon/ma conjoint(e)...        NaN       fr   \n",
       "\n",
       "                                                 url  \\\n",
       "0  https://www.eak.admin.ch/eak/de/home/dokumenta...   \n",
       "1  https://www.eak.admin.ch/eak/fr/home/dokumenta...   \n",
       "2  https://www.eak.admin.ch/eak/de/home/dokumenta...   \n",
       "3  https://www.eak.admin.ch/eak/fr/home/dokumenta...   \n",
       "4  https://www.eak.admin.ch/eak/fr/home/dokumenta...   \n",
       "\n",
       "                   created_at                 modified_at  \\\n",
       "0  2024-08-07 07:00:15.368582  2024-08-07 08:20:09.273187   \n",
       "1  2024-08-07 07:00:15.392694  2024-08-07 08:20:09.289416   \n",
       "2  2024-08-07 07:00:15.316838  2024-08-07 07:01:33.537114   \n",
       "3   2024-08-07 07:00:15.41004  2024-08-07 08:20:09.304395   \n",
       "4  2024-08-07 07:00:15.431566  2024-08-07 07:01:33.537114   \n",
       "\n",
       "                                              answer  \n",
       "0  Sie bezahlen für das laufende Beitragsjahr Ako...  \n",
       "1  La réforme AVS 21 instaure un même âge de la r...  \n",
       "2  Sie müssen nur dann keine eigenen Beiträge bez...  \n",
       "3  Vous n’êtes pas tenu(e) de cotiser si les coti...  \n",
       "4  Si votre conjoint(e) exerce durablement une ac...  "
      ]
     },
     "execution_count": 64,
     "metadata": {},
     "output_type": "execute_result"
    }
   ],
   "source": [
    "question = pd.read_csv(\"../../src/copilot/app/indexing/data/question.csv\")\n",
    "question.head()"
   ]
  },
  {
   "cell_type": "code",
   "execution_count": 65,
   "metadata": {},
   "outputs": [],
   "source": [
    "# get FAQ topics\n",
    "topics = {\"allgemeines\": [],\n",
    "          \"familienzulagen\": [],}\n",
    "\n",
    "for i, row in question.iterrows():\n",
    "    url = row.url.lower().split(\"/\")\n",
    "\n",
    "    if \"familienzulagen\" in url:\n",
    "        if row.language == \"de\":\n",
    "            topics[\"familienzulagen\"].append((row.text, row.url))\n",
    "    else:\n",
    "        topics[\"allgemeines\"].append((row.text, row.url))"
   ]
  },
  {
   "cell_type": "code",
   "execution_count": 66,
   "metadata": {},
   "outputs": [
    {
     "data": {
      "text/plain": [
       "42"
      ]
     },
     "execution_count": 66,
     "metadata": {},
     "output_type": "execute_result"
    }
   ],
   "source": [
    "len(topics[\"familienzulagen\"])"
   ]
  },
  {
   "cell_type": "code",
   "execution_count": 67,
   "metadata": {},
   "outputs": [
    {
     "data": {
      "text/plain": [
       "1064"
      ]
     },
     "execution_count": 67,
     "metadata": {},
     "output_type": "execute_result"
    }
   ],
   "source": [
    "len(topics[\"allgemeines\"])"
   ]
  },
  {
   "cell_type": "code",
   "execution_count": 68,
   "metadata": {},
   "outputs": [],
   "source": [
    "fz_utterances = pd.read_csv(\"../../src/copilot/app/indexing/data/memento_eval_qa_FZ.csv\")\n",
    "allgemeines_utterances = pd.read_csv(\"../../src/copilot/app/indexing/data/memento_eval_qa_allgemeines.csv\")"
   ]
  },
  {
   "cell_type": "code",
   "execution_count": 69,
   "metadata": {},
   "outputs": [],
   "source": [
    "fz_utterances_q = fz_utterances[\"question\"].to_list()[:-5] + [x[0] for x in topics[\"familienzulagen\"]]\n",
    "allgemeines_utterances_q = allgemeines_utterances[\"question\"].to_list()[:-5] + [x[0] for x in topics[\"allgemeines\"][:-30]]"
   ]
  },
  {
   "cell_type": "code",
   "execution_count": 78,
   "metadata": {},
   "outputs": [],
   "source": [
    "with open('../../src/copilot/app/indexing/data/fz_utterances_q.csv', 'w', newline='', encoding='utf-8') as f:\n",
    "    writer = csv.writer(f)\n",
    "    for s in fz_utterances_q:\n",
    "        writer.writerow([s])\n",
    "\n",
    "with open('../../src/copilot/app/indexing/data/allgemeines_utterances_q.csv', 'w', newline='', encoding='utf-8') as f:\n",
    "    writer = csv.writer(f)\n",
    "    for s in allgemeines_utterances_q:\n",
    "        writer.writerow([s])"
   ]
  },
  {
   "cell_type": "code",
   "execution_count": null,
   "metadata": {},
   "outputs": [],
   "source": [
    "familienzulage = Route(\n",
    "    name=\"familienzulage\",\n",
    "    utterances=fz_utterances_q,\n",
    ")\n",
    "\n",
    "allgemeines = Route(\n",
    "    name=\"allgemeines\",\n",
    "    utterances=allgemeines_utterances_q,\n",
    ")\n",
    "\n",
    "routes = [familienzulage, allgemeines]"
   ]
  },
  {
   "cell_type": "code",
   "execution_count": null,
   "metadata": {},
   "outputs": [],
   "source": [
    "# for Cohere\n",
    "# os.environ[\"COHERE_API_KEY\"] = \"<YOUR_API_KEY>\"\n",
    "# encoder = CohereEncoder()\n",
    "\n",
    "# or for OpenAI\n",
    "encoder = OpenAIEncoder()"
   ]
  },
  {
   "cell_type": "code",
   "execution_count": null,
   "metadata": {},
   "outputs": [],
   "source": [
    "rl = RouteLayer(encoder=encoder, routes=routes)"
   ]
  },
  {
   "cell_type": "code",
   "execution_count": null,
   "metadata": {},
   "outputs": [],
   "source": [
    "# Test\n",
    "rl(\"Was sind Familienzulagen?\")"
   ]
  },
  {
   "cell_type": "code",
   "execution_count": null,
   "metadata": {},
   "outputs": [],
   "source": [
    "rl(\"Was ist, wenn ich selbständig erwerbend bin oder meine Arbeitgeberin oder mein Arbeitgeber nicht beitragspflichtig ist?\")"
   ]
  },
  {
   "cell_type": "code",
   "execution_count": null,
   "metadata": {},
   "outputs": [],
   "source": [
    "rl(\"Wo muss ich mich melden, wenn ich nicht arbeite?\")"
   ]
  },
  {
   "cell_type": "code",
   "execution_count": null,
   "metadata": {},
   "outputs": [],
   "source": [
    "rl(\"Où sont inscrites les bonifications pour tâches d’assistance ?\").name"
   ]
  },
  {
   "cell_type": "code",
   "execution_count": null,
   "metadata": {},
   "outputs": [],
   "source": [
    "rl(\"Quelles informations l’extrait de compte contient-il ?\").name"
   ]
  },
  {
   "cell_type": "code",
   "execution_count": null,
   "metadata": {},
   "outputs": [],
   "source": [
    "rl(topics[\"allgemeines\"][0][0]).name"
   ]
  },
  {
   "cell_type": "code",
   "execution_count": null,
   "metadata": {},
   "outputs": [],
   "source": [
    "preds_fz = []\n",
    "for i, row in fz_utterances[-5:].iterrows():\n",
    "    preds_fz.append(rl(row[\"question\"]).name)\n",
    "\n",
    "preds_allgemeines = []\n",
    "for i, row in allgemeines_utterances[-5:].iterrows():\n",
    "    preds_allgemeines.append(rl(row[\"question\"]).name)\n",
    "\n",
    "for q in [x[0] for x in topics[\"allgemeines\"][-30:]]:\n",
    "    preds_allgemeines.append(rl(q).name)"
   ]
  },
  {
   "cell_type": "code",
   "execution_count": null,
   "metadata": {},
   "outputs": [],
   "source": [
    "sum([x==\"allgemeines\" for x in preds_allgemeines])/len(preds_allgemeines), sum([x==\"familienzulage\" for x in preds_fz])/len(preds_fz)"
   ]
  },
  {
   "cell_type": "code",
   "execution_count": null,
   "metadata": {},
   "outputs": [],
   "source": [
    "# Train data\n",
    "train_fz_utterances = fz_utterances[\"question\"].to_list()[:-5] + [x[0] for x in topics[\"familienzulagen\"]]\n",
    "train_fz_utterances = [(q, \"familienzulage\") for q in train_fz_utterances]\n",
    "train_allgemeines_utterances = allgemeines_utterances[\"question\"].to_list()[:-5] + [x[0] for x in topics[\"allgemeines\"][:-30]]\n",
    "train_allgemeines_utterances = [(q, \"allgemeines\") for q in train_allgemeines_utterances]\n",
    "\n",
    "train_data = train_fz_utterances + train_allgemeines_utterances\n",
    "\n",
    "train_data"
   ]
  },
  {
   "cell_type": "code",
   "execution_count": null,
   "metadata": {},
   "outputs": [],
   "source": [
    "# Test data\n",
    "test_fz_utterances = fz_utterances[\"question\"].to_list()[-5:]\n",
    "test_fz_utterances = [(q, \"familienzulage\") for q in test_fz_utterances]\n",
    "test_allgemeines_utterances = allgemeines_utterances[\"question\"].to_list()[-5:] + [x[0] for x in topics[\"allgemeines\"][-30:]]\n",
    "test_allgemeines_utterances = [(q, \"allgemeines\") for q in test_allgemeines_utterances]\n",
    "\n",
    "test_data = test_fz_utterances + test_allgemeines_utterances\n",
    "\n",
    "test_data"
   ]
  },
  {
   "cell_type": "code",
   "execution_count": null,
   "metadata": {},
   "outputs": [],
   "source": [
    "X_train, y_train = zip(*train_data)\n",
    "X_test, y_test = zip(*test_data)\n",
    "\n",
    "# evaluate using the default thresholds\n",
    "accuracy = rl.evaluate(X=X_test, y=y_test)\n",
    "print(f\"Accuracy: {accuracy*100:.2f}%\")"
   ]
  },
  {
   "cell_type": "code",
   "execution_count": null,
   "metadata": {},
   "outputs": [],
   "source": [
    "route_thresholds = rl.get_thresholds()\n",
    "print(\"Default route thresholds:\", route_thresholds)"
   ]
  },
  {
   "cell_type": "code",
   "execution_count": null,
   "metadata": {},
   "outputs": [],
   "source": [
    "rl.fit(X=X_train, y=y_train)"
   ]
  },
  {
   "cell_type": "code",
   "execution_count": null,
   "metadata": {},
   "outputs": [],
   "source": [
    "route_thresholds = rl.get_thresholds()\n",
    "print(\"Updated route thresholds:\", route_thresholds)"
   ]
  },
  {
   "cell_type": "markdown",
   "metadata": {},
   "source": []
  }
 ],
 "metadata": {
  "kernelspec": {
   "display_name": "venv_copilot",
   "language": "python",
   "name": "python3"
  },
  "language_info": {
   "codemirror_mode": {
    "name": "ipython",
    "version": 3
   },
   "file_extension": ".py",
   "mimetype": "text/x-python",
   "name": "python",
   "nbconvert_exporter": "python",
   "pygments_lexer": "ipython3",
   "version": "3.11.7"
  }
 },
 "nbformat": 4,
 "nbformat_minor": 2
}
