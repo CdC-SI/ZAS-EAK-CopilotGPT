{
 "cells": [
  {
   "cell_type": "code",
   "execution_count": 1,
   "id": "d34d08ab-a8b6-463f-a8bb-6e28c427ac40",
   "metadata": {},
   "outputs": [],
   "source": [
    "import requests\n",
    "import xml.etree.ElementTree as ET\n",
    "\n",
    "from haystack.components.fetchers import LinkContentFetcher\n",
    "from haystack.components.converters import HTMLToDocument\n",
    "from haystack.components.preprocessors import DocumentCleaner\n",
    "from haystack.components.preprocessors import DocumentSplitter"
   ]
  },
  {
   "cell_type": "markdown",
   "id": "8b864223-3072-4354-9f0e-4cf015c5e5e2",
   "metadata": {},
   "source": [
    "# Get sitemap"
   ]
  },
  {
   "cell_type": "code",
   "execution_count": 2,
   "id": "1590633d-cded-42fa-a1f2-1f57f977f2f4",
   "metadata": {},
   "outputs": [],
   "source": [
    "sitemap_url = 'https://www.eak.admin.ch/eak/de/home.sitemap.xml'\n",
    "\n",
    "try:\n",
    "    response = requests.get(sitemap_url)\n",
    "    response.raise_for_status()\n",
    "\n",
    "except requests.exceptions.RequestException as e:\n",
    "    print(f\"Error fetching the sitemap: {e}\")"
   ]
  },
  {
   "cell_type": "markdown",
   "id": "41484d95-244d-4f6b-9623-e9f34886915d",
   "metadata": {},
   "source": [
    "# Extract sitemap URLs to scrap"
   ]
  },
  {
   "cell_type": "code",
   "execution_count": 3,
   "id": "abc2c490-74d5-4391-8649-4b6d26b792e2",
   "metadata": {},
   "outputs": [],
   "source": [
    "try:\n",
    "    # Parse the XML sitemap\n",
    "    tree = ET.ElementTree(ET.fromstring(response.content))\n",
    "    root = tree.getroot()\n",
    "\n",
    "    # Define the namespace dictionary\n",
    "    namespaces = {'ns': 'http://www.sitemaps.org/schemas/sitemap/0.9'}\n",
    "\n",
    "    # List to store all URLs\n",
    "    url_list = []\n",
    "\n",
    "    # Iterate over all 'url' elements and extract the 'loc' URL\n",
    "    for url_element in root.findall('ns:url', namespaces):\n",
    "        loc_element = url_element.find('ns:loc', namespaces)\n",
    "        if loc_element is not None and loc_element.text:\n",
    "            url_list.append(loc_element.text)\n",
    "\n",
    "except ET.ParseError as e:\n",
    "    print(f\"Error parsing the XML file: {e}\")\n",
    "except FileNotFoundError as e:\n",
    "    print(f\"File not found: {e}\")"
   ]
  },
  {
   "cell_type": "code",
   "execution_count": 4,
   "id": "4cdd8390-163a-4e40-a494-ca2f50fcb073",
   "metadata": {},
   "outputs": [
    {
     "data": {
      "text/plain": [
       "145"
      ]
     },
     "execution_count": 4,
     "metadata": {},
     "output_type": "execute_result"
    }
   ],
   "source": [
    "len(url_list)"
   ]
  },
  {
   "cell_type": "code",
   "execution_count": 5,
   "id": "b3883df3-3013-4ab7-a547-22bda7f92065",
   "metadata": {},
   "outputs": [
    {
     "data": {
      "text/plain": [
       "['https://www.eak.admin.ch/eak/de/home.html',\n",
       " 'https://www.eak.admin.ch/eak/de/home/sitemap.html',\n",
       " 'https://www.eak.admin.ch/eak/de/home/suche.html',\n",
       " 'https://www.eak.admin.ch/eak/de/home/404.html',\n",
       " 'https://www.eak.admin.ch/eak/de/home/Firmen.html',\n",
       " 'https://www.eak.admin.ch/eak/de/home/Firmen/Anschluss.html',\n",
       " 'https://www.eak.admin.ch/eak/de/home/Firmen/Anschluss/anschlusspflicht.html',\n",
       " 'https://www.eak.admin.ch/eak/de/home/Firmen/Anschluss/zweigniederlassungen.html',\n",
       " 'https://www.eak.admin.ch/eak/de/home/Firmen/Anschluss/anschlussverfahren.html',\n",
       " 'https://www.eak.admin.ch/eak/de/home/Firmen/Anschluss/arbeitgeberkontrolle.html',\n",
       " 'https://www.eak.admin.ch/eak/de/home/Firmen/Personal.html',\n",
       " 'https://www.eak.admin.ch/eak/de/home/Firmen/Personal/anmeldung-von-arbeitnehmern.html',\n",
       " 'https://www.eak.admin.ch/eak/de/home/Firmen/Personal/abmeldung-von-arbeitnehmern.html',\n",
       " 'https://www.eak.admin.ch/eak/de/home/Firmen/Personal/versicherungsausweis.html',\n",
       " 'https://www.eak.admin.ch/eak/de/home/Firmen/externe_auftraege.html',\n",
       " 'https://www.eak.admin.ch/eak/de/home/Firmen/externe_auftraege/beurteilung_durch_die_ausgleichskasse.html',\n",
       " 'https://www.eak.admin.ch/eak/de/home/Firmen/externe_auftraege/sozialversicherungsrechtliche_stellung_in_AHV-IV-EO.html',\n",
       " 'https://www.eak.admin.ch/eak/de/home/Firmen/arbeiten_im_ausland.html',\n",
       " 'https://www.eak.admin.ch/eak/de/home/Firmen/arbeiten_im_ausland/beamte-personen-im-oeffentlichen-dienst.html',\n",
       " 'https://www.eak.admin.ch/eak/de/home/Firmen/arbeiten_im_ausland/arbeiten_in_mehreren_staaten.html',\n",
       " 'https://www.eak.admin.ch/eak/de/home/Firmen/beitraege_und_loehne.html',\n",
       " 'https://www.eak.admin.ch/eak/de/home/Firmen/beitraege_und_loehne/akontobeitraege.html',\n",
       " 'https://www.eak.admin.ch/eak/de/home/Firmen/beitraege_und_loehne/lohndeklaration_und_lohnmeldung.html',\n",
       " 'https://www.eak.admin.ch/eak/de/home/Firmen/beitraege_und_loehne/jahresabrechnung.html',\n",
       " 'https://www.eak.admin.ch/eak/de/home/Firmen/beitraege_und_loehne/lohnnachtraege_und_rueckerstattungen.html',\n",
       " 'https://www.eak.admin.ch/eak/de/home/Firmen/beitraege_und_loehne/co2-abgabe.html',\n",
       " 'https://www.eak.admin.ch/eak/de/home/Firmen/beitraege_und_loehne/e-rechnung.html',\n",
       " 'https://www.eak.admin.ch/eak/de/home/Firmen/familienzulagen.html',\n",
       " 'https://www.eak.admin.ch/eak/de/home/Firmen/familienzulagen/grundlagen.html',\n",
       " 'https://www.eak.admin.ch/eak/de/home/Firmen/familienzulagen/meldepflicht.html',\n",
       " 'https://www.eak.admin.ch/eak/de/home/Firmen/familienzulagen/meldepflicht/familienzulagen.html',\n",
       " 'https://www.eak.admin.ch/eak/de/home/Firmen/familienzulagen/meldepflicht/melde--und-mitwirkungspflicht-gegenueber-der-familienausgleichsk.html',\n",
       " 'https://www.eak.admin.ch/eak/de/home/Firmen/familienzulagen/vorgehen.html',\n",
       " 'https://www.eak.admin.ch/eak/de/home/Firmen/familienzulagen/vorgehen/produktionsplan-2024.html',\n",
       " 'https://www.eak.admin.ch/eak/de/home/Firmen/familienzulagen/kinder-im-ausland.html',\n",
       " 'https://www.eak.admin.ch/eak/de/home/Firmen/familienzulagen/kantonalebestimmungen.html',\n",
       " 'https://www.eak.admin.ch/eak/de/home/Firmen/familienzulagen/dossierfuehrung.html',\n",
       " 'https://www.eak.admin.ch/eak/de/home/Firmen/familienzulagen/home-made-fak.html',\n",
       " 'https://www.eak.admin.ch/eak/de/home/Firmen/familienzulagen/home-made-fak/kinder-in-der-schweiz.html',\n",
       " 'https://www.eak.admin.ch/eak/de/home/Firmen/familienzulagen/home-made-fak/kinder-im-ausland.html',\n",
       " 'https://www.eak.admin.ch/eak/de/home/Firmen/familienzulagen/home-made-fak/ausbildung.html',\n",
       " 'https://www.eak.admin.ch/eak/de/home/Firmen/erwerbsersatz.html',\n",
       " 'https://www.eak.admin.ch/eak/de/home/Firmen/erwerbsersatz/adoptionsentschaedigung.html',\n",
       " 'https://www.eak.admin.ch/eak/de/home/Firmen/erwerbsersatz/betreuungsentschadigung.html',\n",
       " 'https://www.eak.admin.ch/eak/de/home/Firmen/erwerbsersatz/militaer_jugend_und_sport.html',\n",
       " 'https://www.eak.admin.ch/eak/de/home/Firmen/erwerbsersatz/mutterschaft.html',\n",
       " 'https://www.eak.admin.ch/eak/de/home/Firmen/erwerbsersatz/vaterschaftsentschaedigung-ab-01-01-2021-fuer-firmen.html',\n",
       " 'https://www.eak.admin.ch/eak/de/home/Firmen/connect-eak.html',\n",
       " 'https://www.eak.admin.ch/eak/de/home/Firmen/connect-eak/delegationsfunktion.html',\n",
       " 'https://www.eak.admin.ch/eak/de/home/dokumentation.html',\n",
       " 'https://www.eak.admin.ch/eak/de/home/dokumentation/mein_ahv-konto.html',\n",
       " 'https://www.eak.admin.ch/eak/de/home/dokumentation/mein_ahv-konto/kontoauszug.html',\n",
       " 'https://www.eak.admin.ch/eak/de/home/dokumentation/mein_ahv-konto/versicherungsausweis.html',\n",
       " 'https://www.eak.admin.ch/eak/de/home/dokumentation/zivilstand.html',\n",
       " 'https://www.eak.admin.ch/eak/de/home/dokumentation/zivilstand/ledig_konkubinat.html',\n",
       " 'https://www.eak.admin.ch/eak/de/home/dokumentation/zivilstand/heirat_eingetragene_partnerschaft.html',\n",
       " 'https://www.eak.admin.ch/eak/de/home/dokumentation/zivilstand/trennung_scheidung.html',\n",
       " 'https://www.eak.admin.ch/eak/de/home/dokumentation/zivilstand/verwitwung.html',\n",
       " 'https://www.eak.admin.ch/eak/de/home/dokumentation/kinder.html',\n",
       " 'https://www.eak.admin.ch/eak/de/home/dokumentation/kinder/familienzulagen.html',\n",
       " 'https://www.eak.admin.ch/eak/de/home/dokumentation/kinder/kinderrente.html',\n",
       " 'https://www.eak.admin.ch/eak/de/home/dokumentation/kinder/ausbildung.html',\n",
       " 'https://www.eak.admin.ch/eak/de/home/dokumentation/arbeit.html',\n",
       " 'https://www.eak.admin.ch/eak/de/home/dokumentation/arbeit/anstellung.html',\n",
       " 'https://www.eak.admin.ch/eak/de/home/dokumentation/arbeit/teilzeitbeschaeftigung.html',\n",
       " 'https://www.eak.admin.ch/eak/de/home/dokumentation/arbeit/selbstaendigerwerbende.html',\n",
       " 'https://www.eak.admin.ch/eak/de/home/dokumentation/arbeitsunterbruch_keine_erwerbstaetigkeit.html',\n",
       " 'https://www.eak.admin.ch/eak/de/home/dokumentation/arbeitsunterbruch_keine_erwerbstaetigkeit/adoptionsentschaedigung.html',\n",
       " 'https://www.eak.admin.ch/eak/de/home/dokumentation/arbeitsunterbruch_keine_erwerbstaetigkeit/betreuungsentschaedigung.html',\n",
       " 'https://www.eak.admin.ch/eak/de/home/dokumentation/arbeitsunterbruch_keine_erwerbstaetigkeit/invaliditaet.html',\n",
       " 'https://www.eak.admin.ch/eak/de/home/dokumentation/arbeitsunterbruch_keine_erwerbstaetigkeit/keine_erwerbstaetigkeit.html',\n",
       " 'https://www.eak.admin.ch/eak/de/home/dokumentation/arbeitsunterbruch_keine_erwerbstaetigkeit/krankheit_unfall.html',\n",
       " 'https://www.eak.admin.ch/eak/de/home/dokumentation/arbeitsunterbruch_keine_erwerbstaetigkeit/militaer_jugend_und_sport.html',\n",
       " 'https://www.eak.admin.ch/eak/de/home/dokumentation/arbeitsunterbruch_keine_erwerbstaetigkeit/mutterschaft.html',\n",
       " 'https://www.eak.admin.ch/eak/de/home/dokumentation/arbeitsunterbruch_keine_erwerbstaetigkeit/vaterschaftsurlaub-ab-01-01-2021.html',\n",
       " 'https://www.eak.admin.ch/eak/de/home/dokumentation/arbeitsunterbruch_keine_erwerbstaetigkeit/unbezahlter_urlaub.html',\n",
       " 'https://www.eak.admin.ch/eak/de/home/dokumentation/pensionierung.html',\n",
       " 'https://www.eak.admin.ch/eak/de/home/dokumentation/pensionierung/rentenvorausberechnung.html',\n",
       " 'https://www.eak.admin.ch/eak/de/home/dokumentation/pensionierung/altersrente.html',\n",
       " 'https://www.eak.admin.ch/eak/de/home/dokumentation/pensionierung/neuberechnung-der-altersrente-nach-dem-referenzalter.html',\n",
       " 'https://www.eak.admin.ch/eak/de/home/dokumentation/pensionierung/vorbezug_aufschub.html',\n",
       " 'https://www.eak.admin.ch/eak/de/home/dokumentation/pensionierung/vorbezug_aufschub/vorbezug.html',\n",
       " 'https://www.eak.admin.ch/eak/de/home/dokumentation/pensionierung/vorbezug_aufschub/aufschub.html',\n",
       " 'https://www.eak.admin.ch/eak/de/home/dokumentation/pensionierung/hilflosenentschaedigung.html',\n",
       " 'https://www.eak.admin.ch/eak/de/home/dokumentation/pensionierung/beitragspflicht.html',\n",
       " 'https://www.eak.admin.ch/eak/de/home/dokumentation/pensionierung/rentenauszahlung.html',\n",
       " 'https://www.eak.admin.ch/eak/de/home/dokumentation/pensionierung/reform-ahv21.html',\n",
       " 'https://www.eak.admin.ch/eak/de/home/dokumentation/pensionierung/reform-ahv21/referenzalter.html',\n",
       " 'https://www.eak.admin.ch/eak/de/home/dokumentation/pensionierung/reform-ahv21/ausgleichsmassnahmen.html',\n",
       " 'https://www.eak.admin.ch/eak/de/home/dokumentation/pensionierung/reform-ahv21/rentenzuschlag.html',\n",
       " 'https://www.eak.admin.ch/eak/de/home/dokumentation/pensionierung/reform-ahv21/kuerzungssaetze-bei-vorbezug.html',\n",
       " 'https://www.eak.admin.ch/eak/de/home/dokumentation/pensionierung/reform-ahv21/flexibler-rentenbezug-ab-63-jahren.html',\n",
       " 'https://www.eak.admin.ch/eak/de/home/dokumentation/pensionierung/reform-ahv21/arbeiten-nach-65.html',\n",
       " 'https://www.eak.admin.ch/eak/de/home/dokumentation/im_ausland.html',\n",
       " 'https://www.eak.admin.ch/eak/de/home/dokumentation/im_ausland/auslandeinsaetze-entsendungen.html',\n",
       " 'https://www.eak.admin.ch/eak/de/home/dokumentation/im_ausland/erwerbstaetigkeit-in-mehreren-staaten.html',\n",
       " 'https://www.eak.admin.ch/eak/de/home/dokumentation/im_ausland/nichterwerbstaetige-im-ausland.html',\n",
       " 'https://www.eak.admin.ch/eak/de/home/dokumentation/im_ausland/freiwillige-versicherung.html',\n",
       " 'https://www.eak.admin.ch/eak/de/home/dokumentation/steuerausweis.html',\n",
       " 'https://www.eak.admin.ch/eak/de/home/formulare.html',\n",
       " 'https://www.eak.admin.ch/eak/de/home/formulare/meldung-eines-todesfalles.html',\n",
       " 'https://www.eak.admin.ch/eak/de/home/EAK.html',\n",
       " 'https://www.eak.admin.ch/eak/de/home/EAK/unsere-leistungen.html',\n",
       " 'https://www.eak.admin.ch/eak/de/home/EAK/unsere-leistungen/ahv.html',\n",
       " 'https://www.eak.admin.ch/eak/de/home/EAK/unsere-leistungen/iv.html',\n",
       " 'https://www.eak.admin.ch/eak/de/home/EAK/unsere-leistungen/eo.html',\n",
       " 'https://www.eak.admin.ch/eak/de/home/EAK/unsere-leistungen/mutterschaftsentschaedigung.html',\n",
       " 'https://www.eak.admin.ch/eak/de/home/EAK/unsere-leistungen/familienausgleichskasse.html',\n",
       " 'https://www.eak.admin.ch/eak/de/home/EAK/portrait.html',\n",
       " 'https://www.eak.admin.ch/eak/de/home/EAK/portrait/vision--leitbild.html',\n",
       " 'https://www.eak.admin.ch/eak/de/home/EAK/portrait/qualitaetssicherung.html',\n",
       " 'https://www.eak.admin.ch/eak/de/home/EAK/portrait/kundennaehe.html',\n",
       " 'https://www.eak.admin.ch/eak/de/home/EAK/organisation.html',\n",
       " 'https://www.eak.admin.ch/eak/de/home/EAK/organisation/organigramm.html',\n",
       " 'https://www.eak.admin.ch/eak/de/home/EAK/organisation/kassenleitung.html',\n",
       " 'https://www.eak.admin.ch/eak/de/home/EAK/organisation/geschaeftsleitung.html',\n",
       " 'https://www.eak.admin.ch/eak/de/home/EAK/organisation/zentraleausgleichsstelleZAS.html',\n",
       " 'https://www.eak.admin.ch/eak/de/home/EAK/publikationen.html',\n",
       " 'https://www.eak.admin.ch/eak/de/home/EAK/publikationen/jahresberichte.html',\n",
       " 'https://www.eak.admin.ch/eak/de/home/EAK/publikationen/jahresberichte/jahresbericht-2023.html',\n",
       " 'https://www.eak.admin.ch/eak/de/home/EAK/publikationen/jahresberichte/jahresbericht-2023/vorwort.html',\n",
       " 'https://www.eak.admin.ch/eak/de/home/EAK/publikationen/jahresberichte/jahresbericht-2023/uberblick.html',\n",
       " 'https://www.eak.admin.ch/eak/de/home/EAK/publikationen/jahresberichte/jahresbericht-2023/beitraege.html',\n",
       " 'https://www.eak.admin.ch/eak/de/home/EAK/publikationen/jahresberichte/jahresbericht-2023/leistungen.html',\n",
       " 'https://www.eak.admin.ch/eak/de/home/EAK/publikationen/jahresberichte/jahresbericht-2023/familienausgleichskasse-eak.html',\n",
       " 'https://www.eak.admin.ch/eak/de/home/EAK/publikationen/jahresberichte/jahresbericht-2023/finanzen.html',\n",
       " 'https://www.eak.admin.ch/eak/de/home/EAK/publikationen/jahresberichte/jahresbericht-2023/stabsdienste.html',\n",
       " 'https://www.eak.admin.ch/eak/de/home/EAK/publikationen/jahresberichte/jahresbericht-2023/impressum.html',\n",
       " 'https://www.eak.admin.ch/eak/de/home/EAK/publikationen/mitteilungs-archiv.html',\n",
       " 'https://www.eak.admin.ch/eak/de/home/EAK/publikationen/mitteilungs-archiv/familienzulagen-deutschland.html',\n",
       " 'https://www.eak.admin.ch/eak/de/home/EAK/publikationen/mitteilungs-archiv/die-ahv-wir-dieses-jahr-75-jahre-alt.html',\n",
       " 'https://www.eak.admin.ch/eak/de/home/EAK/publikationen/mitteilungs-archiv/anmeldung-altersrente.html',\n",
       " 'https://www.eak.admin.ch/eak/de/home/EAK/publikationen/mitteilungs-archiv/informationsblatt-video-stabilisierung-ahv.html',\n",
       " 'https://www.eak.admin.ch/eak/de/home/EAK/publikationen/mitteilungs-archiv/sozialversicherungsabkommen-mit-albanien.html',\n",
       " 'https://www.eak.admin.ch/eak/de/home/EAK/publikationen/mitteilungs-archiv/neuerungen-per-2024.html',\n",
       " 'https://www.eak.admin.ch/eak/de/home/EAK/publikationen/mitteilungs-archiv/13-ahv-rente.html',\n",
       " 'https://www.eak.admin.ch/eak/de/home/EAK/publikationen/mitteilungs-archiv/umsetzung-der-13-ahv-rente-bundesrat-vernehmlassung.html',\n",
       " 'https://www.eak.admin.ch/eak/de/home/EAK/publikationen/mitteilungs-archiv/jahresbericht-2023.html',\n",
       " 'https://www.eak.admin.ch/eak/de/home/EAK/publikationen/neuerungen-2024.html',\n",
       " 'https://www.eak.admin.ch/eak/de/home/EAK/kurse-und-beratung.html',\n",
       " 'https://www.eak.admin.ch/eak/de/home/EAK/kurse-und-beratung/kursangebot.html',\n",
       " 'https://www.eak.admin.ch/eak/de/home/EAK/kurse-und-beratung/kursanmeldung.html',\n",
       " 'https://www.eak.admin.ch/eak/de/home/EAK/kurse-und-beratung/kursanmeldung/bestaetigung-kursanfrage.html',\n",
       " 'https://www.eak.admin.ch/eak/de/home/EAK/offene-stellen0.html',\n",
       " 'https://www.eak.admin.ch/eak/de/home/EAK/kontakt.html']"
      ]
     },
     "execution_count": 5,
     "metadata": {},
     "output_type": "execute_result"
    }
   ],
   "source": [
    "url_list"
   ]
  },
  {
   "cell_type": "markdown",
   "id": "f12487cd-1419-4933-8fa0-020e41e529ef",
   "metadata": {},
   "source": [
    "# Fetch content with haystack LinkContentFetcher()"
   ]
  },
  {
   "cell_type": "code",
   "execution_count": 6,
   "id": "adb22b8b-4ced-43b4-a5a6-c90c17b0ef57",
   "metadata": {},
   "outputs": [],
   "source": [
    "fetcher = LinkContentFetcher()"
   ]
  },
  {
   "cell_type": "code",
   "execution_count": 7,
   "id": "94f1b290-ea68-45a0-8e3f-af0369562bda",
   "metadata": {},
   "outputs": [],
   "source": [
    "# Only scrap n webpages for testing\n",
    "scrap_n = 5\n",
    "\n",
    "streams = fetcher.run(urls=url_list[:scrap_n])\n",
    "content = streams[\"streams\"]"
   ]
  },
  {
   "cell_type": "code",
   "execution_count": 8,
   "id": "126de6ff-271e-4a08-84eb-94ef583bdb5e",
   "metadata": {},
   "outputs": [
    {
     "data": {
      "text/plain": [
       "5"
      ]
     },
     "execution_count": 8,
     "metadata": {},
     "output_type": "execute_result"
    }
   ],
   "source": [
    "len(content)"
   ]
  },
  {
   "cell_type": "markdown",
   "id": "df8b55c4-c5d9-42f5-a546-ca6c1bb2f726",
   "metadata": {},
   "source": [
    "# Convert webpage content to Document with haystack HTMLToDocument()"
   ]
  },
  {
   "cell_type": "code",
   "execution_count": 9,
   "id": "bf0c35a8-b6fb-41fd-a98e-6ece7cb46ab0",
   "metadata": {},
   "outputs": [],
   "source": [
    "converter = HTMLToDocument()"
   ]
  },
  {
   "cell_type": "code",
   "execution_count": 10,
   "id": "ca00d960-4b2e-44a6-b9f5-426204d7b1b0",
   "metadata": {},
   "outputs": [
    {
     "data": {
      "text/plain": [
       "[Document(id=1ca3a67bb25dd21955b637c4848169627bd3dbde960de1aba360a63d6f1421a3, content: 'Die Eidgenössische Ausgleichskasse EAK mit Sitz in Bern ist eine Abteilung der Zentralen Ausgleichss...', meta: {'content_type': 'text/html', 'url': 'https://www.eak.admin.ch/eak/de/home.html'}),\n",
       " Document(id=78a87134c941a811c5a3d66397f5c7451349a970f2fef2d2585b1c78c65d0362, content: 'Firmen\n",
       " - Anschluss\n",
       " - Personal\n",
       " - Externe Aufträge\n",
       " - Arbeiten im Ausland\n",
       " - Beiträge und Löhne\n",
       " - Famili...', meta: {'content_type': 'text/html', 'url': 'https://www.eak.admin.ch/eak/de/home/sitemap.html'}),\n",
       " Document(id=036f362bbd3f39ea6ae40095258572779379e3a27593547305ee55d5313cd49e, content: 'Navigation\n",
       " Zur Ausführung der Suche wird Java Script benötigt.\n",
       " 0 Ergebnisse gefunden\n",
       " Zum Seitenanfan...', meta: {'content_type': 'text/html', 'url': 'https://www.eak.admin.ch/eak/de/home/suche.html'}),\n",
       " Document(id=fa22522ab1a7207a86cfd9d78d15e2378510dffd05132ea579830e4d58265aef, content: 'Die aufgerufene Seite wurde leider nicht gefunden. Möglicherweise haben Sie eine falsche Adresse (UR...', meta: {'content_type': 'text/html', 'url': 'https://www.eak.admin.ch/eak/de/home/404.html'}),\n",
       " Document(id=5eed49a7620772d56538c3b1fe53fd9b4f7aa019a57d5685e5d5b4c5f0717a53, content: 'Homepage\n",
       " Main navigation\n",
       " Content area\n",
       " Sitemap\n",
       " Search\n",
       " Zentrale Ausgleichsstelle\n",
       " Der Bundesrat\n",
       " Der Bun...', meta: {'content_type': 'text/html', 'url': 'https://www.eak.admin.ch/eak/de/home/Firmen.html'})]"
      ]
     },
     "execution_count": 10,
     "metadata": {},
     "output_type": "execute_result"
    }
   ],
   "source": [
    "docs = converter.run(sources=content)[\"documents\"]\n",
    "docs"
   ]
  },
  {
   "cell_type": "code",
   "execution_count": 11,
   "id": "741d3b6f-57c7-45f5-99e9-65f60b8e752f",
   "metadata": {},
   "outputs": [
    {
     "data": {
      "text/plain": [
       "'https://www.eak.admin.ch/eak/de/home.html'"
      ]
     },
     "execution_count": 11,
     "metadata": {},
     "output_type": "execute_result"
    }
   ],
   "source": [
    "# Get URL\n",
    "docs[0].meta[\"url\"]"
   ]
  },
  {
   "cell_type": "markdown",
   "id": "bca539a4-274d-410a-ade3-81c9eece205b",
   "metadata": {},
   "source": [
    "# Clean documents with haystack DocumentCleaner()"
   ]
  },
  {
   "cell_type": "code",
   "execution_count": 12,
   "id": "98a72e8f-a8ba-4b3d-bbdd-82a12aa7f7ba",
   "metadata": {},
   "outputs": [],
   "source": [
    "cleaner = DocumentCleaner(\n",
    "\tremove_empty_lines=True,\n",
    "\tremove_extra_whitespaces=True,\n",
    "\tremove_repeated_substrings=False)"
   ]
  },
  {
   "cell_type": "code",
   "execution_count": 13,
   "id": "fcce87e7-29d0-49d2-8663-d85563504020",
   "metadata": {},
   "outputs": [
    {
     "data": {
      "text/plain": [
       "{'documents': [Document(id=1ca3a67bb25dd21955b637c4848169627bd3dbde960de1aba360a63d6f1421a3, content: 'Die Eidgenössische Ausgleichskasse EAK mit Sitz in Bern ist eine Abteilung der Zentralen Ausgleichss...', meta: {'content_type': 'text/html', 'url': 'https://www.eak.admin.ch/eak/de/home.html'}),\n",
       "  Document(id=78a87134c941a811c5a3d66397f5c7451349a970f2fef2d2585b1c78c65d0362, content: 'Firmen\n",
       "  - Anschluss\n",
       "  - Personal\n",
       "  - Externe Aufträge\n",
       "  - Arbeiten im Ausland\n",
       "  - Beiträge und Löhne\n",
       "  - Famili...', meta: {'content_type': 'text/html', 'url': 'https://www.eak.admin.ch/eak/de/home/sitemap.html'}),\n",
       "  Document(id=036f362bbd3f39ea6ae40095258572779379e3a27593547305ee55d5313cd49e, content: 'Navigation\n",
       "  Zur Ausführung der Suche wird Java Script benötigt.\n",
       "  0 Ergebnisse gefunden\n",
       "  Zum Seitenanfan...', meta: {'content_type': 'text/html', 'url': 'https://www.eak.admin.ch/eak/de/home/suche.html'}),\n",
       "  Document(id=fa22522ab1a7207a86cfd9d78d15e2378510dffd05132ea579830e4d58265aef, content: 'Die aufgerufene Seite wurde leider nicht gefunden. Möglicherweise haben Sie eine falsche Adresse (UR...', meta: {'content_type': 'text/html', 'url': 'https://www.eak.admin.ch/eak/de/home/404.html'}),\n",
       "  Document(id=5eed49a7620772d56538c3b1fe53fd9b4f7aa019a57d5685e5d5b4c5f0717a53, content: 'Homepage\n",
       "  Main navigation\n",
       "  Content area\n",
       "  Sitemap\n",
       "  Search\n",
       "  Zentrale Ausgleichsstelle\n",
       "  Der Bundesrat\n",
       "  Der Bun...', meta: {'content_type': 'text/html', 'url': 'https://www.eak.admin.ch/eak/de/home/Firmen.html'})]}"
      ]
     },
     "execution_count": 13,
     "metadata": {},
     "output_type": "execute_result"
    }
   ],
   "source": [
    "docs = cleaner.run(documents=docs)\n",
    "docs"
   ]
  },
  {
   "cell_type": "markdown",
   "id": "ea2e8604-5a05-43fc-920c-85000bc9d0a4",
   "metadata": {},
   "source": [
    "# Split documents with haystack DocumentSplitter()"
   ]
  },
  {
   "cell_type": "code",
   "execution_count": 14,
   "id": "e9a9e995-f606-4606-97b7-17a32d2a5b85",
   "metadata": {},
   "outputs": [],
   "source": [
    "splitter = DocumentSplitter(\n",
    "    split_by=\"passage\",\n",
    "    split_length=1,\n",
    "    split_overlap=0)"
   ]
  },
  {
   "cell_type": "code",
   "execution_count": 16,
   "id": "27bdfd6a-d3ee-4876-9075-0e4517e6e6f7",
   "metadata": {},
   "outputs": [],
   "source": [
    "docs = splitter.run(documents=docs[\"documents\"])"
   ]
  },
  {
   "cell_type": "code",
   "execution_count": 17,
   "id": "047c12a1-0089-4d5b-b0fb-e4aad1f5ee98",
   "metadata": {},
   "outputs": [
    {
     "data": {
      "text/plain": [
       "{'documents': [Document(id=e8d2e97260140cb766b3d26d57c83ef7431d745a8f1d409f0442f6a420d8f053, content: 'Die Eidgenössische Ausgleichskasse EAK mit Sitz in Bern ist eine Abteilung der Zentralen Ausgleichss...', meta: {'content_type': 'text/html', 'url': 'https://www.eak.admin.ch/eak/de/home.html', 'source_id': '1ca3a67bb25dd21955b637c4848169627bd3dbde960de1aba360a63d6f1421a3', 'page_number': 1}),\n",
       "  Document(id=6bb7eda01749087345ca0d253bc674403e4c56787f567a81e0180e375661e992, content: 'Firmen\n",
       "  - Anschluss\n",
       "  - Personal\n",
       "  - Externe Aufträge\n",
       "  - Arbeiten im Ausland\n",
       "  - Beiträge und Löhne\n",
       "  - Famili...', meta: {'content_type': 'text/html', 'url': 'https://www.eak.admin.ch/eak/de/home/sitemap.html', 'source_id': '78a87134c941a811c5a3d66397f5c7451349a970f2fef2d2585b1c78c65d0362', 'page_number': 1}),\n",
       "  Document(id=ef5ed7b42f0ea2b04ac61c9a9f4b225d791028f4cfd1606b7a51c8dd74fe9ab5, content: 'Navigation\n",
       "  Zur Ausführung der Suche wird Java Script benötigt.\n",
       "  0 Ergebnisse gefunden\n",
       "  Zum Seitenanfan...', meta: {'content_type': 'text/html', 'url': 'https://www.eak.admin.ch/eak/de/home/suche.html', 'source_id': '036f362bbd3f39ea6ae40095258572779379e3a27593547305ee55d5313cd49e', 'page_number': 1}),\n",
       "  Document(id=81723d23ba9a7aa1f4ab1beb157fb87cffaf3f27c16fbc7580299dfe1569cd25, content: 'Die aufgerufene Seite wurde leider nicht gefunden. Möglicherweise haben Sie eine falsche Adresse (UR...', meta: {'content_type': 'text/html', 'url': 'https://www.eak.admin.ch/eak/de/home/404.html', 'source_id': 'fa22522ab1a7207a86cfd9d78d15e2378510dffd05132ea579830e4d58265aef', 'page_number': 1}),\n",
       "  Document(id=c4ec59ddc3743e2ebd95aa9873f6b47c1c1e6692ac2a68cfa8078e896d6ddc7e, content: 'Homepage\n",
       "  Main navigation\n",
       "  Content area\n",
       "  Sitemap\n",
       "  Search\n",
       "  Zentrale Ausgleichsstelle\n",
       "  Der Bundesrat\n",
       "  Der Bun...', meta: {'content_type': 'text/html', 'url': 'https://www.eak.admin.ch/eak/de/home/Firmen.html', 'source_id': '5eed49a7620772d56538c3b1fe53fd9b4f7aa019a57d5685e5d5b4c5f0717a53', 'page_number': 1})]}"
      ]
     },
     "execution_count": 17,
     "metadata": {},
     "output_type": "execute_result"
    }
   ],
   "source": [
    "docs"
   ]
  },
  {
   "cell_type": "code",
   "execution_count": 19,
   "id": "e05d5266-bc9a-4954-8109-98a585fbf4aa",
   "metadata": {},
   "outputs": [
    {
     "data": {
      "text/plain": [
       "5"
      ]
     },
     "execution_count": 19,
     "metadata": {},
     "output_type": "execute_result"
    }
   ],
   "source": [
    "len(docs[\"documents\"])"
   ]
  }
 ],
 "metadata": {
  "kernelspec": {
   "display_name": "venv_copilot",
   "language": "python",
   "name": "venv_copilot"
  },
  "language_info": {
   "codemirror_mode": {
    "name": "ipython",
    "version": 3
   },
   "file_extension": ".py",
   "mimetype": "text/x-python",
   "name": "python",
   "nbconvert_exporter": "python",
   "pygments_lexer": "ipython3",
   "version": "3.11.7"
  }
 },
 "nbformat": 4,
 "nbformat_minor": 5
}
