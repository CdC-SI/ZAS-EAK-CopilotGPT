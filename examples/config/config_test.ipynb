{
 "cells": [
  {
   "cell_type": "code",
   "execution_count": null,
   "id": "62dd3a09-266b-4d58-835c-45b53c735635",
   "metadata": {},
   "outputs": [],
   "source": [
    "from config.llm_config_manager import LLMConfigManager"
   ]
  },
  {
   "cell_type": "code",
   "execution_count": 3,
   "id": "dc23a387-ef6f-4bc0-90f6-ff1405e4f039",
   "metadata": {},
   "outputs": [],
   "source": [
    "llm_config_manager = LLMConfigManager(\n",
    "    config_file=\"config/config.yaml\",\n",
    ")"
   ]
  },
  {
   "cell_type": "code",
   "execution_count": null,
   "id": "efdfe77b-398d-416b-a143-019fa88960c9",
   "metadata": {},
   "outputs": [],
   "source": [
    "llm_config_manager._llm_configs"
   ]
  },
  {
   "cell_type": "code",
   "execution_count": null,
   "id": "a21d2aed-07d9-4027-b91a-7a1a49252224",
   "metadata": {},
   "outputs": [],
   "source": [
    "llm_config_manager._task_configs[\"rag\"]"
   ]
  },
  {
   "cell_type": "code",
   "execution_count": null,
   "id": "849ccea7-2313-430a-99e6-88c50e09f35c",
   "metadata": {},
   "outputs": [],
   "source": [
    "llm_config_manager._task_configs[\"source_validation\"]"
   ]
  },
  {
   "cell_type": "code",
   "execution_count": null,
   "id": "eeb856c8-cc20-48ff-a58a-a6a1268285b3",
   "metadata": {},
   "outputs": [],
   "source": [
    "llm_config_manager._task_configs"
   ]
  },
  {
   "cell_type": "code",
   "execution_count": null,
   "id": "ceabbe96-e0f1-484b-b493-c220d2663608",
   "metadata": {},
   "outputs": [],
   "source": [
    "llm_config_manager._llm_client_configs"
   ]
  },
  {
   "cell_type": "code",
   "execution_count": null,
   "id": "2126a7bd-90ed-487c-96de-ef78fb63cf79",
   "metadata": {},
   "outputs": [],
   "source": [
    "llm_config_manager.get_config(\"o3-mini\")"
   ]
  },
  {
   "cell_type": "code",
   "execution_count": null,
   "id": "ea711c33-1c93-435e-9973-1a066032e546",
   "metadata": {},
   "outputs": [],
   "source": [
    "llm_config_manager.get_client_config(\"openai\")"
   ]
  }
 ],
 "metadata": {
  "kernelspec": {
   "display_name": "venv_copilot",
   "language": "python",
   "name": "venv_copilot"
  },
  "language_info": {
   "codemirror_mode": {
    "name": "ipython",
    "version": 3
   },
   "file_extension": ".py",
   "mimetype": "text/x-python",
   "name": "python",
   "nbconvert_exporter": "python",
   "pygments_lexer": "ipython3",
   "version": "3.11.10"
  }
 },
 "nbformat": 4,
 "nbformat_minor": 5
}
