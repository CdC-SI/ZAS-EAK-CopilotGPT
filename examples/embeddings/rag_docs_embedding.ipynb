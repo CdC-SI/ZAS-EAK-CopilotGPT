{
 "cells": [
  {
   "cell_type": "code",
   "execution_count": null,
   "id": "fdf59dee-6b88-4675-8462-428df38b40fd",
   "metadata": {},
   "outputs": [],
   "source": [
    "import pandas as pd\n",
    "import tqdm"
   ]
  },
  {
   "cell_type": "markdown",
   "id": "6c998dad-d04a-445b-abc9-14edcfe45a33",
   "metadata": {},
   "source": [
    "# AHV-IV MEMENTO"
   ]
  },
  {
   "cell_type": "code",
   "execution_count": null,
   "id": "a897bfb7-f5ce-4a04-9a21-048ba8bfc178",
   "metadata": {},
   "outputs": [],
   "source": [
    "df = pd.read_csv(\"indexing/data/to_upsert/ahv_iv_memento/ahv_iv_de_fr_it_tags_subtopics_llm_EMBED.csv\")\n",
    "df.rename(columns={\"text_summary\": \"summary_embedding\"}, inplace=True)\n",
    "len(df)"
   ]
  },
  {
   "cell_type": "code",
   "execution_count": null,
   "id": "18dab12d-245b-4203-8250-8899b9f9acb4",
   "metadata": {},
   "outputs": [],
   "source": [
    "df.head()"
   ]
  },
  {
   "cell_type": "code",
   "execution_count": null,
   "id": "42903fb4-9192-4072-bb17-28c504049e91",
   "metadata": {},
   "outputs": [],
   "source": [
    "df.to_csv(\"indexing/data/to_upsert/ahv_iv_memento/ahv_iv_de_fr_it_tags_subtopics_llm_EMBED.csv\", index=None)"
   ]
  },
  {
   "cell_type": "markdown",
   "id": "25f1723e-3f8d-46c2-88b9-f61d9d7536ff",
   "metadata": {},
   "source": [
    "# EAK - AHV LERNBAUSTEIN 2024"
   ]
  },
  {
   "cell_type": "code",
   "execution_count": null,
   "id": "9f8985ee-5ebd-46d0-8bb0-257b727c2e04",
   "metadata": {},
   "outputs": [],
   "source": [
    "df = pd.read_csv(\"indexing/data/to_upsert/AHV_Lernbaustein_2024/AHV_Lernbaustein_2024_tags_llm_EMBED.csv\")\n",
    "df.rename(columns={\"text_summary\": \"summary_embedding\"}, inplace=True)\n",
    "len(df)"
   ]
  },
  {
   "cell_type": "code",
   "execution_count": null,
   "id": "70a12746-aa1f-47b3-aea0-99c6d4d3341c",
   "metadata": {},
   "outputs": [],
   "source": [
    "df.head()"
   ]
  },
  {
   "cell_type": "code",
   "execution_count": null,
   "id": "ead61368-947d-4c89-a3d3-a01a0c84f66e",
   "metadata": {},
   "outputs": [],
   "source": [
    "df.to_csv(\"indexing/data/to_upsert/AHV_Lernbaustein_2024/AHV_Lernbaustein_2024_tags_llm_EMBED.csv\", index=None)"
   ]
  },
  {
   "cell_type": "markdown",
   "id": "52fdd733-1f07-4425-b008-916e830897e2",
   "metadata": {},
   "source": [
    "# EAK PRAXISLEITFADEN 2024"
   ]
  },
  {
   "cell_type": "code",
   "execution_count": null,
   "id": "2a83cb7e-19c7-44ac-8fa1-4353929fd2fc",
   "metadata": {},
   "outputs": [],
   "source": [
    "df = pd.read_csv(\"indexing/data/to_upsert/Guide_Pratique_CAF_CFC/guide_pratique_caf_cfc_de_tags_llm.csv\")\n",
    "len(df)"
   ]
  },
  {
   "cell_type": "code",
   "execution_count": null,
   "id": "c72f0b7e-a342-4f9c-b43b-e8f22fb794b7",
   "metadata": {},
   "outputs": [],
   "source": [
    "df.head()"
   ]
  },
  {
   "cell_type": "markdown",
   "id": "24394e9c-2e02-46ea-aab8-1d402a5882d9",
   "metadata": {},
   "source": [
    "# AKIS"
   ]
  },
  {
   "cell_type": "code",
   "execution_count": null,
   "id": "b98ae79d-ed2b-4a64-b45a-e3b9b491dca7",
   "metadata": {},
   "outputs": [],
   "source": [
    "df = pd.read_csv(\"indexing/data/zas_eak_copilot/akis/akis_EMBED_2.csv\")\n",
    "len(df)"
   ]
  },
  {
   "cell_type": "code",
   "execution_count": null,
   "id": "cde9f42b-18ca-4069-8c50-08e6c47774f8",
   "metadata": {},
   "outputs": [],
   "source": [
    "df.head()"
   ]
  },
  {
   "cell_type": "markdown",
   "id": "87487a1e-77d5-448e-85dc-af0466917bfc",
   "metadata": {},
   "source": [
    "# EAK ADMIN CH"
   ]
  },
  {
   "cell_type": "code",
   "execution_count": null,
   "id": "6cda3a75-e382-4da7-ac4a-2a06ab24e8f7",
   "metadata": {},
   "outputs": [],
   "source": [
    "df = pd.read_csv(\"indexing/data/to_upsert/eak_admin_ch/eak_admin_ch_de_fr_tags_NEW.csv\")\n",
    "len(df)"
   ]
  },
  {
   "cell_type": "code",
   "execution_count": null,
   "id": "63a164a0-e106-4296-acb8-a9e283db197f",
   "metadata": {},
   "outputs": [],
   "source": [
    "df.head()"
   ]
  },
  {
   "cell_type": "markdown",
   "id": "6c6bcb18-f53d-4908-b1da-8b3704de8f34",
   "metadata": {},
   "source": [
    "# FEDLEX"
   ]
  },
  {
   "cell_type": "code",
   "execution_count": null,
   "id": "9c96cbfc-9aae-4345-b9d1-c8257ffd54cc",
   "metadata": {},
   "outputs": [],
   "source": [
    "df = pd.read_csv(\"indexing/data/to_upsert/fedlex/lavs.csv\")\n",
    "len(df)"
   ]
  },
  {
   "cell_type": "code",
   "execution_count": null,
   "id": "c44c54ba-203a-47e3-a60b-9a2ba82a3c77",
   "metadata": {},
   "outputs": [],
   "source": [
    "df.head()"
   ]
  },
  {
   "cell_type": "markdown",
   "id": "d1ce61f5-786a-4ce8-af52-be674ea0fb3a",
   "metadata": {},
   "source": [
    "# AUTOCOMPLETE"
   ]
  },
  {
   "cell_type": "code",
   "execution_count": null,
   "id": "d3c7e724-d379-4716-86f1-3c3e8deb09f3",
   "metadata": {},
   "outputs": [],
   "source": [
    "df = pd.read_csv(\"indexing/data/to_upsert/autocomplete/question.csv\")\n",
    "\n",
    "df[\"text_embedding\"] = None\n",
    "\n",
    "len(df)"
   ]
  },
  {
   "cell_type": "code",
   "execution_count": null,
   "id": "835cc471-4e0f-43f9-a742-0b005c3f1647",
   "metadata": {},
   "outputs": [],
   "source": [
    "df.head()"
   ]
  },
  {
   "cell_type": "code",
   "execution_count": null,
   "id": "abae7238-663b-41d3-9b5f-49d8a555e0e4",
   "metadata": {},
   "outputs": [],
   "source": [
    "for i, row in tqdm.tqdm(df.iterrows()):\n",
    "\n",
    "    embeddings = await get_embedding([row.text])\n",
    "\n",
    "    df.loc[i, \"text_embedding\"] = str(embeddings[0].embedding)\n"
   ]
  },
  {
   "cell_type": "code",
   "execution_count": null,
   "id": "cdddb8c3-9e08-4f77-a175-3b14703e5974",
   "metadata": {},
   "outputs": [],
   "source": [
    "df.tail()"
   ]
  },
  {
   "cell_type": "code",
   "execution_count": null,
   "id": "90eebb48-b8fd-4a65-ab57-ec98b3ac4ab4",
   "metadata": {},
   "outputs": [],
   "source": [
    "df.to_csv(\"indexing/data/to_upsert/autocomplete/question_EMBED.csv\", index=None)"
   ]
  },
  {
   "cell_type": "code",
   "execution_count": null,
   "id": "1f834043-ddd3-4376-a9d6-5b551869b3c5",
   "metadata": {},
   "outputs": [],
   "source": [
    "df.to_csv(\"indexing/data/to_upsert/autocomplete/eak_admin_ch_de_fr_tags_EMBED.csv\", index=None)"
   ]
  },
  {
   "cell_type": "markdown",
   "id": "e7c0b559-7c28-4ba4-871d-c0507c11e01e",
   "metadata": {},
   "source": [
    "# EMBEDDING"
   ]
  },
  {
   "cell_type": "code",
   "execution_count": null,
   "id": "908b1373-c25c-4744-8a27-06e8c31c99d9",
   "metadata": {},
   "outputs": [],
   "source": [
    "MAX_INPUT_TOKENS = 8191"
   ]
  },
  {
   "cell_type": "code",
   "execution_count": null,
   "id": "4f4c1bf0-395b-4388-9420-4abf4092b973",
   "metadata": {},
   "outputs": [],
   "source": [
    "import tiktoken\n",
    "tokenizer = tiktoken.get_encoding(\"cl100k_base\")"
   ]
  },
  {
   "cell_type": "code",
   "execution_count": null,
   "id": "c55ff663-df86-4b6d-af10-95ffcf660d98",
   "metadata": {},
   "outputs": [],
   "source": [
    "from utils.embedding import get_embedding"
   ]
  },
  {
   "cell_type": "code",
   "execution_count": null,
   "id": "8bd105a5-0486-426b-8185-70b0e61b61ac",
   "metadata": {},
   "outputs": [],
   "source": [
    "df[\"text_embedding\"] = None\n",
    "df[\"tags_embedding\"] = None\n",
    "df[\"subtopics_embedding\"] = None\n",
    "df[\"summary_embedding\"] = None\n",
    "df[\"hyq_embedding\"] = None\n",
    "df[\"hyq_declarative_embedding\"] = None"
   ]
  },
  {
   "cell_type": "code",
   "execution_count": null,
   "id": "6f5ca15d-f1c6-49f5-816d-e5496edefbe4",
   "metadata": {},
   "outputs": [],
   "source": [
    "tags_embedding = await get_embedding(df.loc[0, \"tags\"]) # If tags are all the same\n",
    "\n",
    "for i, row in tqdm.tqdm(df[1114:].iterrows()):\n",
    "\n",
    "    try:\n",
    "        tokens = tokenizer.encode(row.text)\n",
    "        if len(tokens) > MAX_INPUT_TOKENS:\n",
    "            truncated_text = tokenizer.decode(tokens[:MAX_INPUT_TOKENS])\n",
    "            embeddings = await get_embedding(truncated_text)\n",
    "        else:\n",
    "            embeddings = await get_embedding(row.text)\n",
    "    except Exception as e:\n",
    "        embeddings = None\n",
    "\n",
    "    df.loc[i, \"text_embedding\"] = str(embeddings) if embeddings else None\n",
    "    #df.loc[i, \"summary_embedding\"] = str(embeddings[1].embedding)\n",
    "    #df.loc[i, \"hyq_embedding\"] = str(embeddings[2].embedding)\n",
    "    #df.loc[i, \"hyq_declarative_embedding\"] = str(embeddings[3].embedding)\n",
    "    #df.loc[i, \"subtopics_embedding\"] = str(embeddings[4].embedding)\n",
    "    df.loc[i, \"tags_embedding\"] = str(tags_embedding)\n"
   ]
  },
  {
   "cell_type": "code",
   "execution_count": null,
   "id": "af6ebdd5-608b-4b19-ae18-ba863114e9b3",
   "metadata": {},
   "outputs": [],
   "source": [
    "df.tail()"
   ]
  },
  {
   "cell_type": "code",
   "execution_count": null,
   "id": "f4e13112-f011-4244-b4ae-142abf1da90a",
   "metadata": {},
   "outputs": [],
   "source": [
    "df.head()"
   ]
  },
  {
   "cell_type": "code",
   "execution_count": null,
   "id": "9c52d556-5024-4f82-a20d-bee050eee887",
   "metadata": {},
   "outputs": [],
   "source": [
    "df.to_csv(\"indexing/data/zas_eak_copilot/akis/akis_EMBED_2.csv\", index=None)"
   ]
  },
  {
   "cell_type": "code",
   "execution_count": null,
   "id": "2ae91376-2455-4690-a381-e1338341aca6",
   "metadata": {},
   "outputs": [],
   "source": [
    "df = pd.read_csv(\"indexing/data/zas_eak_copilot/akis/akis_EMBED_2.csv\")"
   ]
  },
  {
   "cell_type": "code",
   "execution_count": null,
   "id": "161ea7e2-d443-45ea-9cd1-b9d7deeed80f",
   "metadata": {},
   "outputs": [],
   "source": [
    "df.tail()"
   ]
  }
 ],
 "metadata": {
  "kernelspec": {
   "display_name": "venv_copilot",
   "language": "python",
   "name": "venv_copilot"
  },
  "language_info": {
   "codemirror_mode": {
    "name": "ipython",
    "version": 3
   },
   "file_extension": ".py",
   "mimetype": "text/x-python",
   "name": "python",
   "nbconvert_exporter": "python",
   "pygments_lexer": "ipython3",
   "version": "3.11.10"
  }
 },
 "nbformat": 4,
 "nbformat_minor": 5
}
