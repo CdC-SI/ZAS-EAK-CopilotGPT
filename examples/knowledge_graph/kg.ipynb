{
 "cells": [
  {
   "cell_type": "code",
   "execution_count": 36,
   "id": "079912dd-d8dc-4a11-a4eb-5e5fe3a41aff",
   "metadata": {},
   "outputs": [],
   "source": [
    "from indexing.scraper import scraper\n",
    "from indexing.pipelines.admin import AdminParser\n",
    "\n",
    "from bs4 import BeautifulSoup\n",
    "from bs4.element import Tag"
   ]
  },
  {
   "cell_type": "code",
   "execution_count": null,
   "id": "56440111-f61c-4277-b419-de1350fd406e",
   "metadata": {},
   "outputs": [],
   "source": [
    "sitemap_url = \"https://eak.admin.ch/eak/de/home.sitemap.xml\"\n",
    "sitemap = await scraper.fetch(sitemap_url)\n",
    "sitemap"
   ]
  },
  {
   "cell_type": "code",
   "execution_count": null,
   "id": "b6b564e6-a352-454b-ba6a-32d97c49b313",
   "metadata": {},
   "outputs": [],
   "source": [
    "parser = AdminParser()\n",
    "url_list = parser.parse_urls(sitemap)\n",
    "url_list"
   ]
  },
  {
   "cell_type": "code",
   "execution_count": null,
   "id": "919457e4-5946-4f5d-96be-be498f2a6600",
   "metadata": {},
   "outputs": [],
   "source": [
    "# select language\n",
    "#url_list = [url.replace(\"/de/\", \"/fr/\") for url in url_list]\n",
    "url_list"
   ]
  },
  {
   "cell_type": "code",
   "execution_count": null,
   "id": "66be1c00-9a66-466b-af1e-a660a209da29",
   "metadata": {},
   "outputs": [],
   "source": [
    "# get content\n",
    "content = scraper.scrap_urls(url_list)\n",
    "content"
   ]
  },
  {
   "cell_type": "markdown",
   "id": "2a092980-fa6f-40b9-a8d3-2641ec6cdb5c",
   "metadata": {},
   "source": [
    "### Parser"
   ]
  },
  {
   "cell_type": "markdown",
   "id": "8ccb38a8-787f-4044-bede-26cdd3fd499d",
   "metadata": {},
   "source": [
    "- https://eak.admin.ch/eak/fr/home/sitemap.html has hierarchical structure of content -> use for KG"
   ]
  },
  {
   "cell_type": "code",
   "execution_count": 104,
   "id": "4e170ad6-7625-46c9-af9f-b34bb3b0a89e",
   "metadata": {},
   "outputs": [],
   "source": [
    "url = \"https://eak.admin.ch/eak/fr/home/sitemap.html\""
   ]
  },
  {
   "cell_type": "code",
   "execution_count": 105,
   "id": "5f884f70-203c-48c5-8c54-db6a7dc8d948",
   "metadata": {},
   "outputs": [],
   "source": [
    "content = scraper.scrap_urls([url])"
   ]
  },
  {
   "cell_type": "code",
   "execution_count": 139,
   "id": "44715658-56d1-4980-aa5e-8bf353ff4deb",
   "metadata": {},
   "outputs": [],
   "source": [
    "soup = BeautifulSoup(content[0].data)"
   ]
  },
  {
   "cell_type": "code",
   "execution_count": null,
   "id": "8516efd0-b664-4e09-a041-80215d62f8d7",
   "metadata": {},
   "outputs": [],
   "source": [
    "soup"
   ]
  },
  {
   "cell_type": "markdown",
   "id": "24b3da76-441d-4793-af18-8bee77e6e356",
   "metadata": {},
   "source": [
    "### Not necessary (?)"
   ]
  },
  {
   "cell_type": "code",
   "execution_count": 12,
   "id": "f74ecd0d-0584-4b18-aa75-efe37086e1e6",
   "metadata": {},
   "outputs": [],
   "source": [
    "sitemap = soup.find_all(\"div\", {\"class\":\"mod mod-sitemap\"})[0]"
   ]
  },
  {
   "cell_type": "code",
   "execution_count": null,
   "id": "67d8c7ed-b9b9-4678-a147-9b5255a1dcbe",
   "metadata": {},
   "outputs": [],
   "source": [
    "h3_tags = sitemap.find_all(\"h3\")\n",
    "h3_tags"
   ]
  },
  {
   "cell_type": "code",
   "execution_count": 79,
   "id": "14a9ca62-8b84-4c2b-a6e4-99d0579b3928",
   "metadata": {},
   "outputs": [],
   "source": [
    "# Initialize a list to hold the sections\n",
    "sections = []\n",
    "\n",
    "# Loop through each h3 tag\n",
    "for i, h3 in enumerate(h3_tags):\n",
    "    # Get the next siblings of the current h3 until the next h3\n",
    "    content = []\n",
    "    for sibling in h3.next_siblings:\n",
    "        if sibling.name == \"h3\":\n",
    "            break\n",
    "        if isinstance(sibling, Tag):\n",
    "            content.append(sibling)\n",
    "\n",
    "    # Add the h3 and its associated content to the sections list\n",
    "    sections.append({\n",
    "        'heading': h3.get_text(strip=True),\n",
    "        'content': content[0].find_all(\"a\") if content else []\n",
    "    })"
   ]
  },
  {
   "cell_type": "markdown",
   "id": "732e5f70-a6f9-4adf-b483-1877bec799f9",
   "metadata": {},
   "source": [
    "### Create nested dict for neo4j"
   ]
  },
  {
   "cell_type": "code",
   "execution_count": 141,
   "id": "3905b356-e100-41b5-bf6b-baf0b32c14d4",
   "metadata": {},
   "outputs": [],
   "source": [
    "from bs4 import BeautifulSoup\n",
    "from collections import defaultdict\n",
    "\n",
    "def build_hierarchy(element, use_href=False):\n",
    "    \"\"\"Recursively build a dictionary hierarchy from the HTML structure.\"\"\"\n",
    "    hierarchy = defaultdict(dict)\n",
    "    for tag in element.find_all('li', recursive=False):\n",
    "        a_tag = tag.find('a', recursive=False)\n",
    "        if a_tag:\n",
    "            if use_href:\n",
    "                key = \"https://eak.admin.ch\" + a_tag.get('href')\n",
    "            else:\n",
    "                key = a_tag.get_text(strip=True)\n",
    "\n",
    "            # Find nested UL (if any) and build its hierarchy\n",
    "            nested_ul = tag.find('ul', recursive=False)\n",
    "            if nested_ul:\n",
    "                hierarchy[key] = build_hierarchy(nested_ul, use_href)\n",
    "            else:\n",
    "                hierarchy[key] = {}\n",
    "    return hierarchy"
   ]
  },
  {
   "cell_type": "code",
   "execution_count": null,
   "id": "028a3a59-8247-4454-8285-764d91c6e737",
   "metadata": {},
   "outputs": [],
   "source": [
    "# Initialize a dictionary to hold the complete structure\n",
    "structure = {}\n",
    "\n",
    "# Option to use href as keys\n",
    "use_href = False  # Set this to False to use text instead of href\n",
    "\n",
    "# Find all h3 tags and build the hierarchy under each\n",
    "for h3 in soup.find_all('h3'):\n",
    "    first_a = h3.find('a')\n",
    "    if first_a:\n",
    "        if use_href:\n",
    "            h3_heading = \"https://eak.admin.ch\" + first_a.get('href')\n",
    "        else:\n",
    "            h3_heading = first_a.get_text(strip=True)\n",
    "\n",
    "        next_ul = h3.find_next_sibling('ul')\n",
    "        if next_ul:\n",
    "            structure[h3_heading] = build_hierarchy(next_ul, use_href)\n",
    "        else:\n",
    "            structure[h3_heading] = {}\n",
    "\n",
    "# Display the hierarchical structure\n",
    "import pprint\n",
    "pprint.pprint(structure)"
   ]
  },
  {
   "cell_type": "markdown",
   "id": "ecc857f8-51ab-4527-b3e7-d9df8674b2c6",
   "metadata": {},
   "source": [
    "- !!! Formulaires/Annonces pas récupérés\n",
    "    - eg. formulaires d'allocations familiales"
   ]
  },
  {
   "cell_type": "markdown",
   "id": "e0b03bef-c718-43b8-8284-e88208494996",
   "metadata": {},
   "source": [
    "# Postprocessing"
   ]
  },
  {
   "cell_type": "markdown",
   "id": "c17defea-7b17-468b-a684-3c1317981c2a",
   "metadata": {},
   "source": [
    "- for each subtopic\n",
    "    - can subtopic be linked to any other subtopic?"
   ]
  },
  {
   "cell_type": "code",
   "execution_count": null,
   "id": "7acd12a4-95a7-4645-ad4a-710d17330a04",
   "metadata": {},
   "outputs": [],
   "source": []
  },
  {
   "cell_type": "markdown",
   "id": "4648883e-b0a1-4efe-b0e4-1e0d52cf88e7",
   "metadata": {},
   "source": [
    "# Neo4j"
   ]
  },
  {
   "cell_type": "code",
   "execution_count": 150,
   "id": "3b74da97-1125-41c8-8a3a-e5e850aa2118",
   "metadata": {},
   "outputs": [],
   "source": [
    "from neo4j import GraphDatabase"
   ]
  },
  {
   "cell_type": "code",
   "execution_count": 151,
   "id": "cd660968-1f23-47dc-b7bd-6f3575a57db7",
   "metadata": {},
   "outputs": [],
   "source": [
    "# Example connection to Neo4j\n",
    "driver = GraphDatabase.driver(\"bolt://localhost:7687\", auth=(\"neo4j\", \"neo4j_password\"))"
   ]
  },
  {
   "cell_type": "code",
   "execution_count": null,
   "id": "2e7facbb-8ef1-4234-bacb-8e79608ce5e3",
   "metadata": {},
   "outputs": [],
   "source": [
    "def create_nodes_and_relationships(tx, parent, children):\n",
    "    for child in children:\n",
    "        tx.run(\"MERGE (p:Category {name: $parent}) \"\n",
    "               \"MERGE (c:Category {name: $child}) \"\n",
    "               \"MERGE (p)-[:CONTAINS]->(c)\", parent=parent, child=child)\n",
    "        # Recursively create relationships for the next level\n",
    "        create_nodes_and_relationships(tx, child, children[child])\n",
    "\n",
    "# Start a session and create the graph\n",
    "with driver.session() as session:\n",
    "    for parent, children in structure.items():\n",
    "        session.write_transaction(create_nodes_and_relationships, parent, children)"
   ]
  },
  {
   "cell_type": "code",
   "execution_count": null,
   "id": "eb20dbb8-6647-413c-ae69-3dfa9ebf22b7",
   "metadata": {},
   "outputs": [],
   "source": []
  },
  {
   "cell_type": "code",
   "execution_count": null,
   "id": "e444c5e4-7e33-452d-a0bb-dd89ae15a340",
   "metadata": {},
   "outputs": [],
   "source": []
  },
  {
   "cell_type": "code",
   "execution_count": null,
   "id": "87b7ea49-a4e1-4e7d-ada1-11e31722e0da",
   "metadata": {},
   "outputs": [],
   "source": []
  },
  {
   "cell_type": "code",
   "execution_count": null,
   "id": "833ac7f7-4be5-4d92-8e1c-abaeba686e68",
   "metadata": {},
   "outputs": [],
   "source": []
  },
  {
   "cell_type": "code",
   "execution_count": null,
   "id": "f57cf60a-3a72-456c-b8a1-96a7e5cc4258",
   "metadata": {},
   "outputs": [],
   "source": []
  },
  {
   "cell_type": "markdown",
   "id": "fddbc47b-65ba-4c09-a2a2-ed7911bb11f7",
   "metadata": {},
   "source": [
    "### Convert to docs"
   ]
  },
  {
   "cell_type": "code",
   "execution_count": null,
   "id": "c8ceccf3-4dcd-4cbe-9561-599ca6cfd9c0",
   "metadata": {},
   "outputs": [],
   "source": [
    "# convert to docs\n",
    "docs = parser.convert_to_documents(content)\n",
    "docs"
   ]
  }
 ],
 "metadata": {
  "kernelspec": {
   "display_name": "venv_copilot",
   "language": "python",
   "name": "venv_copilot"
  },
  "language_info": {
   "codemirror_mode": {
    "name": "ipython",
    "version": 3
   },
   "file_extension": ".py",
   "mimetype": "text/x-python",
   "name": "python",
   "nbconvert_exporter": "python",
   "pygments_lexer": "ipython3",
   "version": "3.11.7"
  }
 },
 "nbformat": 4,
 "nbformat_minor": 5
}
