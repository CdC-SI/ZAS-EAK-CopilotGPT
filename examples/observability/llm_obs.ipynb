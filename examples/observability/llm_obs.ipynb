{
 "cells": [
  {
   "cell_type": "code",
   "execution_count": 1,
   "id": "20417fd9-349e-4078-81ac-eda27f3cc446",
   "metadata": {},
   "outputs": [],
   "source": [
    "import os\n",
    "from typing import List, Dict\n",
    "from dotenv import load_dotenv\n",
    "\n",
    "from langfuse import Langfuse\n",
    "import pandas as pd\n",
    "import tiktoken\n",
    "\n",
    "from config.base_config import rag_config"
   ]
  },
  {
   "cell_type": "code",
   "execution_count": 2,
   "id": "3381d269-cb5c-4faf-83a7-cef9a7bfc68a",
   "metadata": {},
   "outputs": [],
   "source": [
    "load_dotenv()\n",
    "\n",
    "LANGFUSE_SECRET_KEY = os.environ.get(\"LANGFUSE_SECRET_KEY\", None)\n",
    "LANGFUSE_PUBLIC_KEY = os.environ.get(\"LANGFUSE_PUBLIC_KEY\", None)\n",
    "LANGFUSE_HOST = \"http://localhost:3000\""
   ]
  },
  {
   "cell_type": "code",
   "execution_count": 3,
   "id": "d813dc80-6119-49e6-bf60-043a313f756c",
   "metadata": {},
   "outputs": [],
   "source": [
    "langfuse = Langfuse(\n",
    "  secret_key=LANGFUSE_SECRET_KEY,\n",
    "  public_key=LANGFUSE_PUBLIC_KEY,\n",
    "  host=LANGFUSE_HOST\n",
    ")"
   ]
  },
  {
   "cell_type": "code",
   "execution_count": 4,
   "id": "275b0be6-a9f2-4ec5-aa7c-dcb24146ae37",
   "metadata": {},
   "outputs": [],
   "source": [
    "tokenizer = tiktoken.get_encoding(\"o200k_base\")"
   ]
  },
  {
   "cell_type": "code",
   "execution_count": 5,
   "id": "43b99e5a-951d-4314-be3d-18b1851952eb",
   "metadata": {},
   "outputs": [],
   "source": [
    "pricing = {\n",
    "    \"gpt-4o\": {\n",
    "        \"input\": 5,\n",
    "        \"output\": 15\n",
    "    },\n",
    "    \"gpt-4o-2024-08-06\": {\n",
    "        \"input\": 2.5,\n",
    "        \"output\": 10\n",
    "    },\n",
    "    \"gpt-4o-2024-05-13\": {\n",
    "        \"input\": 5,\n",
    "        \"output\": 15\n",
    "    },\n",
    "    \"gpt-4o-mini\": {\n",
    "        \"input\": 0.15,\n",
    "        \"output\": 0.6\n",
    "    },\n",
    "    \"gpt-4o-mini-2024-07-18\": {\n",
    "        \"input\": 0.15,\n",
    "        \"output\": 0.6\n",
    "    },\n",
    "    \"chatgpt-4o-latest\": {\n",
    "        \"input\": 5.00,\n",
    "        \"output\": 15.00\n",
    "    },\n",
    "    \"gpt-4-turbo\": {\n",
    "        \"input\": 10.00,\n",
    "        \"output\": 30.00\n",
    "    },\n",
    "    \"gpt-4-turbo-2024-04-09\": {\n",
    "        \"input\": 10.00,\n",
    "        \"output\": 30.00\n",
    "    },\n",
    "    \"gpt-4\": {\n",
    "        \"input\": 30.00,\n",
    "        \"output\": 60.00\n",
    "    },\n",
    "    \"gpt-4-32k\": {\n",
    "        \"input\": 60.00,\n",
    "        \"output\": 120.00\n",
    "    },\n",
    "    \"gpt-4-0125-preview\": {\n",
    "        \"input\": 10.00,\n",
    "        \"output\": 30.00\n",
    "    },\n",
    "    \"gpt-4-1106-preview\": {\n",
    "        \"input\": 10.00,\n",
    "        \"output\": 30.00\n",
    "    },\n",
    "    \"gpt-4-vision-preview\": {\n",
    "        \"input\": 10.00,\n",
    "        \"output\": 30.00\n",
    "    },\n",
    "    \"gpt-3.5-turbo-0125\": {\n",
    "        \"input\": 0.50,\n",
    "        \"output\": 1.50\n",
    "    },\n",
    "    \"gpt-3.5-turbo-instruct\": {\n",
    "        \"input\": 1.50,\n",
    "        \"output\": 2.00\n",
    "    },\n",
    "    \"gpt-3.5-turbo-1106\": {\n",
    "        \"input\": 1.00,\n",
    "        \"output\": 2.00\n",
    "    },\n",
    "    \"gpt-3.5-turbo-0613\": {\n",
    "        \"input\": 1.50,\n",
    "        \"output\": 2.00\n",
    "    },\n",
    "    \"gpt-3.5-turbo-16k-0613\": {\n",
    "        \"input\": 3.00,\n",
    "        \"output\": 4.00\n",
    "    },\n",
    "    \"gpt-3.5-turbo-0301\": {\n",
    "        \"input\": 1.50,\n",
    "        \"output\": 2.00\n",
    "    }\n",
    " }"
   ]
  },
  {
   "cell_type": "code",
   "execution_count": 6,
   "id": "4926e237-42a8-4ace-baa1-11433ef3b547",
   "metadata": {},
   "outputs": [],
   "source": [
    "model = rag_config[\"llm\"][\"model\"]\n",
    "\n",
    "if model in [\"gpt-4o\", \"gpt-4o-2024-05-13\", \"gpt-4o-2024-08-06\", \"chatgpt-4o-latest\", \"gpt-4o-mini\", \"gpt-4o-mini-2024-07-18\"]:\n",
    "    encoding = \"o200k_base\"\n",
    "elif model in [\"gpt-4-turbo\", \"gpt-4-turbo-2024-04-09\", \"gpt-4-turbo-preview\", \"gpt-4-0125-preview\", \"gpt-4-1106-preview\", \"gpt-4\",\n",
    "               \"gpt-4-0613\", \"gpt-4-0314\", \"gpt-3.5-turbo-0125\", \"gpt-3.5-turbo\", \"gpt-3.5-turbo-1106\", \"gpt-3.5-turbo-instruct\"]:\n",
    "    encoding = \"cl100k_base\"\n",
    "\n",
    "tokenizer = tiktoken.get_encoding(encoding)\n",
    "\n",
    "def get_cost(tokenizer, input: List[str], output: List[str], pricing: Dict, model: str):\n",
    "\n",
    "    n_input_toks = len(tokenizer.encode(input))\n",
    "    n_output_toks = len(tokenizer.encode(output))\n",
    "    input_cost = n_input_toks * pricing[model][\"input\"] / 1_000_000\n",
    "    output_cost = n_input_toks * pricing[model][\"output\"] / 1_000_000\n",
    "\n",
    "    return input_cost + output_cost"
   ]
  },
  {
   "cell_type": "markdown",
   "id": "ba610fe6-a526-45a8-b826-1f05c8fc8d49",
   "metadata": {},
   "source": [
    "### Get traces"
   ]
  },
  {
   "cell_type": "code",
   "execution_count": 7,
   "id": "65b0530a-ef2a-4f44-a453-4e33ebf2523f",
   "metadata": {},
   "outputs": [],
   "source": [
    "traces = langfuse.fetch_traces().data"
   ]
  },
  {
   "cell_type": "code",
   "execution_count": null,
   "id": "e671b253-d170-46ca-b083-c22355e25801",
   "metadata": {},
   "outputs": [],
   "source": [
    "trace_data = []\n",
    "\n",
    "for trace in traces:\n",
    "\n",
    "    input = trace.input[\"args\"][1][\"query\"]\n",
    "    output = \"\".join(trace.output) if trace.output else \"\"\n",
    "    trace_data.append(\n",
    "        {\n",
    "            \"id\": trace.id,\n",
    "            \"timestamp\": trace.timestamp.strftime('%Y-%m-%d %H:%M:%S'),\n",
    "            \"latency\": trace.latency,\n",
    "            \"cost\": get_cost(tokenizer=tokenizer,\n",
    "                       input=input,\n",
    "                       output=output,\n",
    "                       pricing=pricing,\n",
    "                       model=model),\n",
    "            \"input\": input,\n",
    "            \"output\": output\n",
    "        }\n",
    "    )\n",
    "\n",
    "trace_data_df = pd.DataFrame(trace_data)\n",
    "trace_data_df"
   ]
  },
  {
   "cell_type": "code",
   "execution_count": null,
   "id": "1bdc0a68-83ab-403f-acf7-5a80c585cb68",
   "metadata": {},
   "outputs": [],
   "source": [
    "trace_data_df.cost.sum()"
   ]
  },
  {
   "cell_type": "code",
   "execution_count": null,
   "id": "c427b86f-0090-430d-a025-7a0122e1e9aa",
   "metadata": {},
   "outputs": [],
   "source": [
    "trace_data_df.describe()"
   ]
  },
  {
   "cell_type": "markdown",
   "id": "82e9b074-0922-4d27-8ef7-a2ad5eed0211",
   "metadata": {},
   "source": [
    "### Observations"
   ]
  },
  {
   "cell_type": "code",
   "execution_count": 30,
   "id": "87ac3d91-3343-46a6-9645-666ae46a2a17",
   "metadata": {},
   "outputs": [],
   "source": [
    "observations = langfuse.fetch_observations(name=\"retrieve\")"
   ]
  },
  {
   "cell_type": "code",
   "execution_count": 38,
   "id": "9742cd10-258a-4c70-b269-3946f59aca21",
   "metadata": {},
   "outputs": [],
   "source": [
    "obs = {obs.trace_id: obs.output for obs in observations.data}\n",
    "trace_data_df[\"retrieval\"] = trace_data_df[\"id\"].map(obs)"
   ]
  },
  {
   "cell_type": "code",
   "execution_count": null,
   "id": "7f9c84f4-27e0-45f5-82b3-9a448cf1bfc1",
   "metadata": {},
   "outputs": [],
   "source": [
    "trace_data_df"
   ]
  },
  {
   "cell_type": "code",
   "execution_count": null,
   "id": "5c5bbba7-bd57-4f63-96ab-7647748345bf",
   "metadata": {},
   "outputs": [],
   "source": []
  },
  {
   "cell_type": "code",
   "execution_count": null,
   "id": "9a7dd9ca-326b-4ed3-b214-04e696d99654",
   "metadata": {},
   "outputs": [],
   "source": []
  },
  {
   "cell_type": "code",
   "execution_count": null,
   "id": "c8adeb0f-9a21-4393-ae96-b41360582afb",
   "metadata": {},
   "outputs": [],
   "source": []
  }
 ],
 "metadata": {
  "kernelspec": {
   "display_name": "venv_copilot",
   "language": "python",
   "name": "venv_copilot"
  },
  "language_info": {
   "codemirror_mode": {
    "name": "ipython",
    "version": 3
   },
   "file_extension": ".py",
   "mimetype": "text/x-python",
   "name": "python",
   "nbconvert_exporter": "python",
   "pygments_lexer": "ipython3",
   "version": "3.11.7"
  }
 },
 "nbformat": 4,
 "nbformat_minor": 5
}
