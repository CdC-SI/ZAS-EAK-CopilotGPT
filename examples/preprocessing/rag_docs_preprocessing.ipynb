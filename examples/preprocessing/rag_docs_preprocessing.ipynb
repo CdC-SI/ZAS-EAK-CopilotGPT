{
 "cells": [
  {
   "cell_type": "markdown",
   "id": "e1e77e56-95aa-4f9b-a863-84e0e38c5bf9",
   "metadata": {},
   "source": [
    "# Notebook description\n",
    "\n",
    "- Retrieve glossary tags from AHV-IV and BSV\n",
    "- Translate tags to english with deepl/LLM\n",
    "- Align tags across AHV-IV translation methods, across BSV translation methods, and across AHV-IV and BSV\n",
    "- Scrap data from AHV-IV mementos and eak.admin.ch\n",
    "- Augment RAG documents with top-level tags and subtopics\n",
    "    - Top-level `tags`: from AHV-IV mementos and eak.admin.ch web sections\n",
    "    - `subtopics`: from glossaries\n",
    "- Augment RAG documents with identified top-level tags, subtopics and summary (manual + llm extracted)\n",
    "- Augment RAG documents with doctype\n",
    "    - `context_doc`\n",
    "    - `formular`\n",
    "- Augment RAG documents with retrieval method\n",
    "    - `semantic_search`\n",
    "    - `raptor`\n",
    "    - `contextual_retrieval`\n",
    "    - for `graph_rag`and `light_rag`, see `kg_docs_preprocessing.ipynb`\n",
    "- ECL"
   ]
  },
  {
   "cell_type": "markdown",
   "id": "ac2311ad-1ac4-4dce-ae06-e3a09d5ed64c",
   "metadata": {},
   "source": [
    "# TO DO\n",
    "\n",
    "\n",
    "- [x] translate to eng if not correctly extracted (can get eng terms from https://www.ahv-iv.ch/en/Social-insurances/Glossary but not bsv)\n",
    "- [x] align terms across glossaries (ahv-iv, bsv)\n",
    "- [ ] align tags for eak.admin.ch > ahv-iv general tags + from eak.admin.ch urls/categories\n",
    "- [ ] Extract tags/topics (terms) for each document for:\n",
    "    - ahv-iv.ch\n",
    "    - eak.admin.ch\n",
    "    - praxisleitfaden\n",
    "    - ahv-lernbaustein\n",
    "\n",
    "- [ ] doctype definition (context_doc, formular)\n",
    "\n",
    "- [ ] integrate to intent classification module\n",
    "- [ ] affirmative query reformulation module/retriever + dynamic tags/topics (terms) filtering for agentic RAG\n",
    "- [ ] inject glossary terms + related links to RAG context with semantic search/mahalanobis dist based on dynamically identified tags/topics (terms)\n",
    "- [ ] ECL\n",
    "    - embed tags/descriptions"
   ]
  },
  {
   "cell_type": "code",
   "execution_count": null,
   "id": "8d54b209-180f-4b7d-b090-66eb33fe5218",
   "metadata": {},
   "outputs": [],
   "source": [
    "CSV_CHAR_LIMIT = 131_072\n",
    "MAX_EMBEDDING_TOKENS = 8191"
   ]
  },
  {
   "cell_type": "code",
   "execution_count": null,
   "id": "d51259f1-6885-4bd0-afa7-5a93b8d97b5c",
   "metadata": {},
   "outputs": [],
   "source": [
    "import tiktoken\n",
    "import pandas as pd"
   ]
  },
  {
   "cell_type": "code",
   "execution_count": null,
   "id": "925a0e3b-f294-4984-9d5b-aef75656de15",
   "metadata": {},
   "outputs": [],
   "source": [
    "tokenizer = tiktoken.get_encoding(\"cl100k_base\")"
   ]
  },
  {
   "cell_type": "markdown",
   "id": "60005a5c-8952-4cd9-ba8c-aa4ef6299936",
   "metadata": {},
   "source": [
    "# EAK"
   ]
  },
  {
   "cell_type": "code",
   "execution_count": null,
   "id": "49365bfd-c81e-4e8a-87d9-5c4e7ce63017",
   "metadata": {},
   "outputs": [],
   "source": [
    "df = pd.read_csv(\"indexing/data/to_upsert/eak_admin_ch/eak_admin_ch_de_fr_tags_NEW.csv\")\n",
    "\n",
    "df[\"subtopics\"] = None\n",
    "df[\"organizations\"] = \"EAK\"\n",
    "df[\"doctype\"] = \"context_doc\"\n",
    "df[\"summary\"] = None\n",
    "df[\"hyq\"] = None\n",
    "df[\"hyq_declarative\"] = None\n",
    "df[\"tags\"] = None"
   ]
  },
  {
   "cell_type": "code",
   "execution_count": null,
   "id": "ad95eec0-4034-4d46-804b-2466b9e17399",
   "metadata": {},
   "outputs": [],
   "source": [
    "df.to_csv(\"indexing/data/to_upsert/eak_admin_ch/eak_admin_ch_de_fr_tags_NEW.csv\", index=None)"
   ]
  },
  {
   "cell_type": "markdown",
   "id": "7bfe7905-9fac-4ad4-9f5a-611eec825f68",
   "metadata": {},
   "source": [
    "# AHV-IV MEMENTO"
   ]
  },
  {
   "cell_type": "code",
   "execution_count": null,
   "id": "a9544188-cb4f-402b-951b-de83729f62c5",
   "metadata": {},
   "outputs": [],
   "source": [
    "df = pd.read_csv(\"indexing/data/to_upsert/ahv_iv_memento/ahv_iv_de_fr_it_tags_subtopics_llm.csv\")\n",
    "df.rename(columns={\"organization\": \"organizations\"}, inplace=True)\n",
    "df[\"text\"] = df.text.apply(lambda x: x[:CSV_CHAR_LIMIT] if len(x) > CSV_CHAR_LIMIT else x)\n",
    "df.head()"
   ]
  },
  {
   "cell_type": "code",
   "execution_count": null,
   "id": "6d664a53-e810-485a-b9d4-dead9721dea3",
   "metadata": {},
   "outputs": [],
   "source": [
    "df[\"embedding_limit\"] = df.text.apply(lambda x: len(tokenizer.encode(x)) > MAX_EMBEDDING_TOKENS)\n",
    "\n",
    "new_docs = []\n",
    "for i, row in df.iterrows():\n",
    "    if row.embedding_limit:\n",
    "        tokenized_text = tokenizer.encode(row.text)\n",
    "        chunks = [tokenizer.decode(tokenized_text[i:i + MAX_EMBEDDING_TOKENS]) for i in range(0, len(tokenized_text), MAX_EMBEDDING_TOKENS)]\n",
    "        for chunk in chunks:\n",
    "            new_docs.append(\n",
    "                {\n",
    "                    \"text\": chunk,\n",
    "                    \"language\": row.language,\n",
    "                    \"url\": row.url,\n",
    "                    \"tags\": row.tags,\n",
    "                    \"subtopics\": row.subtopics,\n",
    "                    \"organizations\": row.organizations,\n",
    "                    \"summary\": row.summary,\n",
    "                    \"doctype\": row.doctype,\n",
    "                    \"hyq\": row.hyq,\n",
    "                    \"hyq_declarative\": row.hyq_declarative,\n",
    "                }\n",
    "            )\n",
    "        df.drop(index=i, inplace=True)\n",
    "\n",
    "df.reset_index(inplace=True)"
   ]
  },
  {
   "cell_type": "code",
   "execution_count": null,
   "id": "0e7e8e54-7be2-48f1-add3-9289df162f78",
   "metadata": {},
   "outputs": [],
   "source": [
    "len(df)"
   ]
  },
  {
   "cell_type": "code",
   "execution_count": null,
   "id": "1b4860f3-e757-408a-b7f7-dd44cb5c84b7",
   "metadata": {},
   "outputs": [],
   "source": [
    "len(new_docs)"
   ]
  },
  {
   "cell_type": "code",
   "execution_count": null,
   "id": "6dc4f9c4-0b2d-46fe-9132-6371639afe5b",
   "metadata": {},
   "outputs": [],
   "source": [
    "df = pd.concat([df, pd.DataFrame(new_docs)])\n",
    "df.reset_index(inplace=True)"
   ]
  },
  {
   "cell_type": "code",
   "execution_count": null,
   "id": "7118725d-b433-43cb-a470-ec674535156b",
   "metadata": {},
   "outputs": [],
   "source": [
    "df.drop(columns=[\"embedding_limit\"], inplace=True)"
   ]
  },
  {
   "cell_type": "code",
   "execution_count": null,
   "id": "35351442-6a7e-4ec6-86a4-acc565ceff90",
   "metadata": {},
   "outputs": [],
   "source": [
    "df"
   ]
  },
  {
   "cell_type": "code",
   "execution_count": null,
   "id": "47f997c5-2526-4c80-9889-90451395dc8a",
   "metadata": {},
   "outputs": [],
   "source": [
    "df.text.apply(lambda x: len(tokenizer.encode(x)) > 8192).sum()"
   ]
  },
  {
   "cell_type": "code",
   "execution_count": null,
   "id": "8cb8753d-c81f-4704-98a1-c7eae7d60f77",
   "metadata": {},
   "outputs": [],
   "source": [
    "len(tokenizer.encode(df.loc[5].text))"
   ]
  },
  {
   "cell_type": "markdown",
   "id": "cbc36333-b1fd-4884-8ba4-55a89b7cc5a6",
   "metadata": {},
   "source": [
    "# AHV LERNBAUSTEIN 2024"
   ]
  },
  {
   "cell_type": "code",
   "execution_count": null,
   "id": "7843d13a-ef46-4a20-b575-edc1a3b74759",
   "metadata": {},
   "outputs": [],
   "source": [
    "df = pd.read_csv(\"indexing/data/to_upsert/AHV_Lernbaustein_2024/AHV_Lernbaustein_2024_tags_llm.csv\")\n",
    "df[\"doctype\"] = \"context_doc\"\n",
    "df[\"hyq\"] = None\n",
    "df[\"hyq_declarative\"] = None\n",
    "df[\"organizations\"] = \"EAK\"\n",
    "df[\"tags\"] = df.tags.apply(lambda x: x.lower().replace(\" \", \"_\"))\n",
    "df.head()"
   ]
  },
  {
   "cell_type": "code",
   "execution_count": null,
   "id": "ea5d90d5-4bd4-4ace-a678-22ca424d3ebf",
   "metadata": {},
   "outputs": [],
   "source": [
    "df.to_csv(\"indexing/data/to_upsert/AHV_Lernbaustein_2024/AHV_Lernbaustein_2024_tags_llm.csv\", index=None)"
   ]
  },
  {
   "cell_type": "markdown",
   "id": "babff966-e447-4390-87e9-5f4f55abea60",
   "metadata": {},
   "source": [
    "# PRAXISLEITFADEN"
   ]
  },
  {
   "cell_type": "code",
   "execution_count": null,
   "id": "a4a6c5fe-ff21-427c-99ff-53f80efcd86f",
   "metadata": {},
   "outputs": [],
   "source": [
    "df = pd.read_csv(\"indexing/data/to_upsert/Guide_Pratique_CAF_CFC/guide_pratique_caf_cfc_de_tags_llm.csv\")\n",
    "\n",
    "#df.drop(columns=[\"context\", \"parent_node\", \"childen_nodes\"], inplace=True)\n",
    "df[\"doctype\"] = \"context_doc\"\n",
    "df[\"hyq\"] = None\n",
    "df[\"hyq_declarative\"] = None\n",
    "df[\"organizations\"] = \"EAK\"\n",
    "df[\"tags\"] = \"family_allowances\"\n",
    "df[\"subtopics\"] = None\n",
    "df.head()"
   ]
  },
  {
   "cell_type": "code",
   "execution_count": null,
   "id": "d78f1485-dff4-4eae-b5b9-5d18bb9d55d7",
   "metadata": {},
   "outputs": [],
   "source": [
    "df.to_csv(\"indexing/data/to_upsert/Guide_Pratique_CAF_CFC/guide_pratique_caf_cfc_de_tags_llm.csv\", index=None)"
   ]
  },
  {
   "cell_type": "markdown",
   "id": "ec634eab-fa8f-409b-be20-e1df50145fbf",
   "metadata": {},
   "source": [
    "# FEDLEX"
   ]
  },
  {
   "cell_type": "code",
   "execution_count": null,
   "id": "c8c5f68f-8e59-401c-8f9f-57dc51585648",
   "metadata": {},
   "outputs": [],
   "source": [
    "df_de = pd.read_csv(\"indexing/data/to_upsert/fedlex/Bundesgesetz vom 20. Dezember 1946 über die Alters- und Hinterlassenenversicherung (AHVG)_de.csv\")\n",
    "df_fr = pd.read_csv(\"indexing/data/to_upsert/fedlex/Loi fédérale du 20 décembre 1946 sur l'assurance-vieillesse et survivants (LAVS)_fr.csv\")\n",
    "df_it = pd.read_csv(\"indexing/data/to_upsert/fedlex/Legge federale del 20 dicembre 1946 sull'assicurazione per la vecchiaia e per i superstiti (LAVS)_it.csv\")\n",
    "\n",
    "df_de[\"tags\"] = \"lavs\""
   ]
  },
  {
   "cell_type": "code",
   "execution_count": null,
   "id": "274e9814-04c7-4773-92c2-4558cef4c22c",
   "metadata": {},
   "outputs": [],
   "source": [
    "df = pd.concat([df_de, df_fr, df_it])\n",
    "df"
   ]
  },
  {
   "cell_type": "code",
   "execution_count": null,
   "id": "41c4702c-5022-401b-ba98-66cb40e32bdc",
   "metadata": {},
   "outputs": [],
   "source": [
    "df.to_csv(\"indexing/data/to_upsert/fedlex/lavs.csv\", index=None)"
   ]
  },
  {
   "cell_type": "markdown",
   "id": "fe24ce36-192f-4f99-885d-5a1b201ed2ae",
   "metadata": {},
   "source": [
    "# AKIS"
   ]
  },
  {
   "cell_type": "code",
   "execution_count": null,
   "id": "5c1a8e75-e900-49b6-ab18-4486e0c39848",
   "metadata": {},
   "outputs": [],
   "source": [
    "df = pd.read_csv(\"indexing/data/zas_eak_copilot/akis/akis_hyq.csv\")\n",
    "#df.rename(columns={\"organization\": \"organizations\"}, inplace=True)\n",
    "df[\"text\"] = df.text.apply(lambda x: x[:CSV_CHAR_LIMIT] if len(x) > CSV_CHAR_LIMIT else x)\n",
    "#df[\"subtopics\"] = None\n",
    "df.head()"
   ]
  },
  {
   "cell_type": "code",
   "execution_count": null,
   "id": "a187920c-2a7b-4f6a-b3f7-a52f1a693208",
   "metadata": {},
   "outputs": [],
   "source": []
  },
  {
   "cell_type": "code",
   "execution_count": null,
   "id": "b3af0299-b98c-4943-a814-17b8d65916d4",
   "metadata": {},
   "outputs": [],
   "source": []
  },
  {
   "cell_type": "markdown",
   "id": "b4213738-8712-483d-ae28-86468e54774e",
   "metadata": {},
   "source": [
    "# LLM AUGMENTATION"
   ]
  },
  {
   "cell_type": "code",
   "execution_count": null,
   "id": "954574fe-2ac6-48da-8bdd-32400c1509f3",
   "metadata": {},
   "outputs": [],
   "source": [
    "QUERY_STATEMENT_REWRITING_PROMPT_DE = \"\"\"<anweisungen>\n",
    "    <anweisung>Gebe den untenstehenden <text> vor, formuliere {n_alt_queries} Fragen, die der Text genau beantworten kann</anweisung>\n",
    "    <anweisung>Geben Sie die generierten Fragen vor, formulieren Sie sie in einem deklarativen/affirmativen Tonfall in mehrere alternative Aussagen um</anweisung>\n",
    "    <anweisung>Jede umformulierte Aussage sollte die Bedeutung der ursprünglichen Anfrage beibehalten, sie aber auf eine etwas andere Weise ausdrücken</anweisung>\n",
    "    <anweisung>Schreiben Sie Fragen/Reformulierungen immer in derselben Sprache wie der <text></anweisung>\n",
    "</anweisungen>\n",
    "\n",
    "<Beispiele>\n",
    "hyq: [„Wie ist das Wetter?“, „Was ändert sich mit AHV21?“, „Was bedeutet das flexible Rentenalter?“]\n",
    "hyq_delarative: [„Ich möchte wissen, wie das Wetter ist“, „Erklär mir, was sich mit der AHV21 ändert“, „Flexibles Rentenalter erklärt“]\n",
    "</Beispiele>\n",
    "\n",
    "<format_der_antwort>\n",
    "HYQReformulationSchema(BaseModel)\n",
    "    hyq: List[str] # eine Liste von Fragen, die der <text> genau beantworten kann.\n",
    "    hyq_declarative = List[str] # die affirmative/deklarative Umformulierung der hyq-Fragen.\n",
    "</format_der_antwort>\n",
    "\n",
    "<text>\n",
    "{text}\n",
    "</text>\"\"\"\n",
    "\n",
    "QUERY_STATEMENT_REWRITING_PROMPT_FR = \"\"\"<instructions>\n",
    "    <instruction>Étant donné le <texte> ci-dessous, formulez {n_alt_queries} questions auxquelles le texte peut exactement répondre</instruction>\n",
    "    <instruction>Étant donné les questions générées, reformulez les en plusieurs énoncés alternatifs sur un ton déclaratif/affirmatif</instruction>\n",
    "    <instruction>Chaque déclaration reformulée doit conserver le sens de la requête originale mais l'exprimer d'une manière légèrement différente</instruction>\n",
    "    <instruction>Toujours écrire les questions/reformulations dans la même langue que le <texte></instruction>\n",
    "</instructions>\n",
    "\n",
    "<exemples>\n",
    "hyq: [\"Quel temps fait-il?\", \"Que change avec AVS21 ?\", \"Que signifie l'âge de la retraite flexible ?\"]\n",
    "hyq_delarative: [\"J'aimerais connaître le temps qu'il fait\", \"Explique moi ce qui change avec AVS21\", \"L'âge de la retraite flexible expliqué\"]\n",
    "</exemples>\n",
    "\n",
    "<format_de_réponse>\n",
    "HYQReformulationSchema(BaseModel)\n",
    "    hyq: List[str] # une liste de questions auxquelles le <texte> peut répondre exactement\n",
    "    hyq_declarative = List[str] # la reformulation de manière affirmative/déclarative des questions hyq\n",
    "</format_de_réponse>\n",
    "\n",
    "<texte>\n",
    "{text}\n",
    "</texte>\"\"\"\n",
    "\n",
    "QUERY_STATEMENT_REWRITING_PROMPT_IT = \"\"\"<istruzioni>\n",
    "    <istruzione>Dato il <testo> sottostante, formulare {n_alt_queries} domande a cui il testo può rispondere esattamente</istruzione>.\n",
    "    <istruzione>Date le domande generate, riformularle in diverse affermazioni alternative con un tono dichiarativo/affermativo</istruzione>.\n",
    "    <istruzione>Ogni affermazione riformulata deve mantenere il significato della domanda originale, ma esprimerlo in modo leggermente diverso</istruzione>.\n",
    "    <istruzione>Scrivere sempre le domande/riformulazioni nella stessa lingua del <testo></istruzione>.\n",
    "</istruzioni>\n",
    "\n",
    "<esempi>\n",
    "hyq: [“Com'è il tempo?”, “Cosa sta cambiando con AVS21?”, “Cosa significa l'età pensionabile flessibile?”]\n",
    "hyq_delarative: [“Vorrei sapere com'è il tempo”, “Spiegami cosa sta cambiando con AVS21”, “L'età pensionabile flessibile spiegata”].\n",
    "</esempi>\n",
    "\n",
    "<formato_di_risposta>\n",
    "HYQReformulationSchema(BaseModel)\n",
    "    hyq: List[str] # un elenco di domande a cui il <testo> può rispondere esattamente\n",
    "    hyq_declarative = List[str] # la riformulazione affermativa/declarativa delle domande hyq.\n",
    "</formato_di_risposta>\n",
    "\n",
    "<testo>\n",
    "{text}\n",
    "</testo>\"\"\"\n",
    "\n",
    "prompts = {\n",
    "    \"de\": QUERY_STATEMENT_REWRITING_PROMPT_DE,\n",
    "    \"fr\": QUERY_STATEMENT_REWRITING_PROMPT_FR,\n",
    "    \"it\": QUERY_STATEMENT_REWRITING_PROMPT_IT,\n",
    "}"
   ]
  },
  {
   "cell_type": "code",
   "execution_count": null,
   "id": "507efad6-6c3f-45dc-b637-d64742d2237b",
   "metadata": {},
   "outputs": [],
   "source": [
    "organizations = \"EAK\""
   ]
  },
  {
   "cell_type": "code",
   "execution_count": null,
   "id": "f3b42259-2f89-4467-9088-a321384f75a1",
   "metadata": {},
   "outputs": [],
   "source": [
    "for i, row in tqdm.tqdm(df.iterrows()):\n",
    "    len_toks = len(tokenizer.encode(row.text))\n",
    "    if len_toks > MAX_EMBEDDING_TOKENS:\n",
    "        print(len_toks)"
   ]
  },
  {
   "cell_type": "code",
   "execution_count": null,
   "id": "0baf4df0-0f13-46e5-8dbc-ba9bcac6ae7f",
   "metadata": {},
   "outputs": [],
   "source": [
    "class HYQReformulationSchema(BaseModel):\n",
    "    hyq: List[str]\n",
    "    hyq_declarative: List[str]\n",
    "\n",
    "for i, row in tqdm.tqdm(df.iterrows()):\n",
    "\n",
    "\n",
    "    prompt = prompts.get(row.language)\n",
    "    messages = [\n",
    "        {\"role\": \"user\", \"content\": prompt.format(n_alt_queries=3, text=row.text)}\n",
    "    ]\n",
    "    res = await llm_client.beta.chat.completions.parse(\n",
    "        model=\"gpt-4o\",\n",
    "            temperature=0,\n",
    "            top_p=0.95,\n",
    "            max_tokens=2048,\n",
    "            messages=messages,\n",
    "            response_format=HYQReformulationSchema,\n",
    "        )\n",
    "    \n",
    "    hyq = res.choices[0].message.parsed.hyq\n",
    "    hyq_declarative = res.choices[0].message.parsed.hyq_declarative\n",
    "    #if row.organizations:\n",
    "    #organizations = \",\".join(ast.literal_eval(row.organizations))\n",
    "    #else:\n",
    "\n",
    "    #organizations = organizations\n",
    "\n",
    "    #df.loc[i, \"organizations\"] = row.organizations\n",
    "    df.loc[i, \"hyq\"] = \"{SEP}\".join(hyq)\n",
    "    df.loc[i, \"hyq_declarative\"] = \"{SEP}\".join(hyq_declarative)\n",
    "\n",
    "    \"\"\"\n",
    "    text_embedding = await get_embedding(row.text)\n",
    "    df.loc[i, \"text_embedding\"] = str(text_embedding)\n",
    "    \n",
    "    tags_embedding = await get_embedding(row.tags)\n",
    "    df.loc[i, \"tags_embedding\"] = str(tags_embedding)\n",
    "\n",
    "    subtopics_embedding = await get_embedding(row.subtopics)\n",
    "    df.loc[i, \"subtopics_embedding\"] = str(subtopics_embedding)\n",
    "\n",
    "    summary_embedding = await get_embedding(row.summary)\n",
    "    df.loc[i, \"text_summary\"] = str(summary_embedding)\n",
    "\n",
    "    hyq_embedding = await get_embedding(\",\".join(hyq))\n",
    "    df.loc[i, \"hyq_embedding\"] = str(hyq_embedding)\n",
    "    \n",
    "    hyq_declarative_embedding = await get_embedding(\",\".join(hyq_declarative))\n",
    "    df.loc[i, \"hyq_declarative_embedding\"] = str(hyq_declarative_embedding)\n",
    "    \"\"\""
   ]
  },
  {
   "cell_type": "code",
   "execution_count": null,
   "id": "449d7795-b21e-4875-a8fc-552f35be936d",
   "metadata": {},
   "outputs": [],
   "source": [
    "df.to_csv(\"indexing/data/to_upsert/akis/akis_EMBED.csv\", index=None)"
   ]
  },
  {
   "cell_type": "code",
   "execution_count": null,
   "id": "63dfa905-045f-4764-9d02-e4b75598f1ba",
   "metadata": {},
   "outputs": [],
   "source": []
  },
  {
   "cell_type": "code",
   "execution_count": null,
   "id": "0daae836-80e8-46db-b639-b64c0b7f6111",
   "metadata": {},
   "outputs": [],
   "source": [
    "df.to_csv(\"indexing/data/to_upsert/ahv_iv_memento/ahv_iv_de_fr_it_tags_subtopics_llm_EMBED.csv\", index=None)"
   ]
  },
  {
   "cell_type": "code",
   "execution_count": null,
   "id": "fe1e9330-ff6c-4d1d-86c3-93fda6a9ba62",
   "metadata": {},
   "outputs": [],
   "source": []
  },
  {
   "cell_type": "code",
   "execution_count": null,
   "id": "74786fd1-47c9-4ac9-ab8e-4a51f6783353",
   "metadata": {},
   "outputs": [],
   "source": []
  },
  {
   "cell_type": "code",
   "execution_count": null,
   "id": "6cce2cb9-7aa6-4c3a-826b-a8c60875b942",
   "metadata": {},
   "outputs": [],
   "source": []
  },
  {
   "cell_type": "code",
   "execution_count": null,
   "id": "d0fd1e99-2f99-46a9-b494-85bc92a21a25",
   "metadata": {},
   "outputs": [],
   "source": [
    "df.to_csv(\"indexing/data/to_upsert/AHV_Lernbaustein_2024/AHV_Lernbaustein_2024_tags_llm_EMBED.csv\", index=None)"
   ]
  },
  {
   "cell_type": "code",
   "execution_count": null,
   "id": "74a84ecf-54cb-4edc-ac30-e29bb087ca29",
   "metadata": {},
   "outputs": [],
   "source": []
  },
  {
   "cell_type": "code",
   "execution_count": null,
   "id": "dce87504-fb30-42b3-ac32-60841d5859b6",
   "metadata": {},
   "outputs": [],
   "source": [
    "df = pd.read_csv(\"indexing/data/to_upsert/AHV_Lernbaustein_2024/AHV_Lernbaustein_2024_tags_llm_EMBED.csv\")"
   ]
  },
  {
   "cell_type": "code",
   "execution_count": null,
   "id": "4e5ef6dc-b7d9-41bb-b9f9-fdb1735b79e0",
   "metadata": {},
   "outputs": [],
   "source": []
  },
  {
   "cell_type": "code",
   "execution_count": null,
   "id": "6647ab98-2e37-4637-9c5d-3cc3b28a1a4c",
   "metadata": {},
   "outputs": [],
   "source": []
  },
  {
   "cell_type": "code",
   "execution_count": null,
   "id": "d083a5ac-39c8-429a-a43f-1e109da05488",
   "metadata": {},
   "outputs": [],
   "source": []
  },
  {
   "cell_type": "code",
   "execution_count": null,
   "id": "85923258-bc88-4ba7-9ee3-4aa3d71c619a",
   "metadata": {},
   "outputs": [],
   "source": []
  },
  {
   "cell_type": "markdown",
   "id": "08e3a281-d954-42e3-ad93-87f1493c5b1b",
   "metadata": {},
   "source": [
    "# Imports"
   ]
  },
  {
   "cell_type": "code",
   "execution_count": null,
   "id": "0b424d66-222c-4c77-804a-b9b45095c3ec",
   "metadata": {},
   "outputs": [],
   "source": [
    "import os\n",
    "from dotenv import load_dotenv\n",
    "from typing import Dict, List\n",
    "import requests\n",
    "from bs4 import BeautifulSoup\n",
    "import pandas as pd\n",
    "import ast\n",
    "from typing import List\n",
    "from pydantic import BaseModel\n",
    "from openai import AsyncOpenAI\n",
    "import tqdm\n",
    "from dataclasses import dataclass\n",
    "import deepl\n",
    "import asyncio"
   ]
  },
  {
   "cell_type": "code",
   "execution_count": null,
   "id": "0fe0f34d-326b-4f04-a9ec-512eb1d7db07",
   "metadata": {},
   "outputs": [],
   "source": [
    "load_dotenv()\n",
    "OPENAI_API_KEY = os.environ.get(\"OPENAI_API_KEY\", None)\n",
    "DEEPL_API_KEY = os.environ.get(\"DEEPL_API_KEY\", None)"
   ]
  },
  {
   "cell_type": "code",
   "execution_count": null,
   "id": "b67feb02-c965-404a-9217-949ca1c671df",
   "metadata": {},
   "outputs": [],
   "source": [
    "llm_client = AsyncOpenAI(\n",
    "    api_key=OPENAI_API_KEY\n",
    ")"
   ]
  },
  {
   "cell_type": "code",
   "execution_count": null,
   "id": "113036bd-13f6-42d7-b874-3d717b02a573",
   "metadata": {},
   "outputs": [],
   "source": [
    "translator = deepl.Translator(DEEPL_API_KEY)"
   ]
  },
  {
   "cell_type": "markdown",
   "id": "fc23dac8-bd21-4a5a-aa60-3bc6b1de5195",
   "metadata": {},
   "source": [
    "# Scrap tags from AHV-IV glossary"
   ]
  },
  {
   "cell_type": "code",
   "execution_count": null,
   "id": "867eaaee-0be8-4555-a69c-fc2218b988b3",
   "metadata": {},
   "outputs": [],
   "source": [
    "glossary_ahv_iv = {}\n",
    "\n",
    "urls = {\n",
    "    \"de\": \"https://www.ahv-iv.ch/de/Sozialversicherungen/Glossar\",\n",
    "    \"fr\": \"https://www.ahv-iv.ch/fr/Assurances-sociales/Glossaire\",\n",
    "    \"it\": \"https://www.ahv-iv.ch/it/Assicurazioni-sociali/Glossario\",\n",
    "    \"en\": \"https://www.ahv-iv.ch/en/Social-insurances/Glossary\",\n",
    "}\n",
    "\n",
    "for lang, url in urls.items():\n",
    "    res = requests.get(url)\n",
    "    soup = BeautifulSoup(res.content)\n",
    "    glossary_ahv_iv[lang] = {}\n",
    "    for element in soup.find_all(\"div\", {\"class\": \"app-glossary-single-term\"}):\n",
    "        glossary_ahv_iv[lang][element.find(\"strong\").text.strip()] = {}\n",
    "        glossary_ahv_iv[lang][element.find(\"strong\").text.strip()][\"description\"] = element.find(\"p\").text.strip()\n",
    "\n",
    "[pd.DataFrame.from_dict(glossary_ahv_iv[lang]).T.to_csv(f\"indexing/data/glossary/glossary_ahv_iv_{lang}.csv\") for lang in glossary_ahv_iv.keys()]\n",
    "#glossary_ahv_iv"
   ]
  },
  {
   "cell_type": "markdown",
   "id": "b36a3aba-c6fb-4a96-a478-c67c4ef98dab",
   "metadata": {},
   "source": [
    "# Scrap tags from BSV glossary"
   ]
  },
  {
   "cell_type": "code",
   "execution_count": null,
   "id": "076453d9-73fa-470f-95f5-765dff849215",
   "metadata": {},
   "outputs": [],
   "source": [
    "glossary_bsv = {}\n",
    "\n",
    "urls = {\n",
    "    \"de\": \"https://www.bsv.admin.ch/bsv/de/home/glossar.html\",\n",
    "    \"fr\": \"https://www.bsv.admin.ch/bsv/fr/home/glossar.html#glossary-caisse_de_pension\",\n",
    "    \"it\": \"https://www.bsv.admin.ch/bsv/it/home/glossar.html\"\n",
    "}\n",
    "\n",
    "for lang, url in urls.items():\n",
    "    res = requests.get(url)\n",
    "    soup = BeautifulSoup(res.content)\n",
    "    glossary_bsv[lang] = {}\n",
    "    \n",
    "    for element in soup.find_all(\"dl\"):\n",
    "        glossary_bsv[lang][element.find(\"dt\").text.strip()] = {}\n",
    "        glossary_bsv[lang][element.find(\"dt\").text.strip()][\"description\"] = element.find(\"dd\").find(\"p\").text.strip()\n",
    "        if element.find(\"dd\").find(\"div\", {\"class\": \"relatedlinks\"}):\n",
    "            glossary_bsv[lang][element.find(\"dt\").text.strip()][\"synonyms\"] = [f'[{a.text}]({a[\"href\"].replace(\"#glossary-\", f\"https://www.bsv.admin.ch/bsv/{lang}/home/glossar/\")}.html)' for a in element.find(\"dd\").find(\"div\", {\"class\": \"relatedlinks\"}).find_all(\"a\")]\n",
    "        if element.find(\"dd\").find(\"div\", {\"class\": \"referencedlinks\"}):\n",
    "            glossary_bsv[lang][element.find(\"dt\").text.strip()][\"links\"] = [f'[{a.text}]({a[\"href\"]})' for a in element.find(\"dd\").find(\"div\", {\"class\": \"referencedlinks\"}).find_all(\"a\")]\n",
    "\n",
    "[pd.DataFrame.from_dict(glossary_bsv[lang]).T.to_csv(f\"indexing/data/glossary/glossary_bsv_{lang}.csv\") for lang in glossary_bsv.keys()]\n",
    "#glossary_bsv"
   ]
  },
  {
   "cell_type": "markdown",
   "id": "58c2c4a3-549a-4c98-9da4-126a21fe809e",
   "metadata": {},
   "source": [
    "# Translate tags to english"
   ]
  },
  {
   "cell_type": "code",
   "execution_count": null,
   "id": "b544466f-b454-4f93-bf17-4b1878584a81",
   "metadata": {},
   "outputs": [],
   "source": [
    "class TranslationSchema(BaseModel):\n",
    "    key: str\n",
    "    value: str\n",
    "\n",
    "    def to_dict(self):\n",
    "        return {self.key: self.value}\n",
    "\n",
    "\n",
    "prompt = \"\"\"<purpose>\n",
    "You must translate to English the follow <tag> and <description>.\n",
    "Keep in mind the context is social insurances in Switzerland.\n",
    "</purpose>\n",
    "\n",
    "<response_format>\n",
    "class TranslationSchema(BaseModel):\n",
    "    class KeyValuePair(BaseModel):\n",
    "        key: str # key (tag) is the english translation of <tag>\n",
    "        value: str # value (description) is the english translation of <description>\n",
    "    \n",
    "    items: List[KeyValuePair]\n",
    "</response_format>\n",
    "\n",
    "<tag>\n",
    "{tag}\n",
    "</tag>\n",
    "\n",
    "<description>\n",
    "{desc}\n",
    "</description>\n",
    "\"\"\""
   ]
  },
  {
   "cell_type": "markdown",
   "id": "7e0ee142-4693-42d4-9ef5-d25049df3f38",
   "metadata": {},
   "source": [
    "### AHV-IV"
   ]
  },
  {
   "cell_type": "code",
   "execution_count": null,
   "id": "f001f252-927e-4717-9108-5912b52559e1",
   "metadata": {},
   "outputs": [],
   "source": [
    "glossary_ahv_iv_trans = {}\n",
    "\n",
    "for lang in glossary_ahv_iv.keys():\n",
    "    glossary_ahv_iv_trans[f\"{lang}_en\"] = {}\n",
    "    glossary_ahv_iv_trans[f\"{lang}_en\"][\"deepl_tag\"] = {}\n",
    "    glossary_ahv_iv_trans[f\"{lang}_en\"][\"deepl_desc\"] = {}\n",
    "    glossary_ahv_iv_trans[f\"{lang}_en\"][\"llm_tag\"] = {}\n",
    "    glossary_ahv_iv_trans[f\"{lang}_en\"][\"llm_desc\"] = {}\n",
    "    for tag, desc in tqdm.tqdm(glossary_ahv_iv[lang].items()):\n",
    "    \n",
    "        # deepl translation\n",
    "        trans_deepl = translator.translate_text([tag, desc[\"description\"]], target_lang=\"EN-GB\", model_type=\"prefer_quality_optimized\")\n",
    "        key = trans_deepl[0].text.lower()\n",
    "        value = trans_deepl[1].text\n",
    "        glossary_ahv_iv_trans[f\"{lang}_en\"][\"deepl_tag\"][tag.lower()] = key\n",
    "        glossary_ahv_iv_trans[f\"{lang}_en\"][\"deepl_desc\"][tag.lower()] = value\n",
    "\n",
    "        # llm translation\n",
    "        messages = [{\"role\": \"developer\", \"content\": prompt.format(tag=tag, desc=desc[\"description\"])}]\n",
    "        res = await llm_client.beta.chat.completions.parse(\n",
    "                model=\"gpt-4o\",\n",
    "                temperature=0,\n",
    "                top_p=0.95,\n",
    "                max_tokens=512,\n",
    "                messages=messages,\n",
    "                response_format=TranslationSchema,\n",
    "            )\n",
    "\n",
    "        trans_llm = res.choices[0].message.parsed.to_dict()\n",
    "        [key] = trans_llm.keys()\n",
    "        [value] = trans_llm.values()\n",
    "        glossary_ahv_iv_trans[f\"{lang}_en\"][\"llm_tag\"][tag.lower()] = key.lower()\n",
    "        glossary_ahv_iv_trans[f\"{lang}_en\"][\"llm_desc\"][tag.lower()] = value\n"
   ]
  },
  {
   "cell_type": "code",
   "execution_count": null,
   "id": "78fec8f2-cbd4-425a-a1e0-c3445c6f8b57",
   "metadata": {},
   "outputs": [],
   "source": [
    "pd.DataFrame.from_dict(glossary_bsv_trans[\"de_en\"])"
   ]
  },
  {
   "cell_type": "code",
   "execution_count": null,
   "id": "b5015e3a-3ede-428f-a466-5ccb2815130d",
   "metadata": {},
   "outputs": [],
   "source": [
    "[pd.DataFrame.from_dict(glossary_ahv_iv_trans[lang]).to_csv(f\"indexing/data/glossary/glossary_ahv_iv_trans_{lang}.csv\") for lang in glossary_ahv_iv_trans.keys()]"
   ]
  },
  {
   "cell_type": "markdown",
   "id": "517cf6f4-2631-44b8-9a81-fff76215d7a3",
   "metadata": {},
   "source": [
    "### BSV"
   ]
  },
  {
   "cell_type": "code",
   "execution_count": null,
   "id": "4614edc2-6ee1-4db9-9e13-791e96ea3ffa",
   "metadata": {},
   "outputs": [],
   "source": [
    "glossary_bsv_trans = {}\n",
    "\n",
    "for lang in glossary_bsv.keys():\n",
    "    glossary_bsv_trans[f\"{lang}_en\"] = {}\n",
    "    glossary_bsv_trans[f\"{lang}_en\"][\"deepl_tag\"] = {}\n",
    "    glossary_bsv_trans[f\"{lang}_en\"][\"deepl_desc\"] = {}\n",
    "    glossary_bsv_trans[f\"{lang}_en\"][\"llm_tag\"] = {}\n",
    "    glossary_bsv_trans[f\"{lang}_en\"][\"llm_desc\"] = {}\n",
    "    for tag, desc in tqdm.tqdm(glossary_bsv[lang].items()):\n",
    "    \n",
    "        # deepl translation\n",
    "        trans_deepl = translator.translate_text([tag, desc[\"description\"]], target_lang=\"EN-GB\", model_type=\"prefer_quality_optimized\")\n",
    "        key = trans_deepl[0].text.lower()\n",
    "        value = trans_deepl[1].text\n",
    "        glossary_bsv_trans[f\"{lang}_en\"][\"deepl_tag\"][tag.lower()] = key\n",
    "        glossary_bsv_trans[f\"{lang}_en\"][\"deepl_desc\"][tag.lower()] = value\n",
    "\n",
    "        # llm translation\n",
    "        messages = [{\"role\": \"developer\", \"content\": prompt.format(tag=tag, desc=desc[\"description\"])}]\n",
    "        res = await llm_client.beta.chat.completions.parse(\n",
    "                model=\"gpt-4o\",\n",
    "                temperature=0,\n",
    "                top_p=0.95,\n",
    "                max_tokens=512,\n",
    "                messages=messages,\n",
    "                response_format=TranslationSchema,\n",
    "            )\n",
    "\n",
    "        trans_llm = res.choices[0].message.parsed.to_dict()\n",
    "        [key] = trans_llm.keys()\n",
    "        [value] = trans_llm.values()\n",
    "        glossary_bsv_trans[f\"{lang}_en\"][\"llm_tag\"][tag.lower()] = key.lower()\n",
    "        glossary_bsv_trans[f\"{lang}_en\"][\"llm_desc\"][tag.lower()] = value\n"
   ]
  },
  {
   "cell_type": "code",
   "execution_count": null,
   "id": "4462584e-d628-4914-9090-d558cabcecdc",
   "metadata": {},
   "outputs": [],
   "source": [
    "pd.DataFrame.from_dict(glossary_bsv_trans[\"it_en\"])"
   ]
  },
  {
   "cell_type": "code",
   "execution_count": null,
   "id": "697b5bdb-95e6-46d5-a4b1-6141036bc769",
   "metadata": {},
   "outputs": [],
   "source": [
    "[pd.DataFrame.from_dict(glossary_bsv_trans[lang]).to_csv(f\"indexing/data/glossary/glossary_bsv_trans_{lang}.csv\") for lang in glossary_bsv_trans.keys()]"
   ]
  },
  {
   "cell_type": "markdown",
   "id": "be5a9213-d6f4-4100-ab4b-fff9602abdec",
   "metadata": {},
   "source": [
    "# Align glossary tags"
   ]
  },
  {
   "cell_type": "code",
   "execution_count": null,
   "id": "12ede99a-50ac-40fc-a617-db7e6854fc45",
   "metadata": {},
   "outputs": [],
   "source": [
    "class SelectTranslationSchema(BaseModel):\n",
    "    selection: str\n",
    "\n",
    "prompt = \"\"\"<purpose>\n",
    "Your task is to look at the source expression and evaluate select the best (most accurate) translation based on provided <context>.\n",
    "</purpose>\n",
    "\n",
    "<response_format>\n",
    "SelectTranslationSchema(BaseModel):\n",
    "    selection: str # the best (most accurate) translation based on context\n",
    "</response_format>\n",
    "\n",
    "<translation_1>\n",
    "{translation_1}\n",
    "</translation_1>\n",
    "\n",
    "<translation_2>\n",
    "{translation_2}\n",
    "</translation_2>\n",
    "\n",
    "<context>\n",
    "{desc}\n",
    "<context>\n",
    "\"\"\""
   ]
  },
  {
   "cell_type": "markdown",
   "id": "0887052f-3fa2-41e6-890c-7aa2a0b16d06",
   "metadata": {},
   "source": [
    "### Align across AHV-IV (deepl-llm)"
   ]
  },
  {
   "cell_type": "code",
   "execution_count": null,
   "id": "38d7507b-d793-4847-88c0-95bf0eab12cb",
   "metadata": {},
   "outputs": [],
   "source": [
    "df_de = pd.read_csv(\"indexing/data/glossary/glossary_ahv_iv_trans_de_en.csv\", index_col=0)\n",
    "df_fr = pd.read_csv(\"indexing/data/glossary/glossary_ahv_iv_trans_fr_en.csv\", index_col=0)\n",
    "df_it = pd.read_csv(\"indexing/data/glossary/glossary_ahv_iv_trans_it_en.csv\", index_col=0)"
   ]
  },
  {
   "cell_type": "markdown",
   "id": "a687b218-deb4-4219-8562-0b003ded9476",
   "metadata": {},
   "source": [
    "#### 1. Merge across languages"
   ]
  },
  {
   "cell_type": "code",
   "execution_count": null,
   "id": "86d5c999-1eea-4181-a124-c2ee7a34171d",
   "metadata": {},
   "outputs": [],
   "source": [
    "df_de[\"aligned\"] = df_de[\"deepl_tag\"] == df_de[\"llm_tag\"]\n",
    "df_fr[\"aligned\"] = df_fr[\"deepl_tag\"] == df_fr[\"llm_tag\"]\n",
    "df_it[\"aligned\"] = df_it[\"deepl_tag\"] == df_it[\"llm_tag\"]"
   ]
  },
  {
   "cell_type": "code",
   "execution_count": null,
   "id": "34de0bd0-3d8f-4ccf-953f-6d0eb94a1b47",
   "metadata": {},
   "outputs": [],
   "source": [
    "# de\n",
    "for i, row in tqdm.tqdm(df_de.iterrows()):\n",
    "\n",
    "    if row[\"aligned\"]:\n",
    "        df_de.loc[i, \"tag\"] = row[\"deepl_tag\"]\n",
    "        \n",
    "    else:\n",
    "        messages = [{\"role\": \"developer\",\n",
    "                     \"content\": prompt.format(\n",
    "                         translation_1=row[\"deepl_tag\"],\n",
    "                         translation_2=row[\"llm_tag\"],\n",
    "                         desc=\"\\n\\n\".join([row[\"deepl_desc\"], row[\"llm_desc\"]]))}]\n",
    "        res = await llm_client.beta.chat.completions.parse(\n",
    "                model=\"gpt-4o\",\n",
    "                temperature=0,\n",
    "                top_p=0.95,\n",
    "                max_tokens=512,\n",
    "                messages=messages,\n",
    "                response_format=SelectTranslationSchema,\n",
    "            )\n",
    "        \n",
    "        df_de.loc[i, \"tag\"] = res.choices[0].message.parsed.selection\n",
    "\n",
    "# fr\n",
    "for i, row in tqdm.tqdm(df_fr.iterrows()):\n",
    "\n",
    "    if row[\"aligned\"]:\n",
    "        df_fr.loc[i, \"tag\"] = row[\"deepl_tag\"]\n",
    "        \n",
    "    else:\n",
    "        messages = [{\"role\": \"developer\",\n",
    "                     \"content\": prompt.format(\n",
    "                         translation_1=row[\"deepl_tag\"],\n",
    "                         translation_2=row[\"llm_tag\"],\n",
    "                         desc=\"\\n\\n\".join([row[\"deepl_desc\"], row[\"llm_desc\"]]))}]\n",
    "        res = await llm_client.beta.chat.completions.parse(\n",
    "                model=\"gpt-4o\",\n",
    "                temperature=0,\n",
    "                top_p=0.95,\n",
    "                max_tokens=512,\n",
    "                messages=messages,\n",
    "                response_format=SelectTranslationSchema,\n",
    "            )\n",
    "        \n",
    "        df_fr.loc[i, \"tag\"] = res.choices[0].message.parsed.selection\n",
    "\n",
    "# it\n",
    "for i, row in tqdm.tqdm(df_it.iterrows()):\n",
    "\n",
    "    if row[\"aligned\"]:\n",
    "        df_it.loc[i, \"tag\"] = row[\"deepl_tag\"]\n",
    "        \n",
    "    else:\n",
    "        messages = [{\"role\": \"developer\",\n",
    "                     \"content\": prompt.format(\n",
    "                         translation_1=row[\"deepl_tag\"],\n",
    "                         translation_2=row[\"llm_tag\"],\n",
    "                         desc=\"\\n\\n\".join([row[\"deepl_desc\"], row[\"llm_desc\"]]))}]\n",
    "        res = await llm_client.beta.chat.completions.parse(\n",
    "                model=\"gpt-4o\",\n",
    "                temperature=0,\n",
    "                top_p=0.95,\n",
    "                max_tokens=512,\n",
    "                messages=messages,\n",
    "                response_format=SelectTranslationSchema,\n",
    "            )\n",
    "        \n",
    "        df_it.loc[i, \"tag\"] = res.choices[0].message.parsed.selection"
   ]
  },
  {
   "cell_type": "code",
   "execution_count": null,
   "id": "c146fc22-7e91-4e37-8433-a21774b50aef",
   "metadata": {},
   "outputs": [],
   "source": [
    "df_de.to_csv(\"indexing/data/glossary/glossary_ahv_iv_trans_de_en_aligned.csv\")\n",
    "df_fr.to_csv(\"indexing/data/glossary/glossary_ahv_iv_trans_fr_en_aligned.csv\")\n",
    "df_it.to_csv(\"indexing/data/glossary/glossary_ahv_iv_trans_it_en_aligned.csv\")"
   ]
  },
  {
   "cell_type": "markdown",
   "id": "83dc243d-1f9d-453f-b414-e90f36b23ee5",
   "metadata": {},
   "source": [
    "#### 2. Merge between languages"
   ]
  },
  {
   "cell_type": "code",
   "execution_count": null,
   "id": "666710bd-4165-4e97-8f71-a02eec615b0f",
   "metadata": {},
   "outputs": [],
   "source": [
    "tags_ahv_iv = list(pd.concat([df_de[\"tag\"], df_fr[\"tag\"], df_it[\"tag\"]]).drop_duplicates().values)"
   ]
  },
  {
   "cell_type": "markdown",
   "id": "9fae7fb2-981d-4afa-a238-1dc63b8d6449",
   "metadata": {},
   "source": [
    "### Align across BSV (deepl-llm)"
   ]
  },
  {
   "cell_type": "code",
   "execution_count": null,
   "id": "87596690-164e-483b-8e3b-81ade17ce1b3",
   "metadata": {},
   "outputs": [],
   "source": [
    "df_de = pd.read_csv(\"indexing/data/glossary/glossary_bsv_trans_de_en.csv\", index_col=0)\n",
    "df_fr = pd.read_csv(\"indexing/data/glossary/glossary_bsv_trans_fr_en.csv\", index_col=0)\n",
    "df_it = pd.read_csv(\"indexing/data/glossary/glossary_bsv_trans_it_en.csv\", index_col=0)"
   ]
  },
  {
   "cell_type": "markdown",
   "id": "00af4bbf-753d-42df-91f1-0887110972d4",
   "metadata": {},
   "source": [
    "#### 1. Merge across languages"
   ]
  },
  {
   "cell_type": "code",
   "execution_count": null,
   "id": "4b805edf-0c69-49e0-9885-283bf69b5e43",
   "metadata": {},
   "outputs": [],
   "source": [
    "df_de[\"aligned\"] = df_de[\"deepl_tag\"] == df_de[\"llm_tag\"]\n",
    "df_fr[\"aligned\"] = df_fr[\"deepl_tag\"] == df_fr[\"llm_tag\"]\n",
    "df_it[\"aligned\"] = df_it[\"deepl_tag\"] == df_it[\"llm_tag\"]"
   ]
  },
  {
   "cell_type": "code",
   "execution_count": null,
   "id": "7d63675a-a7c2-4061-a43b-8ec8c594ddc8",
   "metadata": {},
   "outputs": [],
   "source": [
    "# de\n",
    "for i, row in tqdm.tqdm(df_de.iterrows()):\n",
    "\n",
    "    if row[\"aligned\"]:\n",
    "        df_de.loc[i, \"tag\"] = row[\"deepl_tag\"]\n",
    "        \n",
    "    else:\n",
    "        messages = [{\"role\": \"developer\",\n",
    "                     \"content\": prompt.format(\n",
    "                         translation_1=row[\"deepl_tag\"],\n",
    "                         translation_2=row[\"llm_tag\"],\n",
    "                         desc=\"\\n\\n\".join([row[\"deepl_desc\"], row[\"llm_desc\"]]))}]\n",
    "        res = await llm_client.beta.chat.completions.parse(\n",
    "                model=\"gpt-4o\",\n",
    "                temperature=0,\n",
    "                top_p=0.95,\n",
    "                max_tokens=512,\n",
    "                messages=messages,\n",
    "                response_format=SelectTranslationSchema,\n",
    "            )\n",
    "        \n",
    "        df_de.loc[i, \"tag\"] = res.choices[0].message.parsed.selection\n",
    "\n",
    "# fr\n",
    "for i, row in tqdm.tqdm(df_fr.iterrows()):\n",
    "\n",
    "    if row[\"aligned\"]:\n",
    "        df_fr.loc[i, \"tag\"] = row[\"deepl_tag\"]\n",
    "        \n",
    "    else:\n",
    "        messages = [{\"role\": \"developer\",\n",
    "                     \"content\": prompt.format(\n",
    "                         translation_1=row[\"deepl_tag\"],\n",
    "                         translation_2=row[\"llm_tag\"],\n",
    "                         desc=\"\\n\\n\".join([row[\"deepl_desc\"], row[\"llm_desc\"]]))}]\n",
    "        res = await llm_client.beta.chat.completions.parse(\n",
    "                model=\"gpt-4o\",\n",
    "                temperature=0,\n",
    "                top_p=0.95,\n",
    "                max_tokens=512,\n",
    "                messages=messages,\n",
    "                response_format=SelectTranslationSchema,\n",
    "            )\n",
    "        \n",
    "        df_fr.loc[i, \"tag\"] = res.choices[0].message.parsed.selection\n",
    "\n",
    "# it\n",
    "for i, row in tqdm.tqdm(df_it.iterrows()):\n",
    "\n",
    "    if row[\"aligned\"]:\n",
    "        df_it.loc[i, \"tag\"] = row[\"deepl_tag\"]\n",
    "        \n",
    "    else:\n",
    "        messages = [{\"role\": \"developer\",\n",
    "                     \"content\": prompt.format(\n",
    "                         translation_1=row[\"deepl_tag\"],\n",
    "                         translation_2=row[\"llm_tag\"],\n",
    "                         desc=\"\\n\\n\".join([row[\"deepl_desc\"], row[\"llm_desc\"]]))}]\n",
    "        res = await llm_client.beta.chat.completions.parse(\n",
    "                model=\"gpt-4o\",\n",
    "                temperature=0,\n",
    "                top_p=0.95,\n",
    "                max_tokens=512,\n",
    "                messages=messages,\n",
    "                response_format=SelectTranslationSchema,\n",
    "            )\n",
    "        \n",
    "        df_it.loc[i, \"tag\"] = res.choices[0].message.parsed.selection"
   ]
  },
  {
   "cell_type": "code",
   "execution_count": null,
   "id": "f0353a2b-0173-409a-9c4a-3ca8ec8e3f57",
   "metadata": {},
   "outputs": [],
   "source": [
    "df_de.to_csv(\"indexing/data/glossary/glossary_bsv_trans_de_en_aligned.csv\")\n",
    "df_fr.to_csv(\"indexing/data/glossary/glossary_bsv_trans_fr_en_aligned.csv\")\n",
    "df_it.to_csv(\"indexing/data/glossary/glossary_bsv_trans_it_en_aligned.csv\")"
   ]
  },
  {
   "cell_type": "markdown",
   "id": "919b1606-d063-4005-8bbe-940448bc59f0",
   "metadata": {},
   "source": [
    "#### 2. Merge between languages"
   ]
  },
  {
   "cell_type": "code",
   "execution_count": null,
   "id": "771483f2-face-4fc0-a620-47f1be7cbbf8",
   "metadata": {},
   "outputs": [],
   "source": [
    "tags_bsv = list(pd.concat([df_de[\"tag\"], df_fr[\"tag\"], df_it[\"tag\"]]).drop_duplicates().values)"
   ]
  },
  {
   "cell_type": "markdown",
   "id": "acde2985-7e59-405f-944e-5fbe826ecad8",
   "metadata": {},
   "source": [
    "# Merge all tags between AHV-IV and BSV"
   ]
  },
  {
   "cell_type": "code",
   "execution_count": null,
   "id": "7ee5a2d1-c0df-49ab-81ca-427eae7103a4",
   "metadata": {},
   "outputs": [],
   "source": [
    "tags = list(set(tags_ahv_iv + tags_bsv))"
   ]
  },
  {
   "cell_type": "code",
   "execution_count": null,
   "id": "9f8c353b-3ad8-4e04-9acb-c1b633a9ada1",
   "metadata": {},
   "outputs": [],
   "source": [
    "len(tags)"
   ]
  },
  {
   "cell_type": "markdown",
   "id": "28dfd99b-59fb-44e8-8acd-ddf3e3b1112c",
   "metadata": {},
   "source": [
    "# Augment with description"
   ]
  },
  {
   "cell_type": "code",
   "execution_count": null,
   "id": "1a29b39f-d387-466b-b229-24fd78bee911",
   "metadata": {},
   "outputs": [],
   "source": [
    "df_ahv_iv_de = pd.read_csv(\"indexing/data/glossary/glossary_ahv_iv_trans_de_en_aligned.csv\", index_col=0)\n",
    "df_ahv_iv_fr = pd.read_csv(\"indexing/data/glossary/glossary_ahv_iv_trans_fr_en_aligned.csv\", index_col=0)\n",
    "df_ahv_iv_it = pd.read_csv(\"indexing/data/glossary/glossary_ahv_iv_trans_it_en_aligned.csv\", index_col=0)\n",
    "df_bsv_de = pd.read_csv(\"indexing/data/glossary/glossary_bsv_trans_de_en_aligned.csv\", index_col=0)\n",
    "df_bsv_fr = pd.read_csv(\"indexing/data/glossary/glossary_bsv_trans_fr_en_aligned.csv\", index_col=0)\n",
    "df_bsv_it = pd.read_csv(\"indexing/data/glossary/glossary_bsv_trans_it_en_aligned.csv\", index_col=0)"
   ]
  },
  {
   "cell_type": "code",
   "execution_count": null,
   "id": "8b80947a-530f-46d0-9f62-0b8361606830",
   "metadata": {},
   "outputs": [],
   "source": [
    "# de/fr/it\n",
    "\n",
    "for dfs in [(df_ahv_iv_de, df_bsv_de, \"de\"), (df_ahv_iv_fr, df_bsv_fr, \"fr\"), (df_ahv_iv_it, df_bsv_it, \"it\")]:\n",
    "    lang = dfs[2]\n",
    "    df = pd.concat(\n",
    "        [\n",
    "            dfs[0],\n",
    "            dfs[1]\n",
    "        ], axis=0)\n",
    "    \n",
    "    df_tag_desc = df.drop_duplicates(subset=\"tag\")[[\"tag\", \"llm_desc\"]]\n",
    "    \n",
    "    df_tag_desc.reset_index(inplace=True)\n",
    "    df_tag_desc.rename(columns={\"tag\": \"tag_en\", \"index\": f\"tag_{lang}\", \"llm_desc\": \"description_en\"}, inplace=True)\n",
    "    \n",
    "    df_lang = pd.read_csv(f\"indexing/data/glossary/glossary_ahv_iv_{lang}.csv\", names=[f\"tag_{lang}\", f\"description_{lang}\"], header=0)\n",
    "    df_lang[f\"tag_{lang}\"] = df_lang[f\"tag_{lang}\"].apply(lambda x: x.lower())\n",
    "    \n",
    "    df_tag_desc.merge(df_lang, how=\"left\", on=f\"tag_{lang}\").to_csv(f\"indexing/data/glossary/tags_with_desc_{lang}.csv\", index=None)"
   ]
  },
  {
   "cell_type": "code",
   "execution_count": null,
   "id": "4c275a29-068e-4bfa-abbb-c521d7eb5970",
   "metadata": {},
   "outputs": [],
   "source": []
  },
  {
   "cell_type": "code",
   "execution_count": null,
   "id": "7946cedb-45ec-47a5-87e8-01e26aaac8de",
   "metadata": {},
   "outputs": [],
   "source": []
  },
  {
   "cell_type": "code",
   "execution_count": null,
   "id": "28d65959-3184-4d92-ba1c-50e0e18d5ddc",
   "metadata": {},
   "outputs": [],
   "source": [
    "df_de = pd.read_csv(\"indexing/data/glossary/tags_with_desc_de.csv\")\n",
    "df_de[\"language\"] = \"de\"\n",
    "df_fr = pd.read_csv(\"indexing/data/glossary/tags_with_desc_fr.csv\")\n",
    "df_fr[\"language\"] = \"fr\"\n",
    "df_it = pd.read_csv(\"indexing/data/glossary/tags_with_desc_it.csv\")\n",
    "df_it[\"language\"] = \"it\"\n",
    "df_it"
   ]
  },
  {
   "cell_type": "code",
   "execution_count": null,
   "id": "6903eb34-2c90-4c68-83af-8eb48ef06cf9",
   "metadata": {},
   "outputs": [],
   "source": [
    "df = pd.concat(\n",
    "    [\n",
    "        df_de,\n",
    "        df_fr,\n",
    "        df_it\n",
    "    ], axis=0\n",
    ")\n",
    "\n",
    "df.to_csv(\"indexing/data/glossary/tags_aligned.csv\", index=None)\n",
    "\n",
    "df = df[[\"tag_en\", \"description_en\", \"description_de\", \"description_fr\", \"description_it\", \"language\"]].drop_duplicates(\"tag_en\").sort_values(by=\"tag_en\").reset_index(drop=True)\n",
    "df"
   ]
  },
  {
   "cell_type": "code",
   "execution_count": null,
   "id": "3a2ed813-291f-4dd7-b7a6-dbb4ed71fcdf",
   "metadata": {},
   "outputs": [],
   "source": [
    "for i, row in df.iterrows():\n",
    "\n",
    "    if isinstance(row[\"description_de\"], float):\n",
    "        translation = translator.translate_text(row[\"description_en\"], target_lang=\"DE\", model_type=\"prefer_quality_optimized\")\n",
    "        df.loc[i, \"description_de\"] = translation.text\n",
    "        \n",
    "    if isinstance(row[\"description_fr\"], float):\n",
    "        translation = translator.translate_text(row[\"description_en\"], target_lang=\"FR\", model_type=\"prefer_quality_optimized\")\n",
    "        df.loc[i, \"description_fr\"] = translation.text\n",
    "        \n",
    "    if isinstance(row[\"description_it\"], float):\n",
    "        translation = translator.translate_text(row[\"description_en\"], target_lang=\"IT\", model_type=\"prefer_quality_optimized\")\n",
    "        df.loc[i, \"description_it\"] = translation.text\n",
    "        "
   ]
  },
  {
   "cell_type": "code",
   "execution_count": null,
   "id": "f0e364e5-fb44-4b65-878a-07b65fb948aa",
   "metadata": {},
   "outputs": [],
   "source": [
    "df"
   ]
  },
  {
   "cell_type": "code",
   "execution_count": null,
   "id": "67b62486-3697-44d4-a51b-0dc7eecfb365",
   "metadata": {},
   "outputs": [],
   "source": [
    "df.to_csv(\"indexing/data/glossary/tags_aligned_postgres.csv\", index=None)"
   ]
  },
  {
   "cell_type": "code",
   "execution_count": null,
   "id": "cac9412c-c749-47f2-8df2-7b2551637047",
   "metadata": {},
   "outputs": [],
   "source": [
    "# Melt the DataFrame\n",
    "refactored_df = df.melt(\n",
    "    id_vars=[\"tag_en\", \"description_en\", \"language\"],  # Columns to keep\n",
    "    value_vars=[\"description_de\", \"description_fr\", \"description_it\"],  # Columns to melt\n",
    "    var_name=\"temp_language\",  # Temporary column name for the melted column\n",
    "    value_name=\"description\"  # New column name for the values\n",
    ")\n",
    "\n",
    "# Extract the suffix to update the language column\n",
    "refactored_df[\"temp_language\"] = refactored_df[\"temp_language\"].str.split('_').str[-1]\n",
    "\n",
    "# Update the language column based on the suffix from the original columns\n",
    "refactored_df[\"language\"] = refactored_df[\"temp_language\"]\n",
    "\n",
    "# Drop the temporary column and reset the index\n",
    "refactored_df = refactored_df.drop(columns=[\"temp_language\"]).reset_index(drop=True)\n",
    "\n",
    "refactored_df"
   ]
  },
  {
   "cell_type": "code",
   "execution_count": null,
   "id": "099a19fa-f9fa-4b8c-9b99-cb2ce5ed6635",
   "metadata": {},
   "outputs": [],
   "source": [
    "refactored_df.sort_values(\"tag_en\").reset_index(drop=True).to_csv(\"indexing/data/glossary/tags_aligned_postgres_temp.csv\", index=None)"
   ]
  },
  {
   "cell_type": "code",
   "execution_count": null,
   "id": "df7bb5d0-be75-4a08-bca5-2316ab700416",
   "metadata": {},
   "outputs": [],
   "source": [
    "refactored_df.sort_values(\"tag_en\").reset_index(drop=True)"
   ]
  },
  {
   "cell_type": "code",
   "execution_count": null,
   "id": "b27b378a-67a8-485c-b37e-bede35a340f8",
   "metadata": {},
   "outputs": [],
   "source": [
    "refactored_df[refactored_df[\"tag_en\"] == \"professional measure\"]"
   ]
  },
  {
   "cell_type": "code",
   "execution_count": null,
   "id": "791c9b0f-87f4-4ead-95ce-8f4f9b6f32d1",
   "metadata": {},
   "outputs": [],
   "source": []
  },
  {
   "cell_type": "markdown",
   "id": "18d6e194-4fed-4459-889e-f751df5096fd",
   "metadata": {},
   "source": [
    "# TO DO:\n",
    "- remove duplicate tag entries\n",
    "- eg. ahv/avs number (3x)\n",
    "- ability/inability to work, capacity/incapacity for work, incapacity to earn, work capacity/incapacity"
   ]
  },
  {
   "cell_type": "markdown",
   "id": "92a36812-2f67-4629-920e-5e8c5b8aac9d",
   "metadata": {},
   "source": [
    "# Remove synonymous entries"
   ]
  },
  {
   "cell_type": "code",
   "execution_count": null,
   "id": "50a654ed-872f-4d8f-95c7-0a3ca22c4a30",
   "metadata": {},
   "outputs": [],
   "source": [
    "df = pd.read_csv(\"indexing/data/glossary/tags_aligned_postgres_temp.csv\")"
   ]
  },
  {
   "cell_type": "code",
   "execution_count": null,
   "id": "dd2f68a5-2755-4ccf-94d9-163027e45a7d",
   "metadata": {},
   "outputs": [],
   "source": [
    "class Duplicate(BaseModel):\n",
    "    values: List[str]\n",
    "    ids: List[int]\n",
    "\n",
    "class DuplicateIdentificationSchema(BaseModel):\n",
    "    duplicates: List[Duplicate]\n",
    "    \n",
    "prompt = \"\"\"<purpose>\n",
    "Your task is to identify duplicate or synonymous tag entries in <available tags> based on their name and description.\n",
    "Synonymous entries might have a different name but the description will be very similar.\n",
    "Identify ALL possible tag duplicates.\n",
    "</purpose>\n",
    "\n",
    "<response_format>\n",
    "Duplicate(BaseModel):\n",
    "    values: List[str] # the tag str values of the duplicates\n",
    "    ids: List[int] # the indices of the duplicate values\n",
    "\n",
    "DuplicateIdentificationSchema(BaseModel):\n",
    "    duplicates: List[Duplicate]\n",
    "</response_format>\n",
    "\n",
    "<available_tags>\n",
    "{tags}\n",
    "<available_tags>\n",
    "\"\"\"\n",
    "\n",
    "messages = [{\"role\": \"developer\", \"content\": prompt.format(tags=df[[\"tag_en\", \"description_en\"]][::3])}]\n",
    "\n",
    "res = await llm_client.beta.chat.completions.parse(\n",
    "        model=\"gpt-4o\",\n",
    "        temperature=0,\n",
    "        top_p=0.95,\n",
    "        max_tokens=4096,\n",
    "        messages=messages,\n",
    "        response_format=DuplicateIdentificationSchema,\n",
    "    )"
   ]
  },
  {
   "cell_type": "code",
   "execution_count": null,
   "id": "9b0707e0-1978-4fac-a36e-08b8e846736b",
   "metadata": {},
   "outputs": [],
   "source": [
    "res.choices[0].message.parsed.duplicates"
   ]
  },
  {
   "cell_type": "code",
   "execution_count": null,
   "id": "94cbdd88-40ec-41e7-b725-23236fbe2f34",
   "metadata": {},
   "outputs": [],
   "source": [
    "df[2:10]"
   ]
  },
  {
   "cell_type": "code",
   "execution_count": null,
   "id": "580ac24e-51d3-43c0-a886-ab2056e65f07",
   "metadata": {},
   "outputs": [],
   "source": [
    "df.drop([891, 892, 893], inplace=True)\n",
    "df.drop([6, 7, 8], inplace=True)\n",
    "df.drop([885, 886, 887], inplace=True)"
   ]
  },
  {
   "cell_type": "code",
   "execution_count": null,
   "id": "e2994cbd-f736-4d79-9e4a-abf8f6316f2c",
   "metadata": {},
   "outputs": [],
   "source": [
    "df[877:887]"
   ]
  },
  {
   "cell_type": "code",
   "execution_count": null,
   "id": "b760acc7-be17-4022-8de7-0c2085187e52",
   "metadata": {},
   "outputs": [],
   "source": []
  },
  {
   "cell_type": "code",
   "execution_count": null,
   "id": "141205d7-70c7-459e-a632-ec31feaef17c",
   "metadata": {},
   "outputs": [],
   "source": []
  },
  {
   "cell_type": "markdown",
   "id": "da77affa-fa26-4247-9a72-b6b2f8c81c50",
   "metadata": {},
   "source": [
    "# -----> CURRENT APPROACH\n",
    "\n",
    "- get subtopics in de/fr/it from from ahv-iv/bsv glossaries\n",
    "- augment docs with subtopics in each language (no english normalization)"
   ]
  },
  {
   "cell_type": "code",
   "execution_count": null,
   "id": "fe82e1c5-d674-4c88-a60d-6bf6cb05fd5e",
   "metadata": {},
   "outputs": [],
   "source": [
    "import re"
   ]
  },
  {
   "cell_type": "code",
   "execution_count": null,
   "id": "e6abddbc-dec0-4ad6-a3b7-13f3539050af",
   "metadata": {},
   "outputs": [],
   "source": [
    "df_ahv_iv_de = pd.read_csv(\"indexing/data/glossary/glossary_ahv_iv_de.csv\", names=[\"subtopic\", \"description\"], header=1)\n",
    "df_ahv_iv_fr = pd.read_csv(\"indexing/data/glossary/glossary_ahv_iv_fr.csv\", names=[\"subtopic\", \"description\"], header=1)\n",
    "df_ahv_iv_it = pd.read_csv(\"indexing/data/glossary/glossary_ahv_iv_it.csv\", names=[\"subtopic\", \"description\"], header=1)\n",
    "df_bsv_de = pd.read_csv(\"indexing/data/glossary/glossary_bsv_de.csv\", names=[\"subtopic\", \"description\"], header=1, usecols=[0, 1])\n",
    "df_bsv_fr = pd.read_csv(\"indexing/data/glossary/glossary_bsv_fr.csv\", names=[\"subtopic\", \"description\"], header=1, usecols=[0, 1])\n",
    "df_bsv_it = pd.read_csv(\"indexing/data/glossary/glossary_bsv_it.csv\", names=[\"subtopic\", \"description\"], header=1, usecols=[0, 1])"
   ]
  },
  {
   "cell_type": "code",
   "execution_count": null,
   "id": "f9c7272e-becb-4922-82f8-23df5183c882",
   "metadata": {},
   "outputs": [],
   "source": [
    "dfs = [df_ahv_iv_de, df_ahv_iv_fr, df_ahv_iv_it, df_bsv_de, df_bsv_fr, df_bsv_it]\n",
    "\n",
    "replace_mapping = {\n",
    "    \":\": \"\",\n",
    "    \"'\": \"_\",\n",
    "    \"’\": \"_\",\n",
    "    '\"': \"\",\n",
    "    \"- \": \" \",\n",
    "    \"-\": \"_\",\n",
    "    \"(\": \"\",\n",
    "    \")\": \"\",\n",
    "    \"/\": \" \",\n",
    "    \" \": \"_\",\n",
    "}\n",
    "\n",
    "for df in dfs:\n",
    "    df[\"subtopic\"] = df.subtopic.apply(lambda x: x.lower())\n",
    "\n",
    "    for i, row in df.iterrows():\n",
    "        for old, new in replace_mapping.items():\n",
    "            df.loc[i, \"subtopic\"] = df.loc[i, \"subtopic\"].replace(old, new)\n",
    "            df.loc[i, \"subtopic\"] = re.sub(r'_+', '_', df.loc[i, \"subtopic\"])\n",
    "\n",
    "    "
   ]
  },
  {
   "cell_type": "code",
   "execution_count": null,
   "id": "4e4f3506-309d-4f4a-b3d8-12484adb3701",
   "metadata": {},
   "outputs": [],
   "source": [
    "df_ahv_iv_de.to_csv(\"indexing/data/glossary/glossary_ahv_iv_de_normalized.csv\", index=None)\n",
    "df_ahv_iv_fr.to_csv(\"indexing/data/glossary/glossary_ahv_iv_fr_normalized.csv\", index=None)\n",
    "df_ahv_iv_it.to_csv(\"indexing/data/glossary/glossary_ahv_iv_it_normalized.csv\", index=None)\n",
    "df_bsv_de.to_csv(\"indexing/data/glossary/glossary_bsv_de_normalized.csv\", index=None)\n",
    "df_bsv_fr.to_csv(\"indexing/data/glossary/glossary_bsv_fr_normalized.csv\", index=None)\n",
    "df_bsv_it.to_csv(\"indexing/data/glossary/glossary_bsv_it_normalized.csv\", index=None)"
   ]
  },
  {
   "cell_type": "markdown",
   "id": "f297e5d2-7c4c-4d64-9f11-dfa8783d0bd9",
   "metadata": {},
   "source": [
    "# Scrap up-to-date data"
   ]
  },
  {
   "cell_type": "code",
   "execution_count": null,
   "id": "d477d517-6ae0-441f-8f63-ac6630d4e604",
   "metadata": {},
   "outputs": [],
   "source": [
    "import requests\n",
    "from bs4 import BeautifulSoup\n",
    "from haystack.components.fetchers import LinkContentFetcher\n",
    "from haystack.components.converters import PyPDFToDocument"
   ]
  },
  {
   "cell_type": "code",
   "execution_count": null,
   "id": "e13b02b3-52d9-433e-bd27-9e27a58f07a1",
   "metadata": {},
   "outputs": [],
   "source": [
    "@dataclass\n",
    "class Document:\n",
    "    url: str\n",
    "    text: str\n",
    "    language: str\n",
    "    tags: List[str]\n",
    "    subtopics: List[str] = None\n",
    "    #source: str = None\n",
    "    summary: str = None\n",
    "    doctype: str = None\n",
    "    organization: str = None\n",
    "    #context: str = None\n",
    "    #parent_node: int = None\n",
    "    #childen_nodes: List[int] = None"
   ]
  },
  {
   "cell_type": "markdown",
   "id": "c362a0f4-2196-42df-a2fb-50e263957e8b",
   "metadata": {},
   "source": [
    "### AHV-IV mementos"
   ]
  },
  {
   "cell_type": "code",
   "execution_count": null,
   "id": "8ae29124-bdca-4e0a-b31a-dfbf1710a455",
   "metadata": {},
   "outputs": [],
   "source": [
    "replace_mapping = {\n",
    "    \"Stand: \": \"\",\n",
    "    \"Etat: \": \"\",\n",
    "    \"Stato: \": \"\"\n",
    "}\n",
    "\n",
    "def extract_pdf_metadata(pdf: BeautifulSoup):\n",
    "    \n",
    "    url = \"https://www.ahv-iv.ch\" + pdf.a[\"href\"]\n",
    "    \n",
    "    if url.endswith(\".d\"):\n",
    "        language = \"de\"\n",
    "    elif url.endswith(\".f\"):\n",
    "        language = \"fr\"\n",
    "    elif url.endswith(\".i\"):\n",
    "        language = \"it\"\n",
    "    else:\n",
    "        language = \"de\"\n",
    "    \n",
    "    pdf_title = pdf.find(\"div\", {\"class\": \"co-document-main\"}).b.text.strip()\n",
    "    publication_date = pdf.find(\"div\", {\"class\": \"co-document-state\"}).text.strip()\n",
    "    for old, new in replace_mapping.items():\n",
    "        publication_date = publication_date.replace(old, new)\n",
    "\n",
    "    return {\n",
    "        \"url\": url,\n",
    "        \"language\": language,\n",
    "        \"title\": pdf_title,\n",
    "        \"publication_date\": publication_date,\n",
    "    }"
   ]
  },
  {
   "cell_type": "code",
   "execution_count": null,
   "id": "be55979b-e8b3-4218-923b-539e48727609",
   "metadata": {},
   "outputs": [],
   "source": [
    "ahv_iv_memento_mapping = {\n",
    "    'https://www.ahv-iv.ch/p/1.01.d': ['general'],\n",
    " 'https://www.ahv-iv.ch/p/1.02.d': ['general'],\n",
    " 'https://www.ahv-iv.ch/p/1.03.d': ['general'],\n",
    " 'https://www.ahv-iv.ch/p/1.04.d': ['general'],\n",
    " 'https://www.ahv-iv.ch/p/1.05.d': ['general'],\n",
    " 'https://www.ahv-iv.ch/p/1.07.d': ['general'],\n",
    " 'https://www.ahv-iv.ch/p/2.01.d': ['contributions'],\n",
    " 'https://www.ahv-iv.ch/p/2.02.d': ['contributions'],\n",
    " 'https://www.ahv-iv.ch/p/2.03.d': ['contributions'],\n",
    " 'https://www.ahv-iv.ch/p/2.04.d': ['contributions'],\n",
    " 'https://www.ahv-iv.ch/p/2.05.d': ['contributions'],\n",
    " 'https://www.ahv-iv.ch/p/2.06.d': ['contributions'],\n",
    " 'https://www.ahv-iv.ch/p/2.07.d': ['contributions'],\n",
    " 'https://www.ahv-iv.ch/p/2.08.d': ['contributions'],\n",
    " 'https://www.ahv-iv.ch/p/2.09.d': ['contributions'],\n",
    " 'https://www.ahv-iv.ch/p/2.10.d': ['contributions'],\n",
    " 'https://www.ahv-iv.ch/p/2.11.d': ['contributions'],\n",
    " 'https://www.ahv-iv.ch/p/2.12.d': ['contributions'],\n",
    " 'https://www.ahv-iv.ch/p/2.14.d': ['bankruptcy'],\n",
    " 'https://www.ahv-iv.ch/p/31.d':  ['ahv_stabilisation_21'],\n",
    " 'https://www.ahv-iv.ch/p/3.01.d': ['ahv_services'],\n",
    " 'https://www.ahv-iv.ch/p/3.02.d': ['ahv_services'],\n",
    " 'https://www.ahv-iv.ch/p/3.03.d': ['ahv_services'],\n",
    " 'https://www.ahv-iv.ch/p/3.04.d': ['ahv_services'],\n",
    " 'https://www.ahv-iv.ch/p/3.05.d': ['ahv_services'],\n",
    " 'https://www.ahv-iv.ch/p/3.06.d': ['ahv_services'],\n",
    " 'https://www.ahv-iv.ch/p/3.07.d': ['ahv_services'],\n",
    " 'https://www.ahv-iv.ch/p/3.08.d': ['ahv_services'],\n",
    " 'https://www.ahv-iv.ch/p/4.01.d': ['iv_services'],\n",
    " 'https://www.ahv-iv.ch/p/4.02.d': ['iv_services'],\n",
    " 'https://www.ahv-iv.ch/p/4.03.d': ['iv_services'],\n",
    " 'https://www.ahv-iv.ch/p/4.04.d': ['iv_services'],\n",
    " 'https://www.ahv-iv.ch/p/4.05.d': ['iv_services'],\n",
    " 'https://www.ahv-iv.ch/p/4.06.d': ['iv_services'],\n",
    " 'https://www.ahv-iv.ch/p/4.07.d': ['iv_services'],\n",
    " 'https://www.ahv-iv.ch/p/4.08.d': ['iv_services'],\n",
    " 'https://www.ahv-iv.ch/p/4.09.d': ['iv_services'],\n",
    " 'https://www.ahv-iv.ch/p/4.11.d': ['iv_services'],\n",
    " 'https://www.ahv-iv.ch/p/4.12.d': ['iv_services'],\n",
    " 'https://www.ahv-iv.ch/p/4.13.d': ['iv_services'],\n",
    " 'https://www.ahv-iv.ch/p/4.14.d': ['iv_services'],\n",
    " 'https://www.ahv-iv.ch/p/4.15.d': ['iv_services'],\n",
    " 'https://www.ahv-iv.ch/p/4.16.d': ['iv_services'],\n",
    " 'https://www.ahv-iv.ch/p/5.01.d': ['complementary_services'],\n",
    " 'https://www.ahv-iv.ch/p/5.02.d': ['complementary_services'],\n",
    " 'https://www.ahv-iv.ch/p/52.d': ['complementary_services'],\n",
    " 'https://www.ahv-iv.ch/p/5.03.d': ['transitory_services'],\n",
    " 'https://www.ahv-iv.ch/p/6.01.d': ['loss_of_earnings_allowance'],\n",
    " 'https://www.ahv-iv.ch/p/6.02.d': ['maternity_allowance'],\n",
    " 'https://www.ahv-iv.ch/p/6.04.d': ['allowance_for_the_other_parent'],\n",
    " 'https://www.ahv-iv.ch/p/6.08.d': ['family_allowances'],\n",
    " 'https://www.ahv-iv.ch/p/6.09.d': ['family_allowances'],\n",
    " 'https://www.ahv-iv.ch/p/6.10.d': ['support_allowance'],\n",
    " 'https://www.ahv-iv.ch/p/6.11.d': ['adoption_allowance'],\n",
    " 'https://www.ahv-iv.ch/p/10.01.d': ['international'],\n",
    " 'https://www.ahv-iv.ch/p/10.02.d': ['international'],\n",
    " 'https://www.ahv-iv.ch/p/10.03.d': ['international'],\n",
    " 'https://www.ahv-iv.ch/p/11.01.d': ['international'],\n",
    " 'https://www.ahv-iv.ch/p/880.d': ['international'],\n",
    " 'https://www.ahv-iv.ch/p/890.d': ['international'],\n",
    " 'https://www.ahv-iv.ch/p/6.05.d': ['accident_insurance'],\n",
    " 'https://www.ahv-iv.ch/p/6.06.d': ['occupational_benefits'],\n",
    " 'https://www.ahv-iv.ch/p/6.07.d': ['health_insurance'],\n",
    " 'https://www.ahv-iv.ch/p/1.2020.d': ['annual_modifications'],\n",
    " 'https://www.ahv-iv.ch/p/1.2024.d': ['annual_modifications'],\n",
    " 'https://www.ahv-iv.ch/p/1.2025.d': ['annual_modifications'],\n",
    " 'https://www.ahv-iv.ch/p/007.003.d': ['hearing_aids'],\n",
    " 'https://www.ahv-iv.ch/Portals/0/adam/AHV-IV/7qdWS5iD0UCLkZDTcDwZDA/Document/Liste%20Paedakustiker%20August%202024.pdf': ['hearing_aids'],\n",
    " 'https://www.ahv-iv.ch/Portals/0/adam/AHV-IV/VycMj-qmQEOCFBBfpGqx_w/Document/Liste%20ORL-Experten%20November%202024.pdf': ['hearing_aids'],\n",
    " 'https://www.ahv-iv.ch/Portals/0/adam/AHV-IV/fewE3XQRcUWJxYaAJMWd8Q/Document/Liste%20implantierte%20H%C3%B6rhilfen%20Oktober%202024.pdf': ['hearing_aids'],\n",
    " 'https://www.ahv-iv.ch/p/300.001.d': ['hearing_aids'],  \n",
    " 'https://www.ahv-iv.ch/p/1.01.f': [\"general\"],\n",
    " 'https://www.ahv-iv.ch/p/1.02.f': [\"general\"],\n",
    " 'https://www.ahv-iv.ch/p/1.03.f': [\"general\"],\n",
    " 'https://www.ahv-iv.ch/p/1.04.f': [\"general\"],\n",
    " 'https://www.ahv-iv.ch/p/1.05.f': [\"general\"],\n",
    " 'https://www.ahv-iv.ch/p/1.07.f': [\"general\"],\n",
    " 'https://www.ahv-iv.ch/p/2.01.f': [\"contributions\"],\n",
    " 'https://www.ahv-iv.ch/p/2.02.f': [\"contributions\"],\n",
    " 'https://www.ahv-iv.ch/p/2.03.f': [\"contributions\"],\n",
    " 'https://www.ahv-iv.ch/p/2.04.f': [\"contributions\"],\n",
    " 'https://www.ahv-iv.ch/p/2.05.f': [\"contributions\"],\n",
    " 'https://www.ahv-iv.ch/p/2.06.f': [\"contributions\"],\n",
    " 'https://www.ahv-iv.ch/p/2.07.f': [\"contributions\"],\n",
    " 'https://www.ahv-iv.ch/p/2.08.f': [\"contributions\"],\n",
    " 'https://www.ahv-iv.ch/p/2.09.f': [\"contributions\"],\n",
    " 'https://www.ahv-iv.ch/p/2.10.f': [\"contributions\"],\n",
    " 'https://www.ahv-iv.ch/p/2.11.f': [\"contributions\"],\n",
    " 'https://www.ahv-iv.ch/p/2.12.f': [\"contributions\"],\n",
    " 'https://www.ahv-iv.ch/p/2.14.f': [\"bankruptcy\"],\n",
    " 'https://www.ahv-iv.ch/p/31.f': [\"ahv_stabilisation_21\"],\n",
    " 'https://www.ahv-iv.ch/p/3.01.f': [\"ahv_services\"],\n",
    " 'https://www.ahv-iv.ch/p/3.02.f': [\"ahv_services\"],\n",
    " 'https://www.ahv-iv.ch/p/3.03.f': [\"ahv_services\"],\n",
    " 'https://www.ahv-iv.ch/p/3.04.f': [\"ahv_services\"],\n",
    " 'https://www.ahv-iv.ch/p/3.05.f': [\"ahv_services\"],\n",
    " 'https://www.ahv-iv.ch/p/3.06.f': [\"ahv_services\"],\n",
    " 'https://www.ahv-iv.ch/p/3.07.f': [\"ahv_services\"],\n",
    " 'https://www.ahv-iv.ch/p/3.08.f': [\"ahv_services\"],\n",
    " 'https://www.ahv-iv.ch/p/4.01.f': [\"iv_services\"],\n",
    " 'https://www.ahv-iv.ch/p/4.02.f': [\"iv_services\"],\n",
    " 'https://www.ahv-iv.ch/p/4.03.f': [\"iv_services\"],\n",
    " 'https://www.ahv-iv.ch/p/4.04.f': [\"iv_services\"],\n",
    " 'https://www.ahv-iv.ch/p/4.05.f': [\"iv_services\"],\n",
    " 'https://www.ahv-iv.ch/p/4.06.f': [\"iv_services\"],\n",
    " 'https://www.ahv-iv.ch/p/4.07.f': [\"iv_services\"],\n",
    " 'https://www.ahv-iv.ch/p/4.08.f': [\"iv_services\"],\n",
    " 'https://www.ahv-iv.ch/p/4.09.f': [\"iv_services\"],\n",
    " 'https://www.ahv-iv.ch/p/4.11.f': [\"iv_services\"],\n",
    " 'https://www.ahv-iv.ch/p/4.12.f': [\"iv_services\"],\n",
    " 'https://www.ahv-iv.ch/p/4.13.f': [\"iv_services\"],\n",
    " 'https://www.ahv-iv.ch/p/4.14.f': [\"iv_services\"],\n",
    " 'https://www.ahv-iv.ch/p/4.15.f': [\"iv_services\"],\n",
    " 'https://www.ahv-iv.ch/p/4.16.f': [\"iv_services\"],\n",
    " 'https://www.ahv-iv.ch/p/5.01.f': ['complementary_services'],\n",
    " 'https://www.ahv-iv.ch/p/5.02.f': ['complementary_services'],\n",
    " 'https://www.ahv-iv.ch/p/51.f': ['complementary_services'],\n",
    " 'https://www.ahv-iv.ch/p/52.f': ['complementary_services'],\n",
    " 'https://www.ahv-iv.ch/p/5.03.f': ['transitory_services'],\n",
    " 'https://www.ahv-iv.ch/p/6.01.f': ['loss_of_earnings_allowance'],\n",
    " 'https://www.ahv-iv.ch/p/6.02.f': ['maternity_allowance'],\n",
    " 'https://www.ahv-iv.ch/p/6.04.f': ['allowance_for_the_other_parent'],\n",
    " 'https://www.ahv-iv.ch/p/6.10.f': ['support_allowance'],\n",
    " 'https://www.ahv-iv.ch/p/6.11.f': ['adoption_allowance'],\n",
    " 'https://www.ahv-iv.ch/p/6.08.f': ['family_allowances'],\n",
    " 'https://www.ahv-iv.ch/p/6.09.f': ['family_allowances'],\n",
    " 'https://www.ahv-iv.ch/p/10.01.f': ['international'],\n",
    " 'https://www.ahv-iv.ch/p/10.02.f': ['international'],\n",
    " 'https://www.ahv-iv.ch/p/10.03.f': ['international'],\n",
    " 'https://www.ahv-iv.ch/p/11.01.f': ['international'],\n",
    " 'https://www.ahv-iv.ch/p/880.f': ['international'],\n",
    " 'https://www.ahv-iv.ch/p/890.f': ['international'],\n",
    " 'https://www.ahv-iv.ch/p/6.05.f': ['accident_insurance'],\n",
    " 'https://www.ahv-iv.ch/p/6.06.f': ['occupational_benefits'],\n",
    " 'https://www.ahv-iv.ch/p/6.07.f': ['health_insurance'],\n",
    " 'https://www.ahv-iv.ch/p/1.2020.f': ['annual_modifications'],\n",
    " 'https://www.ahv-iv.ch/p/1.2024.f': ['annual_modifications'],\n",
    " 'https://www.ahv-iv.ch/p/1.2025.f': ['annual_modifications'],\n",
    " 'https://www.ahv-iv.ch/p/007.003.f': ['hearing_aids'],\n",
    " 'https://www.ahv-iv.ch/Portals/0/adam/AHV-IV/7qdWS5iD0UCLkZDTcDwZDA/Document/Liste%20Paedakustiker%20August%202024.pdf': ['hearing_aids'],\n",
    " 'https://www.ahv-iv.ch/Portals/0/adam/AHV-IV/VycMj-qmQEOCFBBfpGqx_w/Document/Liste%20ORL-Experten%20November%202024.pdf': ['hearing_aids'],\n",
    " 'https://www.ahv-iv.ch/Portals/0/adam/AHV-IV/fewE3XQRcUWJxYaAJMWd8Q/Document/Liste%20implantierte%20H%C3%B6rhilfen%20Oktober%202024.pdf': ['hearing_aids'],\n",
    " 'https://www.ahv-iv.ch/p/300.001.f': ['hearing_aids'],\n",
    " 'https://www.ahv-iv.ch/p/1.01.i': ['general'],\n",
    " 'https://www.ahv-iv.ch/p/1.02.i': ['general'],\n",
    " 'https://www.ahv-iv.ch/p/1.03.i': ['general'],\n",
    " 'https://www.ahv-iv.ch/p/1.04.i': ['general'],\n",
    " 'https://www.ahv-iv.ch/p/1.05.i': ['general'],\n",
    " 'https://www.ahv-iv.ch/p/1.07.i': ['general'],\n",
    " 'https://www.ahv-iv.ch/p/2.01.i': ['contributions'],\n",
    " 'https://www.ahv-iv.ch/p/2.02.i': ['contributions'],\n",
    " 'https://www.ahv-iv.ch/p/2.03.i': ['contributions'],\n",
    " 'https://www.ahv-iv.ch/p/2.04.i': ['contributions'],\n",
    " 'https://www.ahv-iv.ch/p/2.05.i': ['contributions'],\n",
    " 'https://www.ahv-iv.ch/p/2.06.i': ['contributions'],\n",
    " 'https://www.ahv-iv.ch/p/2.07.i': ['contributions'],\n",
    " 'https://www.ahv-iv.ch/p/2.08.i': ['contributions'],\n",
    " 'https://www.ahv-iv.ch/p/2.09.i': ['contributions'],\n",
    " 'https://www.ahv-iv.ch/p/2.10.i': ['contributions'],\n",
    " 'https://www.ahv-iv.ch/p/2.11.i': ['contributions'],\n",
    " 'https://www.ahv-iv.ch/p/2.12.i': ['contributions'],\n",
    " 'https://www.ahv-iv.ch/p/2.14.i': ['bankruptcy'],\n",
    " 'https://www.ahv-iv.ch/p/31.i':  ['ahv_stabilisation_21'],\n",
    " 'https://www.ahv-iv.ch/p/3.01.i': ['ahv_services'],\n",
    " 'https://www.ahv-iv.ch/p/3.02.i': ['ahv_services'],\n",
    " 'https://www.ahv-iv.ch/p/3.03.i': ['ahv_services'],\n",
    " 'https://www.ahv-iv.ch/p/3.04.i': ['ahv_services'],\n",
    " 'https://www.ahv-iv.ch/p/3.05.i': ['ahv_services'],\n",
    " 'https://www.ahv-iv.ch/p/3.06.i': ['ahv_services'],\n",
    " 'https://www.ahv-iv.ch/p/3.07.i': ['ahv_services'],\n",
    " 'https://www.ahv-iv.ch/p/3.08.i': ['ahv_services'],\n",
    " 'https://www.ahv-iv.ch/p/4.01.i': ['iv_services'],\n",
    " 'https://www.ahv-iv.ch/p/4.02.i': ['iv_services'],\n",
    " 'https://www.ahv-iv.ch/p/4.03.i': ['iv_services'],\n",
    " 'https://www.ahv-iv.ch/p/4.04.i': ['iv_services'],\n",
    " 'https://www.ahv-iv.ch/p/4.05.i': ['iv_services'],\n",
    " 'https://www.ahv-iv.ch/p/4.06.i': ['iv_services'],\n",
    " 'https://www.ahv-iv.ch/p/4.07.i': ['iv_services'],\n",
    " 'https://www.ahv-iv.ch/p/4.08.i': ['iv_services'],\n",
    " 'https://www.ahv-iv.ch/p/4.09.i': ['iv_services'],\n",
    " 'https://www.ahv-iv.ch/p/4.11.i': ['iv_services'],\n",
    " 'https://www.ahv-iv.ch/p/4.12.i': ['iv_services'],\n",
    " 'https://www.ahv-iv.ch/p/4.13.i': ['iv_services'],\n",
    " 'https://www.ahv-iv.ch/p/4.14.i': ['iv_services'],\n",
    " 'https://www.ahv-iv.ch/p/4.15.i': ['iv_services'],\n",
    " 'https://www.ahv-iv.ch/p/4.16.i': ['iv_services'],\n",
    " 'https://www.ahv-iv.ch/p/5.01.i': ['complementary_services'],\n",
    " 'https://www.ahv-iv.ch/p/5.02.i': ['complementary_services'],\n",
    " 'https://www.ahv-iv.ch/p/52.i': ['complementary_services'],\n",
    " 'https://www.ahv-iv.ch/p/5.03.i': ['transitory_services'],\n",
    " 'https://www.ahv-iv.ch/p/6.01.i': ['loss_of_earnings_allowance'],\n",
    " 'https://www.ahv-iv.ch/p/6.02.i': ['maternity_allowance'],\n",
    " 'https://www.ahv-iv.ch/p/6.04.i': ['allowance_for_the_other_parent'],\n",
    " 'https://www.ahv-iv.ch/p/6.08.i': ['family_allowances'],\n",
    " 'https://www.ahv-iv.ch/p/6.09.i': ['family_allowances'],\n",
    " 'https://www.ahv-iv.ch/p/6.10.i': ['support_allowance'],\n",
    " 'https://www.ahv-iv.ch/p/6.11.i': ['adoption_allowance'],\n",
    " 'https://www.ahv-iv.ch/p/10.01.i': ['international'],\n",
    " 'https://www.ahv-iv.ch/p/10.02.i': ['international'],\n",
    " 'https://www.ahv-iv.ch/p/10.03.i': ['international'],\n",
    " 'https://www.ahv-iv.ch/p/11.01.i': ['international'],\n",
    " 'https://www.ahv-iv.ch/p/880.i': ['international'],\n",
    " 'https://www.ahv-iv.ch/p/890.i': ['international'],\n",
    " 'https://www.ahv-iv.ch/p/6.05.i': ['accident_insurance'],\n",
    " 'https://www.ahv-iv.ch/p/6.06.i': ['occupational_benefits'],\n",
    " 'https://www.ahv-iv.ch/p/6.07.i': ['health_insurance'],\n",
    " 'https://www.ahv-iv.ch/p/1.2020.i': ['annual_modifications'],\n",
    " 'https://www.ahv-iv.ch/p/1.2024.i': ['annual_modifications'],\n",
    " 'https://www.ahv-iv.ch/p/1.2025.i': ['annual_modifications'],\n",
    " 'https://www.ahv-iv.ch/p/007.003.i': ['hearing_aids'],\n",
    " 'https://www.ahv-iv.ch/Portals/0/adam/AHV-IV/7qdWS5iD0UCLkZDTcDwZDA/Document/Liste%20Paedakustiker%20August%202024.pdf': ['hearing_aids'],\n",
    " 'https://www.ahv-iv.ch/Portals/0/adam/AHV-IV/VycMj-qmQEOCFBBfpGqx_w/Document/Liste%20ORL-Experten%20November%202024.pdf': ['hearing_aids'],\n",
    " 'https://www.ahv-iv.ch/Portals/0/adam/AHV-IV/fewE3XQRcUWJxYaAJMWd8Q/Document/Liste%20implantierte%20H%C3%B6rhilfen%20Oktober%202024.pdf': ['hearing_aids'],\n",
    " 'https://www.ahv-iv.ch/p/300.001.i': ['hearing_aids'],\n",
    "}"
   ]
  },
  {
   "cell_type": "code",
   "execution_count": null,
   "id": "e7a8e84d-85c5-488d-9374-d6082927fc69",
   "metadata": {},
   "outputs": [],
   "source": [
    "# 1. get topics\n",
    "urls = [\"https://www.ahv-iv.ch/de/Merkbl%C3%A4tter\", \"https://www.ahv-iv.ch/fr/M%C3%A9mentos\", \"https://www.ahv-iv.ch/it/Opuscoli\"]\n",
    "\n",
    "pdf_meta = []\n",
    "for url in urls:\n",
    "    res = requests.get(url)\n",
    "    soup = BeautifulSoup(res.content)\n",
    "    topics = soup.find(\"ul\", {\"class\": \"ly-nav ly-nav-sub\"})\n",
    "    \n",
    "    topics_urls = {}\n",
    "    for topic in topics.find_all(\"li\"):\n",
    "        topics_urls[topic.a[\"href\"]] = topic.text.strip()\n",
    "\n",
    "    print(\"TOPIC URLS: \", topics_urls)\n",
    "\n",
    "    # 2. get PDFs by topic\n",
    "    for url, topic in topics_urls.items():\n",
    "        res = requests.get(url)\n",
    "        soup = BeautifulSoup(res.content)\n",
    "    \n",
    "        pdf_div = soup.find(\"div\", {\"class\": \"co-documents-content\"})\n",
    "    \n",
    "        for pdf_html in pdf_div.find_all(\"div\", {\"class\": \"sc-element co-fileType-PDF published\"}):\n",
    "            meta = extract_pdf_metadata(pdf_html)\n",
    "            meta[\"tags\"] = ahv_iv_memento_mapping[meta[\"url\"]]\n",
    "            pdf_meta.append(meta)\n",
    "\n",
    "    print(\"LEN PDF META: \", len(pdf_meta))\n",
    "\n",
    "pd.DataFrame(pdf_meta)"
   ]
  },
  {
   "cell_type": "code",
   "execution_count": null,
   "id": "9b25ce2e-77c6-4e83-a7b8-0a9cef903da5",
   "metadata": {},
   "outputs": [],
   "source": [
    "# 3. download pdf bytes\n",
    "pdf_urls = [pdf[\"url\"] for pdf in pdf_meta]\n",
    "fetcher = LinkContentFetcher()\n",
    "pdf_bytes = fetcher.run(urls=pdf_urls)\n",
    "\n",
    "len(pdf_bytes[\"streams\"])"
   ]
  },
  {
   "cell_type": "code",
   "execution_count": null,
   "id": "21c1dc9d-074d-4bfa-bf00-085ddaa1fc34",
   "metadata": {},
   "outputs": [],
   "source": [
    "# 4. parse pdfs\n",
    "parser = PyPDFToDocument()\n",
    "documents = parser.run(sources=pdf_bytes[\"streams\"])\n",
    "\n",
    "len(documents[\"documents\"])"
   ]
  },
  {
   "cell_type": "code",
   "execution_count": null,
   "id": "6c3b8c35-dfd5-4e26-8399-a792b77aa18d",
   "metadata": {},
   "outputs": [],
   "source": [
    "# 5. augment with topic + llm tags\n",
    "prompt = \"\"\"<instructions>\n",
    "    <instruction>Your purpose is to assign subtopics from the list of available <subtopics> and create a short summary (3-5 sentences) for the following <doc>.</instruction>\n",
    "    <instruction>The selected subtopics should be clearly recognizable in the <doc>.</instruction>\n",
    "    <instruction>Look at the description of each subtopic to ensure selected subtopics are relevant to the <doc>.</instruction>\n",
    "    <instruction>The selected subtopics must be related to the general <tags> and provide lower-level (more precise) information about the document content.</instruction>\n",
    "    <instruction>You can also look at the provided <url> to help guide your tagging decision.</instruction>\n",
    "</instructions>\n",
    "\n",
    "<response_format>\n",
    "class SubtopicTaggingSchema(BaseModel):\n",
    "    sutopics: List[str] # one or more subtopics.\n",
    "    summary: str # in same language as <doc>.\n",
    "</response_format>\n",
    "\n",
    "<subtopics>\n",
    "{subtopics}\n",
    "</subtopics>\n",
    "\n",
    "<url>\n",
    "{url}\n",
    "</url>\n",
    "\n",
    "<tags>\n",
    "{tags}\n",
    "</tags>\n",
    "\n",
    "<doc>\n",
    "{doc}\n",
    "</doc>\n",
    "\"\"\""
   ]
  },
  {
   "cell_type": "code",
   "execution_count": null,
   "id": "362886f7-8ade-405a-bf14-f3e5886602e0",
   "metadata": {},
   "outputs": [],
   "source": [
    "class SubtopicTaggingSchema(BaseModel):\n",
    "    subtopics: List[str]\n",
    "    summary: str"
   ]
  },
  {
   "cell_type": "markdown",
   "id": "3d2bf92a-1c0d-4b4d-a815-345af1e788fe",
   "metadata": {},
   "source": [
    "# Important Note: only use ahv-iv subtopics for the moment"
   ]
  },
  {
   "cell_type": "code",
   "execution_count": null,
   "id": "f36492fc-0661-4a85-a56f-c788294088eb",
   "metadata": {},
   "outputs": [],
   "source": [
    "subtopics = {\n",
    "    \"de\": pd.read_csv(\"indexing/data/glossary/glossary_ahv_iv_de_normalized.csv\"),\n",
    "    \"fr\": pd.read_csv(\"indexing/data/glossary/glossary_ahv_iv_fr_normalized.csv\"),\n",
    "    \"it\": pd.read_csv(\"indexing/data/glossary/glossary_ahv_iv_it_normalized.csv\")\n",
    "}"
   ]
  },
  {
   "cell_type": "code",
   "execution_count": null,
   "id": "d1157b2d-a0d9-4b18-9fe5-208971a89325",
   "metadata": {},
   "outputs": [],
   "source": [
    "tags = ahv_iv_memento_mapping.values()\n",
    "tags = list(set([x[0] for x in list(tags)]))\n",
    "\n",
    "organizations = \"ZAS:ALL,EAK:ALL\"\n",
    "\n",
    "docs = []\n",
    "for doc, meta in tqdm.tqdm(zip(documents[\"documents\"], pdf_meta)):\n",
    "    \n",
    "    lang = meta[\"language\"]\n",
    "    subtopics_lang = \"\\n\\n\".join([f'**{row[\"subtopic\"]}**: {row[\"description\"]}' for i, row in subtopics[lang].iterrows()])\n",
    "    messages = [{\"role\": \"developer\",\n",
    "                 \"content\": prompt.format(\n",
    "                     url=doc.meta[\"url\"],\n",
    "                     doc=doc.content,\n",
    "                     subtopics=subtopics_lang,\n",
    "                     tag=meta[\"tags\"][0])\n",
    "                }]\n",
    "    \n",
    "    res = await llm_client.beta.chat.completions.parse(\n",
    "                    model=\"gpt-4o\",\n",
    "                    temperature=0,\n",
    "                    top_p=0.95,\n",
    "                    max_tokens=512,\n",
    "                    messages=messages,\n",
    "                    response_format=SubtopicTaggingSchema,\n",
    "                )\n",
    "\n",
    "    tags = meta[\"tags\"]\n",
    "    tags = \",\".join(list(set(tags)))\n",
    "\n",
    "    inferred_subtopics = []\n",
    "    inferred_subtopics.extend(res.choices[0].message.parsed.subtopics)\n",
    "    inferred_subtopics = \",\".join(list(set(inferred_subtopics)))\n",
    "\n",
    "    summary = res.choices[0].message.parsed.summary # for ECL\n",
    "    \n",
    "    docs.append(\n",
    "        Document(\n",
    "            url=doc.meta[\"url\"],\n",
    "            text=doc.content.strip(),\n",
    "            tags=tags,\n",
    "            subtopics=inferred_subtopics,\n",
    "            language=lang,\n",
    "            summary=summary,\n",
    "            doctype=\"context_doc\",\n",
    "            organization=organizations\n",
    "        )\n",
    "    )\n"
   ]
  },
  {
   "cell_type": "code",
   "execution_count": null,
   "id": "eecfc697-8cde-4db6-afe1-496e2884220d",
   "metadata": {},
   "outputs": [],
   "source": [
    "pd.DataFrame([doc.__dict__ for doc in docs])"
   ]
  },
  {
   "cell_type": "code",
   "execution_count": null,
   "id": "f62c1b49-a94c-4422-894f-b18e5c4cc42c",
   "metadata": {},
   "outputs": [],
   "source": [
    "pd.DataFrame([doc.__dict__ for doc in docs]).to_csv(\"indexing/data/to_upsert/ahv_iv_memento/ahv_iv_de_fr_it_tags_subtopics_llm.csv\", index=None)"
   ]
  },
  {
   "cell_type": "code",
   "execution_count": null,
   "id": "44f0cec5-4d3d-42c6-af77-8fb496bcd88f",
   "metadata": {},
   "outputs": [],
   "source": []
  },
  {
   "cell_type": "code",
   "execution_count": null,
   "id": "06dfe029-86d7-462e-a989-66b51252ab81",
   "metadata": {},
   "outputs": [],
   "source": [
    "df = pd.read_csv(\"indexing/data/to_upsert/ahv_iv_memento/ahv_iv_de_fr_it_tags_subtopics_llm.csv\") "
   ]
  },
  {
   "cell_type": "code",
   "execution_count": null,
   "id": "0b947513-fb03-480d-b9ca-708db0c70b95",
   "metadata": {},
   "outputs": [],
   "source": [
    "class DocumentSplits(BaseModel):\n",
    "    split_str: List[str]\n",
    "    previous_context: str\n",
    "    following_context: str\n",
    "    \n",
    "prompt = \"\"\"<purpose>\n",
    "Your task is to split the <doc> into parts based on the <rules>.\n",
    "</purpose>\n",
    "\n",
    "<rules>\n",
    "Number of characters are defined in <n_chars>.\n",
    "1. If the <doc> is ≤ 50,000 characters, do not split it. Return it as is.\n",
    "2. If the <doc> is > 50,000 and ≤ 100,000 characters, split it into 2 logical, well-structured parts. \n",
    "3. If the <doc> is > 100,000 characters, split it into 3 logical, well-structured parts.\n",
    "\n",
    "For each split_str in list, return the exact string sentence upon which to split (no reformulation to ensure str.split() works in python).\n",
    "IMPORTANT: preserve original string formatting (eg. \"\\n\", \"\\x0c\", etc.).\n",
    "Divide the text logically where it makes sense (e.g., avoid splitting a topic, paragraph, or section mid-way). Ensure each part maintains readability and continuity.\n",
    "Write a short contextual summary for each part (content following part 1, content before/after part 2 contextualizing it, content before part 3 contextualizing it).\n",
    "</rules>\n",
    "\n",
    "<response_format>\n",
    "DocumentSplits(BaseModel):\n",
    "    split_str: List[str] # list of exact string matches to perform split upon. PRESERVE ORIGINAL STRING FORMATTING. Select 2 sentences from original text per list item.\n",
    "    previous_context: str # to contextualize previous document content. Written in same language as <doc>. 3-5 detailed sentences capturing context.\n",
    "    following_context: str # to contextualize following document content. Written in same language as <doc>. 3-5 detailed sentences capturing context.\n",
    "</response_format>\n",
    "\n",
    "<n_chars>\n",
    "{n_chars}\n",
    "</n_chars>\n",
    "\n",
    "<doc>\n",
    "{doc}\n",
    "</doc>\n",
    "\"\"\"\n",
    "\n",
    "MAX_N_CHARS = 131072\n",
    "\n",
    "for i, row in df.iterrows():\n",
    "\n",
    "    if len(row.text) > MAX_N_CHARS:\n",
    "        messages = [{\"role\": \"developer\",\n",
    "             \"content\": prompt.format(\n",
    "                 n_chars=len(row.text),\n",
    "                 doc=row.text)\n",
    "            }]\n",
    "\n",
    "        res = await llm_client.beta.chat.completions.parse(\n",
    "                        model=\"gpt-4o\",\n",
    "                        temperature=0,\n",
    "                        top_p=0.95,\n",
    "                        max_tokens=512,\n",
    "                        messages=messages,\n",
    "                        response_format=DocumentSplits,\n",
    "                    )\n",
    "        break"
   ]
  },
  {
   "cell_type": "code",
   "execution_count": null,
   "id": "938fcd6a-1451-4dbd-830d-d56493f6a527",
   "metadata": {},
   "outputs": [],
   "source": [
    "res.choices[0].message.parsed.split_str"
   ]
  },
  {
   "cell_type": "code",
   "execution_count": null,
   "id": "5b900ed6-54e2-478a-9b3f-fdc9e16f03dc",
   "metadata": {},
   "outputs": [],
   "source": [
    "res.choices[0].message.parsed.split_str[0]"
   ]
  },
  {
   "cell_type": "code",
   "execution_count": null,
   "id": "0e05f091-3d2f-458c-81dc-887d301f1ea4",
   "metadata": {},
   "outputs": [],
   "source": [
    "row.text.split(res.choices[0].message.parsed.split_str[0])[1]"
   ]
  },
  {
   "cell_type": "code",
   "execution_count": null,
   "id": "2499fd8b-e830-4f13-bc80-0ff844233aab",
   "metadata": {},
   "outputs": [],
   "source": []
  },
  {
   "cell_type": "code",
   "execution_count": null,
   "id": "ad8fd96f-4f0b-41e6-bdd8-d792f4bd465e",
   "metadata": {},
   "outputs": [],
   "source": []
  },
  {
   "cell_type": "code",
   "execution_count": null,
   "id": "66df0b79-4259-4b20-a944-63dde6c1c85d",
   "metadata": {},
   "outputs": [],
   "source": []
  },
  {
   "cell_type": "code",
   "execution_count": null,
   "id": "23301b56-5aec-47bc-a94e-1d8e75ba06b0",
   "metadata": {},
   "outputs": [],
   "source": []
  },
  {
   "cell_type": "code",
   "execution_count": null,
   "id": "dc27130d-ee32-406c-b220-e3a61fd7ea4c",
   "metadata": {},
   "outputs": [],
   "source": []
  },
  {
   "cell_type": "code",
   "execution_count": null,
   "id": "f830780f-807f-457b-8fe2-25bf51c63012",
   "metadata": {},
   "outputs": [],
   "source": []
  },
  {
   "cell_type": "code",
   "execution_count": null,
   "id": "e04f498e-4d6d-4626-b9a0-0ad5ca3a3544",
   "metadata": {},
   "outputs": [],
   "source": []
  },
  {
   "cell_type": "code",
   "execution_count": null,
   "id": "417d9a7c-ab91-4b46-8f29-52ff1aa24149",
   "metadata": {},
   "outputs": [],
   "source": []
  },
  {
   "cell_type": "code",
   "execution_count": null,
   "id": "e876751a-ee6b-43f9-92d8-98217c440d9a",
   "metadata": {},
   "outputs": [],
   "source": [
    "pd.DataFrame([doc.__dict__ for doc in docs]).to_csv(\"indexing/data/to_upsert/ahv_iv_memento/ahv_iv_de_fr_it_tags_subtopics_llm.csv\", index=None)"
   ]
  },
  {
   "cell_type": "markdown",
   "id": "3d38e6cb-ce85-4a5a-94e2-09df967a3b8d",
   "metadata": {},
   "source": [
    "### eak.admin.ch"
   ]
  },
  {
   "cell_type": "code",
   "execution_count": null,
   "id": "957fa2f2-4c3a-4fc3-9364-040390142b58",
   "metadata": {},
   "outputs": [],
   "source": []
  },
  {
   "cell_type": "code",
   "execution_count": null,
   "id": "602d16cd-d52f-4237-b76e-05eca5778a25",
   "metadata": {},
   "outputs": [],
   "source": []
  },
  {
   "cell_type": "code",
   "execution_count": null,
   "id": "ad5e4319-936d-4aa2-bed1-9943e516350e",
   "metadata": {},
   "outputs": [],
   "source": []
  },
  {
   "cell_type": "markdown",
   "id": "7ff157d3-9c5d-4cd7-90b5-7ba301961945",
   "metadata": {},
   "source": [
    "### Praxisleitfaden EAK"
   ]
  },
  {
   "cell_type": "code",
   "execution_count": null,
   "id": "09ef0673-8179-4613-ae44-c38e40ffa260",
   "metadata": {},
   "outputs": [],
   "source": [
    "df = pd.read_csv(\"indexing/data/to_upsert/Guide_Pratique_CAF_CFC/guide_pratique_caf_cfc_de.csv\")\n",
    "df.head()"
   ]
  },
  {
   "cell_type": "code",
   "execution_count": null,
   "id": "17832f3c-b492-4015-a2e2-76a8487c23ac",
   "metadata": {},
   "outputs": [],
   "source": [
    "df.rename(columns={\"tag\": \"tags\"}, inplace=True)"
   ]
  },
  {
   "cell_type": "code",
   "execution_count": null,
   "id": "92dadfa3-8784-46e2-97d9-396165d7c17b",
   "metadata": {},
   "outputs": [],
   "source": [
    "tags = ahv_iv_memento_mapping.values()\n",
    "tags = list(set([x[0] for x in list(tags)]))\n",
    "\n",
    "docs = []\n",
    "for i, row in tqdm.tqdm(df.iterrows()):\n",
    "\n",
    "    messages = [{\"role\": \"developer\", \"content\": prompt.format(url=row[\"url\"], doc=row[\"text\"], tags=tags)}]\n",
    "\n",
    "    res = await llm_client.beta.chat.completions.parse(\n",
    "                    model=\"gpt-4o\",\n",
    "                    temperature=0,\n",
    "                    top_p=0.95,\n",
    "                    max_tokens=512,\n",
    "                    messages=messages,\n",
    "                    response_format=TagExtraction,\n",
    "                )\n",
    "    \n",
    "    #tags = [row[\"tags\"]]\n",
    "    tags = []\n",
    "    tags.extend(res.choices[0].message.parsed.tags)\n",
    "    tags = \",\".join(list(set(tags)))\n",
    "\n",
    "    topics = []\n",
    "    topics.extend(res.choices[0].message.parsed.topics)\n",
    "    topics = \",\".join(list(set(topics)))\n",
    "    \n",
    "    docs.append(\n",
    "        Document(\n",
    "            url = row[\"url\"],\n",
    "            text=row[\"text\"],\n",
    "            language=row[\"language\"],\n",
    "            tags=tags,\n",
    "            topics=topics,\n",
    "            summary=res.choices[0].message.parsed.summary,\n",
    "            source=row[\"source\"]\n",
    "            )\n",
    "        )\n",
    "\n"
   ]
  },
  {
   "cell_type": "code",
   "execution_count": null,
   "id": "440af860-e843-4ead-bdac-02af4aa614e7",
   "metadata": {},
   "outputs": [],
   "source": [
    "pd.DataFrame([doc.__dict__ for doc in docs])"
   ]
  },
  {
   "cell_type": "code",
   "execution_count": null,
   "id": "b9d5f09c-0ba0-429f-859f-3be05001d675",
   "metadata": {},
   "outputs": [],
   "source": [
    "pd.DataFrame([doc.__dict__ for doc in docs]).to_csv(\"indexing/data/to_upsert/Guide_Pratique_CAF_CFC/guide_pratique_caf_cfc_de_tags_llm.csv\", index=None)"
   ]
  },
  {
   "cell_type": "markdown",
   "id": "35044f06-b43f-422e-a7b1-2f0f5a8ff3be",
   "metadata": {},
   "source": [
    "# AKIS"
   ]
  },
  {
   "cell_type": "code",
   "execution_count": null,
   "id": "dac9c3a4-363f-49e9-9532-4010677fb10e",
   "metadata": {},
   "outputs": [],
   "source": [
    "df.head()"
   ]
  },
  {
   "cell_type": "code",
   "execution_count": null,
   "id": "8f7e6993-6268-4907-bb3a-1a5a7be06994",
   "metadata": {},
   "outputs": [],
   "source": [
    "tokenizer = tiktoken.encoding_for_model(\"gpt-4o\")"
   ]
  },
  {
   "cell_type": "code",
   "execution_count": null,
   "id": "a3665654-7598-4e2c-aa00-0810511e10fe",
   "metadata": {},
   "outputs": [],
   "source": [
    "tags = ahv_iv_memento_mapping.values()\n",
    "tags = list(set([x[0] for x in list(tags)]))\n",
    "\n",
    "organizations = \"EAK\"\n",
    "\n",
    "#docs = []\n",
    "for i, row in tqdm.tqdm(df[983:].iterrows()):\n",
    "    \n",
    "    lang = \"de\"\n",
    "    subtopics_lang = \"\\n\\n\".join([f'**{row[\"subtopic\"]}**: {row[\"description\"]}' for i, row in subtopics[lang].iterrows()])\n",
    "\n",
    "    tokens = tokenizer.encode(row.text)\n",
    "    if len(tokens) > 16_384 - 512: \n",
    "        text = tokenizer.decode(tokens[:15_872])\n",
    "    else:\n",
    "        text = row.text\n",
    "        \n",
    "    messages = [{\"role\": \"developer\",\n",
    "                 \"content\": prompt.format(\n",
    "                     url=row.url,\n",
    "                     doc=row.text,\n",
    "                     subtopics=subtopics_lang,\n",
    "                     tags=row.tags)\n",
    "                }]\n",
    "    \n",
    "    res = await llm_client.beta.chat.completions.parse(\n",
    "                    model=\"gpt-4o\",\n",
    "                    temperature=0,\n",
    "                    top_p=0.95,\n",
    "                    max_tokens=512,\n",
    "                    messages=messages,\n",
    "                    response_format=SubtopicTaggingSchema,\n",
    "                )\n",
    "\n",
    "    inferred_subtopics = []\n",
    "    inferred_subtopics.extend(res.choices[0].message.parsed.subtopics)\n",
    "    inferred_subtopics = \",\".join(list(set(inferred_subtopics)))\n",
    "\n",
    "    summary = res.choices[0].message.parsed.summary # for ECL\n",
    "    \n",
    "    docs.append(\n",
    "        Document(\n",
    "            url=row.url,\n",
    "            text=row.text.strip(),\n",
    "            tags=row.tags,\n",
    "            subtopics=inferred_subtopics,\n",
    "            language=lang,\n",
    "            summary=summary,\n",
    "            doctype=\"context_doc\",\n",
    "            organization=organizations\n",
    "        )\n",
    "    )\n"
   ]
  },
  {
   "cell_type": "code",
   "execution_count": null,
   "id": "5e43d139-9d2f-4920-befc-0ab36be9afd0",
   "metadata": {},
   "outputs": [],
   "source": [
    "len(messages[0][\"content\"])"
   ]
  },
  {
   "cell_type": "code",
   "execution_count": null,
   "id": "3919319d-5a1e-42a2-844d-3c62949d0057",
   "metadata": {},
   "outputs": [],
   "source": [
    "i"
   ]
  },
  {
   "cell_type": "code",
   "execution_count": null,
   "id": "4338c95c-73fc-4311-87b8-58caf80fe2ef",
   "metadata": {},
   "outputs": [],
   "source": [
    "pd.DataFrame([doc.__dict__ for doc in docs])"
   ]
  },
  {
   "cell_type": "code",
   "execution_count": null,
   "id": "f6416999-2019-41f1-b04f-d411e6a3f584",
   "metadata": {},
   "outputs": [],
   "source": [
    "pd.DataFrame([doc.__dict__ for doc in docs]).subtopics.apply(lambda x: not (len(x) > 1)).sum()"
   ]
  },
  {
   "cell_type": "code",
   "execution_count": null,
   "id": "4724ac8c-1157-4234-97d8-ee4a6f1c7d53",
   "metadata": {},
   "outputs": [],
   "source": [
    "pd.DataFrame([doc.__dict__ for doc in docs]).to_csv(\"indexing/data/zas_eak_copilot/akis/akis_augmented.csv\", index=None)"
   ]
  },
  {
   "cell_type": "markdown",
   "id": "3a1ab1ae-6bb5-4c89-8d98-76a15a5f1cdb",
   "metadata": {},
   "source": [
    "### AHV Lernbaustein 2024"
   ]
  },
  {
   "cell_type": "code",
   "execution_count": null,
   "id": "3490665e-881f-49d3-811a-940a4ce9903e",
   "metadata": {},
   "outputs": [],
   "source": [
    "df = pd.read_csv(\"indexing/data/to_upsert/AHV_Lernbaustein_2024/AHV_Lernbaustein_2024.csv\")\n",
    "\n",
    "# replace tag col with \"tags\"\n",
    "# update \"source\" col\n",
    "df.rename(columns={\"tag\": \"tags\"}, inplace=True)\n",
    "df[\"source\"] = \"AHV Lernbaustein 2024\""
   ]
  },
  {
   "cell_type": "code",
   "execution_count": null,
   "id": "32d3116e-1aa3-4c8f-98ae-356d553771d4",
   "metadata": {},
   "outputs": [],
   "source": [
    "class TranslationSchema(BaseModel):\n",
    "    translations: List[str]\n",
    "\n",
    "translation_prompt = \"\"\"<purpose>\n",
    "Translate any element not in English in the list of <topics> to English.\n",
    "IMPORTANT: If a topic is already in English, keep it as is.\n",
    "Keep in mind the topic is Social Insurances.\n",
    "</purpose>\n",
    "\n",
    "<response_format>\n",
    "TranslationSchema(BaseModel):\n",
    "    translations: List[str] # exact translated correspondance with <topics>\n",
    "\n",
    "Be careful to maintain acronyms, capital letters, etc.\n",
    "All acronyms must remain unchanged (eg. LAMal -> LAMal, IV -> IV, EO -> EO, MSE -> MSE, etc.)\n",
    "</response_format>\n",
    "\n",
    "<examples>\n",
    "EU-Abkommen -> EU agreement\n",
    "EFTA-Abkommen -> EFTA Agreement\n",
    "IV-Taggeld -> IV Daily Allowance\n",
    "Erwerbsersatzordnung (EO) -> Income Compensation Ordinance (EO)\n",
    "Mutterschaftsentschädigung (MSE) -> Maternity allowance (MSE)\n",
    "</examples>\n",
    "\n",
    "<topics>\n",
    "{topics}\n",
    "</topics>\n",
    "\"\"\""
   ]
  },
  {
   "cell_type": "code",
   "execution_count": null,
   "id": "dadef7cc-40db-4214-9401-d53ed7382d9a",
   "metadata": {},
   "outputs": [],
   "source": [
    "tags = ahv_iv_memento_mapping.values()\n",
    "tags = list(set([x[0] for x in list(tags)]))\n",
    "\n",
    "docs = []\n",
    "for i, row in tqdm.tqdm(df.iterrows()):\n",
    "\n",
    "    messages = [{\"role\": \"developer\", \"content\": prompt.format(url=row[\"url\"], doc=row[\"text\"], tags=tags)}]\n",
    "\n",
    "    res = await llm_client.beta.chat.completions.parse(\n",
    "                    model=\"gpt-4o\",\n",
    "                    temperature=0,\n",
    "                    top_p=0.95,\n",
    "                    max_tokens=512,\n",
    "                    messages=messages,\n",
    "                    response_format=TagExtraction,\n",
    "                )\n",
    "    \n",
    "    #tags = [row[\"tags\"]]\n",
    "    tags = []\n",
    "    tags.extend(res.choices[0].message.parsed.tags)\n",
    "    tags = \",\".join(list(set(tags)))\n",
    "\n",
    "    topics = []\n",
    "    topics.extend(res.choices[0].message.parsed.topics)\n",
    "    \n",
    "\n",
    "    # translate topics into EN with deepl\n",
    "    #for i, topic in enumerate(topics):\n",
    "    #    trans = translator.translate_text(topic, target_lang=\"EN-GB\", model_type=\"prefer_quality_optimized\")\n",
    "    #    if trans.detected_source_lang != \"EN\":\n",
    "    #        print(trans.detected_source_lang, topic, trans.text)\n",
    "    #        topics[i] = trans.text\n",
    "\n",
    "    for i, topic in enumerate(topics):\n",
    "        trans = await llm_client.beta.chat.completions.parse(\n",
    "                    model=\"gpt-4o\",\n",
    "                    temperature=0,\n",
    "                    top_p=0.95,\n",
    "                    max_tokens=512,\n",
    "                    messages=[{\"role\": \"developer\", \"content\": translation_prompt.format(topics=topics)}],\n",
    "                    response_format=TranslationSchema,\n",
    "                )\n",
    "\n",
    "    trans_topics = trans.choices[0].message.parsed.translations\n",
    "    trans_topics = \",\".join(list(set(trans_topics))).title()\n",
    "    \n",
    "    docs.append(\n",
    "        Document(\n",
    "            url = row[\"url\"],\n",
    "            text=row[\"text\"],\n",
    "            language=row[\"language\"],\n",
    "            tags=tags,\n",
    "            topics=trans_topics,\n",
    "            summary=res.choices[0].message.parsed.summary,\n",
    "            source=row[\"source\"]\n",
    "            )\n",
    "        )\n",
    "    break"
   ]
  },
  {
   "cell_type": "code",
   "execution_count": null,
   "id": "3890b087-7e38-4bd9-bb7d-75711ad9a09f",
   "metadata": {},
   "outputs": [],
   "source": [
    "pd.DataFrame([doc.__dict__ for doc in docs]).topics[0]"
   ]
  },
  {
   "cell_type": "code",
   "execution_count": null,
   "id": "c266aa2d-b137-4ad7-8c34-13b7d6fff336",
   "metadata": {},
   "outputs": [],
   "source": [
    "topics"
   ]
  },
  {
   "cell_type": "code",
   "execution_count": null,
   "id": "d8818db3-bec7-46bb-8487-ffdca9b02040",
   "metadata": {},
   "outputs": [],
   "source": []
  },
  {
   "cell_type": "code",
   "execution_count": null,
   "id": "e028ad41-b390-45f1-819d-7bdecf391512",
   "metadata": {},
   "outputs": [],
   "source": [
    "pd.DataFrame([doc.__dict__ for doc in docs]).to_csv(\"indexing/data/to_upsert/AHV_Lernbaustein_2024/AHV_Lernbaustein_2024_tags_llm.csv\", index=None)"
   ]
  },
  {
   "cell_type": "markdown",
   "id": "2bc6b3e4-2a6f-4a36-a74e-86a7a5005ff7",
   "metadata": {},
   "source": [
    "# OR load base data"
   ]
  },
  {
   "cell_type": "code",
   "execution_count": null,
   "id": "b38ba7da-8426-44e0-a61d-1aa0084fd1a2",
   "metadata": {},
   "outputs": [],
   "source": [
    "df = pd.read_csv(\"./indexing/data/document_embed_DE_FR_language_tags.csv\")"
   ]
  },
  {
   "cell_type": "code",
   "execution_count": null,
   "id": "a4f74776-1bba-490e-ab61-13dc2ab5dc22",
   "metadata": {},
   "outputs": [],
   "source": [
    "# replace NaN with None\n",
    "tags = df.tags.apply(lambda x: ast.literal_eval(x)[0] if isinstance(x, str) else None)\n",
    "df[\"tags\"] = tags\n",
    "# remove embedding column\n",
    "df.drop(columns=[\"embedding\"], inplace=True)\n",
    "df.to_csv(\"./indexing/data/document_DE_FR_language_tags.csv\", index=None)"
   ]
  },
  {
   "cell_type": "markdown",
   "id": "b88ef745-56a7-480e-b1f0-ef451ccb58fb",
   "metadata": {},
   "source": [
    "### avs-ai"
   ]
  },
  {
   "cell_type": "code",
   "execution_count": null,
   "id": "42da5184-9a3c-4ed6-9c68-5532b86ec025",
   "metadata": {},
   "outputs": [],
   "source": [
    "df[:30]"
   ]
  },
  {
   "cell_type": "code",
   "execution_count": null,
   "id": "937ad783-902b-46b8-9ec1-c0514ee3eb7d",
   "metadata": {},
   "outputs": [],
   "source": [
    "new_tags = df['url'].map(ahv_iv_mapping)\n",
    "new_tags[:30]"
   ]
  },
  {
   "cell_type": "code",
   "execution_count": null,
   "id": "1fc8f660-7aab-4970-9321-368224103eb6",
   "metadata": {},
   "outputs": [],
   "source": [
    "sum(df.url.str.contains(\"ahv-iv.ch\"))"
   ]
  },
  {
   "cell_type": "code",
   "execution_count": null,
   "id": "4695eaf5-900f-4caa-a66d-fa7c6cd23dbb",
   "metadata": {},
   "outputs": [],
   "source": [
    "ahv_iv_data = df[:106]\n",
    "ahv_iv_data.loc[:, \"tags\"] = new_tags[:106]\n",
    "ahv_iv_data"
   ]
  },
  {
   "cell_type": "code",
   "execution_count": null,
   "id": "29ad6a2f-c5f9-46b7-bb55-3ef1e30b832c",
   "metadata": {},
   "outputs": [],
   "source": [
    "ahv_iv_data.to_csv(\"./indexing/data/ahv_iv_de_fr_tags.csv\", index=None)"
   ]
  },
  {
   "cell_type": "markdown",
   "id": "a9a557fd-c634-4b6a-ab39-635f0ed35628",
   "metadata": {},
   "source": [
    "### eak.admin.ch"
   ]
  },
  {
   "cell_type": "code",
   "execution_count": null,
   "id": "8fc99b84-2ed4-414b-be95-15e4db7cb415",
   "metadata": {},
   "outputs": [],
   "source": [
    "eak_admin_ch = df[106:]\n",
    "eak_admin_ch"
   ]
  },
  {
   "cell_type": "code",
   "execution_count": null,
   "id": "6c9b19da-1bf4-4e8b-9339-2850ea858f34",
   "metadata": {},
   "outputs": [],
   "source": [
    "eak_mapping = {\n",
    "    \"anschluss\": \"Anschluss\",\n",
    "    \"firmen\": \"Firmen\",\n",
    "    \"beitraege_und_loehne\": \"Beiträge und Löhne\",\n",
    "    \"kinder\": \"Kinder\",\n",
    "    \"erwerbsersatz\": \"Erwerbsersatz\",\n",
    "    \"ahv-konto\": \"AHV-Konto\",\n",
    "    \"zivilstand\": \"Zivilstand\",\n",
    "    \"ausbildung\": \"Ausbildung\",\n",
    "    \"arbeit\": \"Arbeit\",\n",
    "    \"arbeitsunterbruch\": \"Arbeitsunterbruch\",\n",
    "    \"pensionierung\": \"Pensionierung\",\n",
    "    \"im_ausland\": \"Im Ausland\",\n",
    "    \"organisation\": \"Organisation\",\n",
    "    \"publikationen\": \"Publikationen\",\n",
    "    \"kurse-und-beratung\": \"Kurse und Beratung\",\n",
    "    \"dokumentation\": \"Private\",\n",
    "    \"familienzulagen\": \"Familienzulagen\", \n",
    "    \"leistungen\": \"Leistungen\"\n",
    "}"
   ]
  },
  {
   "cell_type": "code",
   "execution_count": null,
   "id": "adeffd20-d01d-4dbc-91e2-21c7de80bdd1",
   "metadata": {},
   "outputs": [],
   "source": [
    "matches = {k:[] for k in eak_admin_ch.url}"
   ]
  },
  {
   "cell_type": "code",
   "execution_count": null,
   "id": "377a8178-7f2d-42c2-8d7a-297d6e34ea57",
   "metadata": {},
   "outputs": [],
   "source": [
    "for i, row in eak_admin_ch.iterrows():\n",
    "    for k, v in eak_mapping.items():\n",
    "        if k.lower() in row.url.lower():\n",
    "            matches[row.url].append(v)"
   ]
  },
  {
   "cell_type": "code",
   "execution_count": null,
   "id": "ef1d121b-24e2-4dcb-82b6-6623a58065ae",
   "metadata": {},
   "outputs": [],
   "source": [
    "eak_admin_ch = eak_admin_ch.reset_index(drop=True)\n",
    "eak_admin_ch.loc[:, \"tags\"] = pd.Series([x if x else None for x in list(matches.values())])"
   ]
  },
  {
   "cell_type": "code",
   "execution_count": null,
   "id": "b51f75cc-f170-4262-8454-c93f7be058b4",
   "metadata": {},
   "outputs": [],
   "source": [
    "eak_admin_ch.tags[30:60]"
   ]
  },
  {
   "cell_type": "code",
   "execution_count": null,
   "id": "26661ae3-bfce-466d-aa69-dd13c50f7153",
   "metadata": {},
   "outputs": [],
   "source": [
    "eak_admin_ch.loc[:, 'tags'] = eak_admin_ch['tags'].apply(lambda x: ','.join(x) if isinstance(x, list) else '')"
   ]
  },
  {
   "cell_type": "code",
   "execution_count": null,
   "id": "f00f0533-8706-4fbb-bdcd-16bcd14a6e77",
   "metadata": {},
   "outputs": [],
   "source": [
    "eak_admin_ch[60:100]"
   ]
  },
  {
   "cell_type": "code",
   "execution_count": null,
   "id": "44b27565-9a82-40d2-b48f-25793fb1de43",
   "metadata": {},
   "outputs": [],
   "source": [
    "eak_admin_ch.to_csv(\"./indexing/data/eak_admin_ch_de_fr_tags.csv\", index=None)"
   ]
  },
  {
   "cell_type": "markdown",
   "id": "00da6a72-ce53-4283-83ec-b12e55b4fe77",
   "metadata": {},
   "source": [
    "# REF platform (tag) - LEGACY"
   ]
  },
  {
   "cell_type": "markdown",
   "id": "cf5876f1-44d4-4f30-b45a-e27aa43bf40b",
   "metadata": {},
   "source": [
    "### Praxisleitfaden EAK"
   ]
  },
  {
   "cell_type": "code",
   "execution_count": null,
   "id": "c8f7a6f1-c4f1-4522-9e16-779348763345",
   "metadata": {},
   "outputs": [],
   "source": [
    "df = pd.read_csv(\"indexing/data/to_upsert/Guide_Pratique_CAF_CFC/guide_pratique_caf_cfc_de.csv\")\n",
    "df.head()"
   ]
  },
  {
   "cell_type": "code",
   "execution_count": null,
   "id": "b361ea3c-509e-4c93-9da9-7ff3b705672a",
   "metadata": {},
   "outputs": [],
   "source": [
    "# replace tag col with \"tags\"\n",
    "df.rename(columns={\"tag\": \"tags\"}, inplace=True)"
   ]
  },
  {
   "cell_type": "code",
   "execution_count": null,
   "id": "5e4d447b-b63f-458e-b2ca-fb9fbc12e5cc",
   "metadata": {},
   "outputs": [],
   "source": [
    "df"
   ]
  },
  {
   "cell_type": "code",
   "execution_count": null,
   "id": "cde8897b-9d9d-4bc2-b074-25d8aeb9e5ca",
   "metadata": {},
   "outputs": [],
   "source": [
    "df.to_csv(\"indexing/data/to_upsert/Guide_Pratique_CAF_CFC/guide_pratique_caf_cfc_de_tags.csv\", index=None)"
   ]
  },
  {
   "cell_type": "markdown",
   "id": "4c5da94d-5fc2-4467-9499-4b6109b51bf4",
   "metadata": {},
   "source": [
    "### AHV Lernbaustein 2024"
   ]
  },
  {
   "cell_type": "code",
   "execution_count": null,
   "id": "bcef25de-cf79-4d6a-8b8f-c9492b5d9c6d",
   "metadata": {},
   "outputs": [],
   "source": [
    "df = pd.read_csv(\"indexing/data/to_upsert/AHV_Lernbaustein_2024/AHV_Lernbaustein_2024.csv\")\n",
    "df.head()"
   ]
  },
  {
   "cell_type": "code",
   "execution_count": null,
   "id": "c616d566-871b-49bf-baa8-ce88f204677c",
   "metadata": {},
   "outputs": [],
   "source": [
    "# replace tag col with \"tags\"\n",
    "# update \"source\" col\n",
    "df.rename(columns={\"tag\": \"tags\"}, inplace=True)\n",
    "df[\"source\"] = \"AHV Lernbaustein 2024\""
   ]
  },
  {
   "cell_type": "code",
   "execution_count": null,
   "id": "168be03b-3b5a-4cd0-99bd-8957aea4094e",
   "metadata": {},
   "outputs": [],
   "source": [
    "df"
   ]
  },
  {
   "cell_type": "code",
   "execution_count": null,
   "id": "084ebaa8-d23d-4d89-b63b-5951057ee010",
   "metadata": {},
   "outputs": [],
   "source": [
    "df.to_csv(\"indexing/data/to_upsert/AHV_Lernbaustein_2024/AHV_Lernbaustein_2024_tags.csv\", index=None)"
   ]
  },
  {
   "cell_type": "code",
   "execution_count": null,
   "id": "2f970d7d-249d-4686-b6ad-e293bdc1a0d4",
   "metadata": {},
   "outputs": [],
   "source": []
  }
 ],
 "metadata": {
  "kernelspec": {
   "display_name": "venv_copilot",
   "language": "python",
   "name": "venv_copilot"
  },
  "language_info": {
   "codemirror_mode": {
    "name": "ipython",
    "version": 3
   },
   "file_extension": ".py",
   "mimetype": "text/x-python",
   "name": "python",
   "nbconvert_exporter": "python",
   "pygments_lexer": "ipython3",
   "version": "3.11.10"
  }
 },
 "nbformat": 4,
 "nbformat_minor": 5
}
