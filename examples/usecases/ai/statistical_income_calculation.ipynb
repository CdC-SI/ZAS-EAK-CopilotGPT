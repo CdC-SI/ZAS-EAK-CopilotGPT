{
 "cells": [
  {
   "metadata": {},
   "cell_type": "markdown",
   "source": "# Statistical income calculation",
   "id": "a1c117c429959fe4"
  },
  {
   "metadata": {},
   "cell_type": "markdown",
   "source": "## Input",
   "id": "a5c60c8d59c31f31"
  },
  {
   "metadata": {
    "ExecuteTime": {
     "end_time": "2025-03-27T16:48:13.378320Z",
     "start_time": "2025-03-27T16:48:13.375285Z"
    }
   },
   "cell_type": "code",
   "source": [
    "beneficiary = {\n",
    "    \"sexe\": \"homme\",\n",
    "    \"branche\": \"62-63\",\n",
    "    \"niveau_comp\": 3,\n",
    "    \"salaire_ofs\": {\"année\": 2022, \"salaire\": 8818},\n",
    "    \"ess\": 2024,\n",
    "    \"salaire_effectif\": 100000,\n",
    "    \"annee_se\": 2023,\n",
    "    \"hoaire_pourcentage\": 100,\n",
    "    \"diminution_rendement\": \"50%\",\n",
    "    \"salaire\": {\"année\": 2023, \"salaire\": 9600},\n",
    "    \"horaire\": 100,\n",
    "    \"diminution\": 50,\n",
    "    \"abattement\": 5\n",
    "}"
   ],
   "id": "2d88790603b6bf13",
   "outputs": [],
   "execution_count": 112
  },
  {
   "metadata": {
    "ExecuteTime": {
     "end_time": "2025-03-27T14:35:30.184556Z",
     "start_time": "2025-03-27T14:35:30.180487Z"
    }
   },
   "cell_type": "code",
   "source": [
    "import pandas as pd\n",
    "\n",
    "# Create the DataFrame from the cleaned data\n",
    "data = {\n",
    "    'année': [2010, 2011, 2012, 2013, 2014, 2015, 2016, 2017, 2018, 2019, 2020, 2021, 2022, 2023],\n",
    "    '26 RAI': [2284, 2306, 2326, 2343, 2361, 2370, 2386, 2395, 2407, 2429, 2449, 2445, 2468, 2510],\n",
    "    'homme': [2150, 2171, 2188, 2204, 2220, 2226, 2239, 2249, 2260, 2279, 2298, 2281, 2305, 2343],\n",
    "    'femme': [2579, 2604, 2630, 2648, 2673, 2686, 2709, 2719, 2732, 2759, 2784, 2801, 2822, 2872]\n",
    "}\n",
    "\n",
    "evo_salaires = pd.DataFrame(data)"
   ],
   "id": "eda297690cdaf13b",
   "outputs": [],
   "execution_count": 66
  },
  {
   "metadata": {
    "ExecuteTime": {
     "end_time": "2025-03-27T14:35:31.658931Z",
     "start_time": "2025-03-27T14:35:31.655435Z"
    }
   },
   "cell_type": "code",
   "source": [
    "data = {\n",
    "    'année': [2024, 2025],\n",
    "    '26 RAI': [1.7, 1.7],\n",
    "    'homme': [1.7, 1.7],\n",
    "    'femme': [1.8, 1.8]\n",
    "}\n",
    "evo_salaires_p23 = pd.DataFrame(data)"
   ],
   "id": "346580edb604785c",
   "outputs": [],
   "execution_count": 67
  },
  {
   "metadata": {
    "ExecuteTime": {
     "end_time": "2025-03-27T14:35:32.889494Z",
     "start_time": "2025-03-27T14:35:32.869738Z"
    }
   },
   "cell_type": "code",
   "source": [
    "data = {\n",
    "    'id': ['01-96', '01-03', '05-43', '5-9', '10-33', '10-12', '13-15', '16-18', '19-20', '21', '22-23', '24-25', '26', '27', '28', '29-30', '31-33', '35', '36-39', '41-43', '41-42', '43', '45-96', '45-47', '45', '46', '47', '49-53', '49', '50-51', '52', '53', '55-56', '55', '56', '58-63', '58-60', '61', '62-63', '64-66', '64', '65', '66', '68', '69-75', '69', '70', '71', '72', '73-75', '77-82', '77+79-82', '78', '84', '85', '86-88', '86', '87', '88', '90-93', '94-96'],\n",
    "    'label': [ 'TOTAL', 'SECTEUR PRIMAIRE', 'SECTEUR SECONDAIRE', 'Industries extractives', 'Industrie manufacturière', 'Industries alimentaires et du tabac', 'Industries du textile et de l’habillement', 'Industries du bois et du papier ; imprimerie', 'Cokéfaction, raffinage et industrie chimique', 'Industrie pharmaceutique', 'Industries du caoutchouc et du plastique', 'Fabrication de produits métalliques', 'Fabrication de produits électroniques; horlogerie', 'Fabrication d’équipements électriques', 'Fabrication de machines et équipements n.c.a', 'Fabrication de matériels de transport', 'Autres industries manufacturières; rép. et inst.', 'Production et distribution d’énergie', 'Production et distr. d’eau; gestion des déchets', 'Construction', 'Construction de bâtiments et génie civil', 'Travaux de construction spécialisés', 'SECTEUR TERTIAIRE', 'Commerce; réparation d\\'automobiles et de motocycles', 'Commerce et rép. d\\’automobiles et de motocycles', 'Commerce de gros', 'Commerce de détail', 'Transport et entreposage', 'Transports terrestres et transport par conduites', 'Transports par eau, transports aériens', 'Entreposage et services auxiliaires des transports', 'Activités de poste et de courrier', 'Hébergement et restauration', 'Hébergement', 'Restauration', 'Information et communication', 'Édition, audiovisuel et diffusion', 'Télécommunications', 'Activités informatiques et services d’information', 'Activités financières et d\\'assurance', 'Activités des services financiers', 'Assurance', 'Activités aux. de services financiers et d’assurance', 'Activités immobilières', 'Activités spécialisées, scientifiques et techniques', 'Activités juridiques et comptables', 'Activités des sièges sociaux ; conseil de gestion', 'Activités d’architecture et d’ingénierie', 'Recherche-développement scientifique', 'Autres activités spécialisées, scient. et techn.', 'Activités de services administratifs et de soutien', 'Activités de services administratifs (sans 78)', 'Activités liées à l\\'emploi', 'Administration publique', 'Enseignement', 'Santé humaine et action sociale', 'Activités pour la santé humaine', 'Hébergement médico-social et social', 'Action sociale sans hébergement', 'Arts, spectacles et activités récréatives', 'Autres activités de services'],\n",
    "    '2004':[41.67362417, 42.98353643, 41.38606498, 42.25962291, 41.1978938, 41.92822095, 41.74138854, 41.32149495, 40.84737702, 40.7117, 41.77699998, 41.38346255, 40.56443, 40.81595, 40.92367, 41.31536993, 41.32787366, 41.13106, 42.92422469, 41.7570494, 42.13490223, 41.54154, 41.67767035, 41.79757357, 42.36605, 41.83609, 41.64347, 42.07119101, 42.0609, 41.28301055, 42.45593, 41.98835, 42.12635078, 42.08624, 42.14803, 40.86358488, 40.60954953, 40.30827, 41.22553082, 41.43349982, 41.51494, 41.32068, 41.30154, 41.52619, 41.40727731, 41.19059, 41.23719, 41.72655, 40.65625, 41.51462571, 42.15010296, 42.16511317, 41.93972, 41.58442, 41.3973, 41.5898828, 41.6974, 41.50078, 41.27713, 41.5290549, 41.92382326],\n",
    "    '2005':[41.66915863, 42.90770405, 41.41005214, 42.39040938, 41.21886768, 41.98592218, 41.63643933, 41.37213127, 40.93403616, 40.6914, 41.75778081, 41.38970145, 40.54156, 40.96892, 40.95473, 41.28980995, 41.41656607, 41.18051, 42.84489557, 41.75962854, 42.10858043, 41.57273, 41.67634407, 41.81196842, 42.32533, 41.93867, 41.60469, 42.2186238, 42.24345, 41.87317159, 42.52475, 41.98022, 42.10678258, 42.08094, 42.11944, 40.85793498, 40.58227195, 40.32146, 41.20298765, 41.51870003, 41.61767, 41.35377, 41.4412, 41.46928, 41.36536376, 41.22133, 41.20091, 41.72961, 40.54019, 41.36839122, 42.12838633, 42.14118515, 41.93916, 41.41561, 41.4292, 41.56011327, 41.67379, 41.47712, 41.24154, 41.50132716, 41.92118416],\n",
    "    '2006':[41.66915863, 42.90770405, 41.41005214, 42.39040938, 41.21886768, 41.98592218, 41.63643933, 41.37213127, 40.93403616, 40.6914, 41.75778081, 41.38970145, 40.54156, 40.96892, 40.95473, 41.28980995, 41.41656607, 41.18051, 42.84489557, 41.75962854, 42.10858043, 41.57273, 41.67634407, 41.81196842, 42.32533, 41.93867, 41.60469, 42.2186238, 42.24345, 41.87317159, 42.52475, 41.98022, 42.10678258, 42.08094, 42.11944, 40.85793498, 40.58227195, 40.32146, 41.20298765, 41.51870003, 41.61767, 41.35377, 41.4412, 41.46928, 41.36536376, 41.22133, 41.20091, 41.72961, 40.54019, 41.36839122, 42.12838633, 42.14118515, 41.93916, 41.41561, 41.4292, 41.56011327, 41.67379, 41.47712, 41.24154, 41.50132716, 41.92118416],\n",
    "    '2007':[41.66239409, 42.79091253, 41.39564303, 42.66027766, 41.21590425, 42.11774373, 41.73890791, 41.40619296, 40.82141717, 40.66229, 41.7266758, 41.36359986, 40.51381, 41.06375, 40.94236, 41.13240086, 41.33628057, 41.1717, 42.94408492, 41.71057162, 42.01499973, 41.54752, 41.67995571, 41.82989538, 42.33364, 41.92995, 41.64109, 42.44163976, 42.70466, 41.89184579, 42.60975, 41.97724, 42.0767957, 42.08869, 42.07097, 40.94984114, 40.73098279, 40.2392, 41.33534461, 41.44080139, 41.61839, 41.17064, 41.25364, 41.52851, 41.36904597, 41.12623, 41.30438, 41.66829, 40.49591, 41.51278904, 42.03864229, 42.05385144, 41.81378, 41.33093, 41.43892, 41.51982852, 41.54389, 41.64947, 41.06314, 41.55053788, 41.94097919],\n",
    "    '2008':[41.62834008, 42.70115365, 41.34829206, 42.64008055, 41.19084549, 42.1072246, 41.64571292, 41.41675646, 40.86282715, 40.64049, 41.7544923, 41.38529947, 40.48665, 40.94695, 41.00812, 41.09935529, 41.28323675, 41.251, 42.73955403, 41.62215599, 41.93556659, 41.46111, 41.66468944, 41.86233054, 42.33344, 41.91276, 41.71296, 42.38335564, 42.73144, 41.36753133, 42.35404, 42.02047, 42.02750157, 42.05585, 42.01354, 40.96382876, 40.70758594, 40.20703, 41.31391874, 41.37873736, 41.47628, 41.27784, 41.18717, 41.56683, 41.43423242, 41.14272, 41.41156, 41.75729, 40.59079, 41.54244786, 42.00990234, 42.03223597, 41.72076, 41.32079, 41.21681, 41.56597308, 41.60641, 41.68328, 41.12525, 41.53497107, 41.93734164],\n",
    "    '2009':[41.63949694, 42.98309374, 41.34252738, 42.57016896, 41.1654233, 42.14922049, 41.67782262, 41.34894618, 40.82485432, 40.60529, 41.72182774, 41.29478127, 40.47838, 40.90425, 40.90946, 41.29688741, 41.42038459, 41.14385, 43.01770743, 41.65548967, 41.98457348, 41.48639, 41.66574002, 41.91708508, 42.31086, 41.89925, 41.82932, 42.36724923, 42.8337, 41.61464761, 42.14536, 41.91569, 42.01689006, 42.04954, 42.00081, 40.91390027, 40.8552717, 40.12104, 41.18901979, 41.39717327, 41.44383, 41.38588, 41.25379, 41.54796, 41.43915579, 41.13021, 41.54951, 41.72216, 40.62536, 41.44000545, 42.0110358, 42.03216628, 41.73747, 41.38021, 41.18216, 41.54929978, 41.61052, 41.61879, 41.13542, 41.47349391, 41.79156731],\n",
    "    '2010':[41.64527427, 42.26671348, 41.35293206, 42.28311527, 41.21427866, 42.16562854, 41.75354552, 41.40372087, 40.89389467, 40.71613, 41.72457066, 41.37818845, 40.45797, 40.96458, 40.97601, 41.25280152, 41.5288795, 41.12155, 43.142338, 41.58172978, 41.87959845, 41.42867, 41.71299462, 41.86886, 42.29183, 41.9588, 41.70714, 42.46185915, 42.80663, 41.89799477, 42.36942, 42.06153, 42.2629111, 42.43, 42.18062, 40.9575993, 40.8764358, 40.08676, 41.26710191, 41.32329215, 41.37772, 41.20456, 41.3038, 41.6097, 41.54179233, 41.42257, 41.65101, 41.73242, 40.58368, 41.54378458, 42.03434098, 42.05697961, 41.74125, 41.42074, 41.45257, 41.52160473, 41.51817, 41.74478, 41.01266, 41.49021468, 41.83558876],\n",
    "    '2011':[41.69776018, 42.89966856, 41.40400845, 42.46550391, 41.2457176, 42.20912182, 41.78431167, 41.47556954, 40.96413653, 40.69048, 41.7889029, 41.3702853, 40.49022, 41.07943, 41.00738, 41.22187635, 41.50208462, 41.17578, 43.12630691, 41.67751974, 42.04682943, 41.48775, 41.73131277, 41.91608803, 42.39085, 42.01629, 41.73503, 42.38475862, 42.7891, 41.97986519, 42.07914, 42.04469, 42.33941069, 42.51858, 42.25117, 40.99544944, 40.95049086, 40.25759, 41.24728927, 41.45979953, 41.4721, 41.51726, 41.33739, 41.74741, 41.49713145, 41.28987, 41.54871, 41.73417, 40.57541, 41.59210915, 42.12162266, 42.14422975, 41.82894, 41.31664, 41.43991, 41.49151356, 41.48566, 41.71249, 40.99764, 41.57890702, 41.96510391],\n",
    "    '2012':[41.69053485, 42.96083812, 41.36277887, 42.22727921, 41.25125413, 42.18618305, 41.7805152, 41.406524, 41.02913146, 40.71132, 41.65334095, 41.43352659, 40.48532, 41.04482, 41.09306, 41.22623244, 41.51652711, 41.1073, 43.15281169, 41.5338158, 41.83656144, 41.37825, 41.73219672, 41.90346309, 42.30641, 41.94429, 41.77713, 42.3358687, 42.74475, 41.88706289, 41.99267, 42.0336, 42.37419352, 42.54813, 42.28853, 40.95532936, 40.83562466, 40.36852, 41.19228376, 41.52042114, 41.54647, 41.52173, 41.42971, 41.48821, 41.45080075, 41.3476, 41.53607, 41.57648, 40.55928, 41.57434092, 42.09516519, 42.12618478, 41.69357, 41.4421, 41.42191, 41.51967212, 41.47171, 41.75935, 41.15463, 41.64868836, 41.94273083],\n",
    "    '2013':[41.68490733, 42.83769643, 41.37596981, 42.20569453, 41.26928905, 42.23377333, 41.68148832, 41.49788912, 40.96782179, 40.70785, 41.66985913, 41.3934543, 40.48848, 41.12758, 41.01208, 41.21027276, 41.40375393, 41.18986, 43.12249424, 41.51523927, 41.79964604, 41.37531, 41.72306724, 41.91165898, 42.31969, 41.94519, 41.77869, 42.39570192, 42.82637, 41.86375052, 41.95046, 42.05049, 42.37382049, 42.56189, 42.28896, 40.96523043, 40.84946458, 40.3802, 41.17871327, 41.50111329, 41.50732, 41.48373, 41.50339, 41.47857, 41.45255092, 41.4175, 41.39097, 41.62007, 40.81326, 41.51930487, 41.9743506, 42.14210548, 41.67963, 41.41989, 41.48074, 41.52428547, 41.52152, 41.69666, 41.21751, 41.7105608, 41.9323978],\n",
    "    '2014':[41.6663703, 42.75956958, 41.35906942, 42.19954349, 41.26342196, 42.25948186, 41.61439186, 41.56737214, 40.99346726, 40.5975, 41.66983903, 41.29894172, 40.48759, 40.93655, 40.9848, 41.60016231, 41.50408554, 41.24193, 43.1041709, 41.46204989, 41.75161747, 41.31976, 41.70805459, 41.90764602, 42.30084, 41.95448, 41.76935, 42.4361608, 42.86273, 41.89939512, 42.01961, 42.06413, 42.38816168, 42.60589, 42.29052, 41.03519144, 41.09112593, 40.39584, 41.1852993, 41.4181976, 41.46447, 41.25514, 41.44814, 41.50111, 41.41697183, 41.39638, 41.22514, 41.67398, 40.78824, 41.49797139, 41.96935861, 42.14653443, 41.62734, 41.4692, 41.39647, 41.5132754, 41.52322, 41.6203, 41.27965, 41.86763544, 41.80748591],\n",
    "    '2015':[41.68274825, 42.84937942, 41.38989641, 42.35984052, 41.34190543, 42.2262608, 41.77358743, 41.66480612, 41.0087425, 40.57642, 41.73042626, 41.43181149, 40.52198, 41.2123, 41.2452, 41.63747396, 41.49219179, 41.21378, 43.04345032, 41.40159962, 41.68464903, 41.26393, 41.71745656, 41.89185698, 42.27951, 41.95074, 41.74314, 42.42012027, 42.83703, 42.00468581, 41.97995, 42.04265, 42.38526517, 42.60845, 42.2837, 41.07465012, 40.99176143, 40.4006, 41.28586069, 41.4823194, 41.47175, 41.45319, 41.53115, 41.55262, 41.46020921, 41.42041, 41.25984, 41.68531, 40.75773, 41.64916399, 41.91791644, 42.10765468, 41.57833, 41.48844, 41.39847, 41.52239003, 41.49764, 41.68459, 41.3228, 41.86658854, 41.90999984],\n",
    "    '2016':[41.70140577, 42.82512215, 41.38104558, 42.42092839, 41.33589588, 42.25411637, 41.66090667, 41.72980951, 41.41476073, 40.43776, 41.74513182, 41.45705564, 40.54016, 41.04577, 41.13931, 41.13509682, 41.53212526, 41.2241, 42.95062506, 41.38626409, 41.60713736, 41.27881, 41.7451025, 41.93778311, 42.3224, 42.03921, 41.75822, 42.41897643, 42.90678, 41.92707325, 41.83163, 42.05202, 42.4072359, 42.58243, 42.32949, 41.04498874, 40.94625522, 40.378, 41.2614234, 41.53955804, 41.59361, 41.44827, 41.50287, 41.47387, 41.52555532, 41.45892, 41.43955, 41.71098, 40.69638, 41.69488717, 41.92120066, 42.11806923, 41.56484, 41.4621, 41.43441, 41.56580389, 41.59293, 41.70802, 41.22221, 41.85877037, 41.97840448],\n",
    "    '2017':[41.69132722, 42.6297354, 41.34594185, 42.65426811, 41.29957947, 42.22939937, 41.61775777, 41.73714492, 41.31357519, 40.43222, 41.68560916, 41.43153271, 40.47137, 40.93648, 41.08315, 41.02908706, 41.57502587, 41.18677, 42.88530719, 41.34928241, 41.60589059, 41.22811, 41.74893612, 41.92609063, 42.29972, 41.78863, 41.92237, 42.43528723, 42.9136, 41.89711989, 41.87796, 42.06118, 42.45601154, 42.64666, 42.37238, 41.03778697, 40.92641168, 40.34976, 41.27900409, 41.50871084, 41.59633, 41.22966, 41.55927, 41.66534, 41.52912025, 41.56459, 41.43512, 41.68702, 40.70344, 41.63141615, 41.93436578, 42.12748004, 41.5653, 41.46786, 41.40524, 41.56839559, 41.57768, 41.71406, 41.28935, 41.9360592, 42.02345542],\n",
    "    '2018':[41.68553783, 42.8515483, 41.33811913, 42.65758609, 41.2875942, 42.20643119, 41.63364702, 41.77257419, 41.25679209, 40.44605, 41.69622949, 41.36571116, 40.47147, 40.9493, 41.05453, 41.01822916, 41.552874, 41.17039, 43.03690096, 41.33945195, 41.61383552, 41.21076, 41.73298639, 41.92819522, 42.27618, 42.02829, 41.75682, 42.41374415, 42.78443, 41.99285193, 42.03988, 42.07963, 42.42671068, 42.65618, 42.32718, 41.04324224, 40.88494136, 40.41251, 41.27514214, 41.50936139, 41.63876, 41.25306, 41.45626, 41.61317, 41.49363604, 41.46864, 41.24419, 41.69345, 40.82295, 41.7910669, 41.93681474, 42.15972544, 41.52786, 41.50461, 41.38553, 41.57014069, 41.55823, 41.74799, 41.31577, 41.9144178, 41.84379439],\n",
    "    '2019':[41.68590754, 43.14416623, 41.30942694, 42.46946429, 41.27455855, 42.17914124, 41.62011472, 41.74069857, 41.30902418, 40.41444, 41.63607716, 41.39580043, 40.47896, 40.84519, 41.01408, 40.93153796, 41.60325541, 41.14801, 42.95545753, 41.28355938, 41.55912336, 41.15503, 41.72870325, 41.90454888, 42.27214, 41.9904, 41.73755, 42.39516937, 42.73916, 41.9657957, 42.0164, 42.1172, 42.42633768, 42.62561, 42.34071, 41.00056323, 40.85432958, 40.46726, 41.18867751, 41.49172222, 41.5467, 41.32239, 41.52488, 41.67187, 41.54734902, 41.55473, 41.47582, 41.68928, 40.79317, 41.67800523, 41.86487553, 42.07568675, 41.49836, 41.58437, 41.44241, 41.57458722, 41.56957, 41.78089, 41.25294, 41.72248321, 41.82114729],\n",
    "    '2020':[41.69615701, 43.22707611, 41.30476877, 42.39258197, 41.27783553, 42.19575892, 41.70851974, 41.74911355, 41.20317035, 40.41176, 41.64654117, 41.36311939, 40.56528, 40.82677, 41.00998, 41.03844379, 41.5926928, 41.14671, 42.90501929, 41.2662673, 41.55289773, 41.13372, 41.74119534, 41.91149512, 42.26695, 42.01536, 41.73402, 42.41194036, 42.72073, 42.02163835, 42.11782, 42.09892, 42.48657151, 42.72619, 42.38563, 41.04897761, 40.93076919, 40.48398, 41.22359748, 41.51590532, 41.52673, 41.40041, 41.57786, 41.58269, 41.62513955, 41.52213, 41.70097, 41.69473, 40.97845, 41.73993595, 41.83806234, 42.03756648, 41.49934, 41.62244, 41.46966, 41.54949873, 41.5525, 41.70301, 41.29011, 41.68737301, 41.82666124],\n",
    "    '2021':[41.70402195, 43.28493039, 41.31154782, 42.38986581, 41.28408805, 42.19454862, 41.80572464, 41.76110806, 41.21268567, 40.52297, 41.66247719, 41.32522455, 40.54261, 40.87308, 41.0824, 41.00561578, 41.51782658, 41.22306, 42.91486025, 41.26499732, 41.53796329, 41.13965, 41.74747679, 41.92327681, 42.29163, 42.03995, 41.73122, 42.41936288, 42.71537, 41.96749494, 42.17934, 42.08287, 42.51747689, 42.77873, 42.40817, 41.10201153, 40.98511513, 40.60808, 41.24858365, 41.52632806, 41.56223, 41.46349, 41.51121, 41.59693, 41.63059679, 41.40153, 41.73769, 41.73132, 41.05249, 41.75957991, 41.84565001, 42.05931912, 41.47628, 41.57416, 41.40797, 41.58963454, 41.58209, 41.81614, 41.25979, 41.61147361, 41.88018543],\n",
    "    '2022':[41.6944123, 43.38451548, 41.28927145, 42.43141271, 41.25644706, 42.20048003, 41.84034254, 41.78572639, 41.12940596, 40.49089, 41.60345163, 41.30745711, 40.49015, 40.85936, 41.02153, 40.96536623, 41.52319905, 41.20432, 43.03887566, 41.24171165, 41.51164344, 41.11881, 41.73590552, 41.89933543, 42.24492, 42.02191, 41.71249, 42.43128224, 42.74728, 42.01492855, 42.13897, 42.08058, 42.48741023, 42.73192, 42.38913, 41.121261, 40.97150658, 40.57926, 41.27960296, 41.58486059, 41.63944, 41.41605, 41.61286, 41.62238, 41.60694379, 41.45849, 41.65889, 41.70078, 40.7896, 41.87456906, 41.8452464, 42.04338503, 41.48359, 41.55934, 41.44283, 41.57474293, 41.57821, 41.75435, 41.27899, 41.66769488, 41.82278643],\n",
    "    '2023':[41.6944123, 43.38451548, 41.28927145, 42.43141271, 41.25644706, 42.20048003, 41.84034254, 41.78572639, 41.12940596, 40.49089, 41.60345163, 41.30745711, 40.49015, 40.85936, 41.02153, 40.96536623, 41.52319905, 41.20432, 43.03887566, 41.24171165, 41.51164344, 41.11881, 41.73590552, 41.89933543, 42.24492, 42.02191, 41.71249, 42.43128224, 42.74728, 42.01492855, 42.13897, 42.08058, 42.48741023, 42.73192, 42.38913, 41.121261, 40.97150658, 40.57926, 41.27960296, 41.58486059, 41.63944, 41.41605, 41.61286, 41.62238, 41.60694379, 41.45849, 41.65889, 41.70078, 40.7896, 41.87456906, 41.8452464, 42.04338503, 41.48359, 41.55934, 41.44283, 41.57474293, 41.57821, 41.75435, 41.27899, 41.66769488, 41.82278643]\n",
    "}\n",
    "duree_travail = pd.DataFrame(data)"
   ],
   "id": "f4c0a9beec8088d7",
   "outputs": [],
   "execution_count": 68
  },
  {
   "metadata": {},
   "cell_type": "markdown",
   "source": "## Calcul Parallel RS",
   "id": "889d3de4735367e7"
  },
  {
   "metadata": {
    "ExecuteTime": {
     "end_time": "2025-03-27T09:25:31.827950Z",
     "start_time": "2025-03-27T09:25:31.822340Z"
    }
   },
   "cell_type": "code",
   "source": [
    "for i in range(3):\n",
    "    print('Hello world')"
   ],
   "id": "863c6f96f2c02561",
   "outputs": [
    {
     "name": "stdout",
     "output_type": "stream",
     "text": [
      "Hello world\n",
      "Hello world\n",
      "Hello world\n"
     ]
    }
   ],
   "execution_count": 2
  },
  {
   "metadata": {},
   "cell_type": "markdown",
   "source": "## Calcul Double ESS",
   "id": "424b311b05d1b2ad"
  },
  {
   "metadata": {},
   "cell_type": "markdown",
   "source": "### Fonction de calcul",
   "id": "ef5e6e6c60ddf4fb"
  },
  {
   "metadata": {
    "ExecuteTime": {
     "end_time": "2025-03-27T14:35:35.135896Z",
     "start_time": "2025-03-27T14:35:35.132730Z"
    }
   },
   "cell_type": "code",
   "source": [
    "def indexation_t39(beneficiary, evo_salaires):\n",
    "    # Get the value of C1, which is beneficiary[\"ess\"]\n",
    "    c1 = beneficiary[\"ess\"]\n",
    "\n",
    "    # Get the maximum value from the \"année\" column in evo_salaires\n",
    "    max_annee = evo_salaires[\"année\"].max()\n",
    "\n",
    "    # Apply the logic based on the Excel formula\n",
    "    if c1 == \"année\":\n",
    "        return \"\"\n",
    "    elif c1 > max_annee:\n",
    "        return max_annee\n",
    "    else:\n",
    "        return c1"
   ],
   "id": "f36b22b004cf9b9",
   "outputs": [],
   "execution_count": 69
  },
  {
   "metadata": {
    "ExecuteTime": {
     "end_time": "2025-03-27T14:35:37.176536Z",
     "start_time": "2025-03-27T14:35:37.172552Z"
    }
   },
   "cell_type": "code",
   "source": [
    "def heures_hebdo(beneficiary, duree_travail, evo_salaires):\n",
    "    # Check if C21 (beneficiary['branche']) is empty\n",
    "    if not beneficiary['branche']:  # Adjust based on your DataFrame structure\n",
    "        return \"\"\n",
    "\n",
    "    # Find the matching row and column for the INDEX function\n",
    "    row_index = duree_travail[duree_travail['id'] == beneficiary['branche']].index[0]\n",
    "\n",
    "    # Find the column index based on the header matching C11 (index_t39)\n",
    "    column_index = duree_travail.columns.get_loc(f\"{indexation_t39(beneficiary, evo_salaires)}\")\n",
    "\n",
    "    # Use row_index and column_index to retrieve the value\n",
    "    return duree_travail.iloc[row_index, column_index]"
   ],
   "id": "10e5d4587e21460e",
   "outputs": [],
   "execution_count": 70
  },
  {
   "metadata": {
    "ExecuteTime": {
     "end_time": "2025-03-27T17:08:43.687820Z",
     "start_time": "2025-03-27T17:08:43.684987Z"
    }
   },
   "cell_type": "code",
   "source": [
    "def calc_salaire_annuel(beneficiary, duree_travail, evo_salaires):\n",
    "    return beneficiary['salaire_ofs']['salaire'] * heures_hebdo(beneficiary, duree_travail, evo_salaires) / 40 * 12"
   ],
   "id": "df2e2dea50446f8a",
   "outputs": [],
   "execution_count": 129
  },
  {
   "metadata": {
    "ExecuteTime": {
     "end_time": "2025-03-27T17:04:36.228318Z",
     "start_time": "2025-03-27T17:04:36.223482Z"
    }
   },
   "cell_type": "code",
   "source": [
    "# Function to calculate indexation_annees\n",
    "def calculate_indexation(beneficiary, salaire_annuel, evo_salaires, evo_salaires_p23, year):\n",
    "    if salaire_annuel not in [False, None, '']:\n",
    "        indexation_annees = []\n",
    "        base_index = evo_salaires[evo_salaires['année'] == year].iloc[0][beneficiary['sexe']]\n",
    "\n",
    "        # Check if beneficiary['ess'] is in evo_salaires['année']\n",
    "        if beneficiary['ess'] in evo_salaires['année'].values:\n",
    "            year_data = evo_salaires[evo_salaires['année'] == beneficiary['ess']].iloc[0]\n",
    "            indexation_annees.append({\n",
    "                'année': year_data['année'],\n",
    "                'indice': year_data[beneficiary['sexe']],\n",
    "                'revenu': salaire_annuel / base_index * year_data[beneficiary['sexe']]\n",
    "            })\n",
    "        # Check if beneficiary['ess'] is in evo_salaires_p23['année']\n",
    "        elif beneficiary['ess'] in evo_salaires_p23['année'].values:\n",
    "            # Add last year's data from evo_salaires\n",
    "            last_year_data = evo_salaires.iloc[-1]\n",
    "            indexation_annees.append({\n",
    "                'année': last_year_data['année'],\n",
    "                'indice': last_year_data[beneficiary['sexe']],\n",
    "                'revenu': salaire_annuel / base_index * last_year_data[beneficiary['sexe']]\n",
    "            })\n",
    "            # Add the data from evo_salaires_p23 for the beneficiary['ess']s up to 'ess'\n",
    "            for beneficiary['ess'] in evo_salaires_p23[evo_salaires_p23['année'] <= beneficiary['ess']]['année']:\n",
    "                year_data = evo_salaires_p23[evo_salaires_p23['année'] == beneficiary['ess']].iloc[0]\n",
    "                previous_revenu = indexation_annees[-1]['revenu']\n",
    "                indexation_annees.append({\n",
    "                    'année': year_data['année'],\n",
    "                    'indice': year_data[beneficiary['sexe']],\n",
    "                    'revenu': previous_revenu * year_data[beneficiary['sexe']]/100 + previous_revenu\n",
    "                })\n",
    "\n",
    "        return indexation_annees\n",
    "    else:\n",
    "        return None"
   ],
   "id": "605fd1379cbffbc9",
   "outputs": [],
   "execution_count": 122
  },
  {
   "metadata": {
    "ExecuteTime": {
     "end_time": "2025-03-27T16:46:52.509545Z",
     "start_time": "2025-03-27T16:46:52.505740Z"
    }
   },
   "cell_type": "code",
   "source": [
    "def calc_deduction(beneficiary, salaire):\n",
    "    annee = beneficiary['ess']\n",
    "    d31 = beneficiary['horaire']\n",
    "    d32 = beneficiary['diminution']\n",
    "    d34 = beneficiary['abattement']\n",
    "    deducted = salaire\n",
    "    if annee < 2024 and (d31 - (d31 * d32)) <= 0.5:\n",
    "        deducted -= salaire * 0.1\n",
    "    elif annee < 2024 and (d31 - (d31 * d32)) > 0.5:\n",
    "        deducted -= salaire * 0\n",
    "    elif annee >= 2024 and (d31 - (d31 * d32)) <= 0.5:\n",
    "        deducted -= salaire * 0.2\n",
    "    else:\n",
    "        deducted -= salaire * 0.1\n",
    "\n",
    "    if d34 not in [False, None, '', 0]:\n",
    "        deducted -= deducted * d34/100\n",
    "    return  deducted"
   ],
   "id": "47692e6475d1e02",
   "outputs": [],
   "execution_count": 110
  },
  {
   "metadata": {
    "ExecuteTime": {
     "end_time": "2025-03-27T17:31:36.629543Z",
     "start_time": "2025-03-27T17:31:36.625948Z"
    }
   },
   "cell_type": "code",
   "source": [
    "def calc_salaire_exigible(beneficiary, indexation):\n",
    "    salaire_base = max([i['revenu'] for i in indexation]) * beneficiary['horaire'] / 100\n",
    "    diminution_rendement = salaire_base - salaire_base * beneficiary['diminution'] / 100\n",
    "    exigible = calc_deduction(beneficiary, diminution_rendement)\n",
    "    return exigible"
   ],
   "id": "9ecfe1ea99594ee7",
   "outputs": [],
   "execution_count": 160
  },
  {
   "metadata": {
    "ExecuteTime": {
     "end_time": "2025-03-27T17:31:41.421657Z",
     "start_time": "2025-03-27T17:31:41.418172Z"
    }
   },
   "cell_type": "code",
   "source": [
    "def calc_ri(beneficiary, indexation_se, salaire_exigible):\n",
    "    c1 = beneficiary['ess']\n",
    "\n",
    "    max_indexation = max([i['revenu'] for i in indexation_se])\n",
    "    print(f'{max_indexation} < {salaire_exigible}')\n",
    "    if (c1 < 2024 or c1 > 2023) and max_indexation < salaire_exigible:\n",
    "        return salaire_exigible\n",
    "    else:\n",
    "        return max_indexation"
   ],
   "id": "18451e4dd9a30e55",
   "outputs": [],
   "execution_count": 161
  },
  {
   "metadata": {},
   "cell_type": "markdown",
   "source": "### RS",
   "id": "e1615d9d75e4e22d"
  },
  {
   "metadata": {
    "ExecuteTime": {
     "end_time": "2025-03-27T17:08:48.005251Z",
     "start_time": "2025-03-27T17:08:47.998787Z"
    }
   },
   "cell_type": "code",
   "source": [
    "indexation = calculate_indexation(beneficiary, calc_salaire_annuel(beneficiary, duree_travail, evo_salaires), evo_salaires, evo_salaires_p23, beneficiary['salaire_ofs']['année'])\n",
    "\n",
    "indexation"
   ],
   "id": "9bba61a9bc5d5f34",
   "outputs": [
    {
     "data": {
      "text/plain": [
       "[{'année': 2023, 'indice': 2343, 'revenu': 111001.33947666363},\n",
       " {'année': 2024.0, 'indice': 1.7, 'revenu': 112888.36224776691}]"
      ]
     },
     "execution_count": 130,
     "metadata": {},
     "output_type": "execute_result"
    }
   ],
   "execution_count": 130
  },
  {
   "metadata": {},
   "cell_type": "markdown",
   "source": "### RI",
   "id": "a819c8db16e7cd05"
  },
  {
   "metadata": {},
   "cell_type": "markdown",
   "source": "#### Salaire effectif",
   "id": "fa90e885da6c072c"
  },
  {
   "metadata": {
    "ExecuteTime": {
     "end_time": "2025-03-27T17:24:07.979167Z",
     "start_time": "2025-03-27T17:24:07.973605Z"
    }
   },
   "cell_type": "code",
   "source": [
    "indexation_se = calculate_indexation(beneficiary, beneficiary['salaire_effectif'], evo_salaires, evo_salaires_p23, beneficiary['annee_se'])\n",
    "\n",
    "indexation_se"
   ],
   "id": "81150d0033276034",
   "outputs": [
    {
     "data": {
      "text/plain": [
       "[{'année': 2023, 'indice': 2343, 'revenu': 100000.0},\n",
       " {'année': 2024.0, 'indice': 1.7, 'revenu': 101700.0}]"
      ]
     },
     "execution_count": 144,
     "metadata": {},
     "output_type": "execute_result"
    }
   ],
   "execution_count": 144
  },
  {
   "metadata": {},
   "cell_type": "markdown",
   "source": "#### Salaire exigible",
   "id": "263f319c123c2584"
  },
  {
   "metadata": {
    "ExecuteTime": {
     "end_time": "2025-03-27T17:28:35.382405Z",
     "start_time": "2025-03-27T17:28:35.379504Z"
    }
   },
   "cell_type": "code",
   "source": [
    "se = calc_salaire_exigible(beneficiary, indexation)\n",
    "\n",
    "se"
   ],
   "id": "f1fd0c5e0d0006fb",
   "outputs": [
    {
     "name": "stdout",
     "output_type": "stream",
     "text": [
      "42897.57765415143\n"
     ]
    }
   ],
   "execution_count": 155
  },
  {
   "metadata": {},
   "cell_type": "markdown",
   "source": "### Préjudice économique",
   "id": "663bebd79e84bc9a"
  },
  {
   "metadata": {
    "ExecuteTime": {
     "end_time": "2025-03-27T17:34:00.336520Z",
     "start_time": "2025-03-27T17:34:00.333228Z"
    }
   },
   "cell_type": "code",
   "source": [
    "rs = max([i['revenu'] for i in indexation])\n",
    "# print(se)\n",
    "ri = calc_ri(beneficiary, indexation_se, calc_salaire_exigible(beneficiary, indexation))\n",
    "prejudice = rs - ri\n",
    "prejudice_pourcentage = prejudice / rs * 100"
   ],
   "id": "bc69fe167d2d349c",
   "outputs": [
    {
     "name": "stdout",
     "output_type": "stream",
     "text": [
      "101700.0 < 42897.57765415143\n"
     ]
    }
   ],
   "execution_count": 165
  },
  {
   "metadata": {
    "ExecuteTime": {
     "end_time": "2025-03-27T17:35:29.210542Z",
     "start_time": "2025-03-27T17:35:29.206798Z"
    }
   },
   "cell_type": "code",
   "source": [
    "print(f\"Revenu sans invalidité RS: {round(rs, 2)} CHF\")\n",
    "print(f\"Salaire exigible RI: {round(ri, 2)} CHF\")\n",
    "print(f\"Préjudice économique: {round(prejudice, 2)} CHF\")\n",
    "print(f\"Préjudice économique en %: {round(prejudice_pourcentage, 2)}%\")"
   ],
   "id": "bde59cff55ca4bb9",
   "outputs": [
    {
     "name": "stdout",
     "output_type": "stream",
     "text": [
      "Revenu sans invalidité RS: 112888.36 CHF\n",
      "Salaire exigible RI: 101700.0 CHF\n",
      "Préjudice économique: 11188.36 CHF\n",
      "Préjudice économique en %: 9.91%\n"
     ]
    }
   ],
   "execution_count": 169
  }
 ],
 "metadata": {
  "kernelspec": {
   "name": "python3",
   "language": "python",
   "display_name": "Python 3 (ipykernel)"
  }
 },
 "nbformat": 5,
 "nbformat_minor": 9
}
